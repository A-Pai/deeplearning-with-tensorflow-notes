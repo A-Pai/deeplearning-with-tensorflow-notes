{
 "cells": [
  {
   "cell_type": "markdown",
   "metadata": {
    "collapsed": true
   },
   "source": [
    "# TensorFlow基础"
   ]
  },
  {
   "cell_type": "code",
   "execution_count": 1,
   "metadata": {},
   "outputs": [],
   "source": [
    "import tensorflow as tf\n",
    "import tensorflow.keras as keras\n",
    "import tensorflow.keras.layers as layers\n",
    "\n",
    "physical_devices = tf.config.experimental.list_physical_devices('GPU')\n",
    "assert len(physical_devices) > 0, \"Not enough GPU hardware devices available\"\n",
    "tf.config.experimental.set_memory_growth(physical_devices[0], True)"
   ]
  },
  {
   "cell_type": "markdown",
   "metadata": {},
   "source": [
    "## 数据类型\n",
    "\n",
    "### 数值类型\n",
    "\n",
    "标量在 TensorFlow 是如何创建的"
   ]
  },
  {
   "cell_type": "code",
   "execution_count": 2,
   "metadata": {},
   "outputs": [
    {
     "data": {
      "text/plain": [
       "(float, tensorflow.python.framework.ops.EagerTensor, True)"
      ]
     },
     "execution_count": 2,
     "metadata": {},
     "output_type": "execute_result"
    }
   ],
   "source": [
    "# python 语言方式创建标量\n",
    "a = 1.2 \n",
    "# TF 方式创建标量\n",
    "aa = tf.constant(1.2)\n",
    "\n",
    "type(a), type(aa), tf.is_tensor(aa)"
   ]
  },
  {
   "cell_type": "markdown",
   "metadata": {},
   "source": [
    "如果要使用 TensorFlow 提供的功能函数， 须通过 TensorFlow 规定的方式去创建张量，而不能使用 Python 语言的标准变量创建方式。"
   ]
  },
  {
   "cell_type": "code",
   "execution_count": 3,
   "metadata": {},
   "outputs": [
    {
     "data": {
      "text/plain": [
       "<tf.Tensor: id=1, shape=(3,), dtype=float32, numpy=array([1. , 2. , 3.3], dtype=float32)>"
      ]
     },
     "execution_count": 3,
     "metadata": {},
     "output_type": "execute_result"
    }
   ],
   "source": [
    "x = tf.constant([1,2.,3.3])\n",
    "# 打印 TF 张量的相关信息                \n",
    "x"
   ]
  },
  {
   "cell_type": "code",
   "execution_count": 4,
   "metadata": {},
   "outputs": [
    {
     "data": {
      "text/plain": [
       "array([1. , 2. , 3.3], dtype=float32)"
      ]
     },
     "execution_count": 4,
     "metadata": {},
     "output_type": "execute_result"
    }
   ],
   "source": [
    "# 将 TF 张量的数据导出为 numpy 数组格式\n",
    "x.numpy() "
   ]
  },
  {
   "cell_type": "markdown",
   "metadata": {},
   "source": [
    "与标量不同，向量的定义须通过 List 容器传给 tf.constant()函数。\n",
    "\n",
    "创建一个元素的向量："
   ]
  },
  {
   "cell_type": "code",
   "execution_count": 5,
   "metadata": {},
   "outputs": [
    {
     "data": {
      "text/plain": [
       "(<tf.Tensor: id=2, shape=(1,), dtype=float32, numpy=array([1.2], dtype=float32)>,\n",
       " TensorShape([1]))"
      ]
     },
     "execution_count": 5,
     "metadata": {},
     "output_type": "execute_result"
    }
   ],
   "source": [
    "# 创建一个元素的向量\n",
    "a = tf.constant([1.2]) \n",
    "a, a.shape"
   ]
  },
  {
   "cell_type": "markdown",
   "metadata": {},
   "source": [
    "创建 3 个元素的向量："
   ]
  },
  {
   "cell_type": "code",
   "execution_count": 6,
   "metadata": {},
   "outputs": [
    {
     "data": {
      "text/plain": [
       "(<tf.Tensor: id=3, shape=(3,), dtype=float32, numpy=array([1., 2., 3.], dtype=float32)>,\n",
       " TensorShape([3]))"
      ]
     },
     "execution_count": 6,
     "metadata": {},
     "output_type": "execute_result"
    }
   ],
   "source": [
    " # 创建 3 个元素的向量\n",
    "a = tf.constant([1,2, 3.])\n",
    "a, a.shape"
   ]
  },
  {
   "cell_type": "markdown",
   "metadata": {},
   "source": [
    "定义矩阵"
   ]
  },
  {
   "cell_type": "code",
   "execution_count": 7,
   "metadata": {},
   "outputs": [
    {
     "data": {
      "text/plain": [
       "(<tf.Tensor: id=4, shape=(2, 2), dtype=int32, numpy=\n",
       " array([[1, 2],\n",
       "        [3, 4]])>, TensorShape([2, 2]))"
      ]
     },
     "execution_count": 7,
     "metadata": {},
     "output_type": "execute_result"
    }
   ],
   "source": [
    "# 创建 2 行 2 列的矩阵\n",
    "a = tf.constant([[1,2],[3,4]]) \n",
    "a, a.shape"
   ]
  },
  {
   "cell_type": "markdown",
   "metadata": {},
   "source": [
    "三维张量可以定义为："
   ]
  },
  {
   "cell_type": "code",
   "execution_count": 8,
   "metadata": {},
   "outputs": [
    {
     "data": {
      "text/plain": [
       "<tf.Tensor: id=5, shape=(2, 2, 2), dtype=int32, numpy=\n",
       "array([[[1, 2],\n",
       "        [3, 4]],\n",
       "\n",
       "       [[5, 6],\n",
       "        [7, 8]]])>"
      ]
     },
     "execution_count": 8,
     "metadata": {},
     "output_type": "execute_result"
    }
   ],
   "source": [
    "# 创建 3 维张量\n",
    "tf.constant([[[1,2],[3,4]],[[5,6],[7,8]]]) "
   ]
  },
  {
   "cell_type": "markdown",
   "metadata": {},
   "source": [
    "通过传入字符串对象即可创建字符串类型的张量"
   ]
  },
  {
   "cell_type": "code",
   "execution_count": 9,
   "metadata": {},
   "outputs": [
    {
     "data": {
      "text/plain": [
       "<tf.Tensor: id=6, shape=(), dtype=string, numpy=b'Hello, Deep Learning.'>"
      ]
     },
     "execution_count": 9,
     "metadata": {},
     "output_type": "execute_result"
    }
   ],
   "source": [
    "# 创建字符串\n",
    "a = tf.constant('Hello, Deep Learning.') \n",
    "a"
   ]
  },
  {
   "cell_type": "markdown",
   "metadata": {},
   "source": [
    "### 字符串类型\n",
    "\n",
    "通过传入字符串对象即可创建字符串类型的张量"
   ]
  },
  {
   "cell_type": "code",
   "execution_count": 10,
   "metadata": {},
   "outputs": [
    {
     "data": {
      "text/plain": [
       "<tf.Tensor: id=7, shape=(), dtype=string, numpy=b'Hello, Deep Learning.'>"
      ]
     },
     "execution_count": 10,
     "metadata": {},
     "output_type": "execute_result"
    }
   ],
   "source": [
    "# 创建字符串\n",
    "a = tf.constant('Hello, Deep Learning.') \n",
    "a"
   ]
  },
  {
   "cell_type": "markdown",
   "metadata": {},
   "source": [
    "在 tf.strings 模块中，提供了常见的字符串类型的工具函数，如小写化 lower()、 拼接\n",
    "join()、 长度 length()、 切分 split()等。"
   ]
  },
  {
   "cell_type": "code",
   "execution_count": 11,
   "metadata": {},
   "outputs": [
    {
     "data": {
      "text/plain": [
       "<tf.Tensor: id=8, shape=(), dtype=string, numpy=b'hello, deep learning.'>"
      ]
     },
     "execution_count": 11,
     "metadata": {},
     "output_type": "execute_result"
    }
   ],
   "source": [
    "# 小写化字符串\n",
    "tf.strings.lower(a) "
   ]
  },
  {
   "cell_type": "markdown",
   "metadata": {},
   "source": [
    "### 布尔类型\n",
    "布尔类型的张量只需要传入 Python 语言的布尔类型数据，转换成 TensorFlow 内部布尔型即可。"
   ]
  },
  {
   "cell_type": "code",
   "execution_count": 12,
   "metadata": {},
   "outputs": [
    {
     "data": {
      "text/plain": [
       "<tf.Tensor: id=9, shape=(), dtype=bool, numpy=True>"
      ]
     },
     "execution_count": 12,
     "metadata": {},
     "output_type": "execute_result"
    }
   ],
   "source": [
    "# 创建布尔类型标量\n",
    "tf.constant(True) "
   ]
  },
  {
   "cell_type": "markdown",
   "metadata": {},
   "source": [
    "创建布尔类型的向量"
   ]
  },
  {
   "cell_type": "code",
   "execution_count": 13,
   "metadata": {},
   "outputs": [
    {
     "data": {
      "text/plain": [
       "<tf.Tensor: id=10, shape=(2,), dtype=bool, numpy=array([ True, False])>"
      ]
     },
     "execution_count": 13,
     "metadata": {},
     "output_type": "execute_result"
    }
   ],
   "source": [
    " # 创建布尔类型向量\n",
    "tf.constant([True, False])"
   ]
  },
  {
   "cell_type": "markdown",
   "metadata": {},
   "source": [
    "需要注意的是， TensorFlow 的布尔类型和 Python 语言的布尔类型并不等价，不能通用"
   ]
  },
  {
   "cell_type": "code",
   "execution_count": 14,
   "metadata": {},
   "outputs": [
    {
     "name": "stdout",
     "output_type": "stream",
     "text": [
      "False\n",
      "tf.Tensor(True, shape=(), dtype=bool)\n"
     ]
    }
   ],
   "source": [
    "# 创建 TF 布尔张量\n",
    "a = tf.constant(True) \n",
    "# TF 布尔类型张量与 python 布尔类型比较\n",
    "print(a is True) \n",
    "# 仅数值比较\n",
    "print(a == True) "
   ]
  },
  {
   "cell_type": "markdown",
   "metadata": {},
   "source": [
    "## 数值精度\n",
    "\n",
    "在创建张量时，可以指定张量的保存精度"
   ]
  },
  {
   "cell_type": "code",
   "execution_count": 15,
   "metadata": {},
   "outputs": [
    {
     "data": {
      "text/plain": [
       "<tf.Tensor: id=14, shape=(), dtype=int16, numpy=-13035>"
      ]
     },
     "execution_count": 15,
     "metadata": {},
     "output_type": "execute_result"
    }
   ],
   "source": [
    "# 创建指定精度的张量\n",
    "tf.constant(123456789, dtype=tf.int16)"
   ]
  },
  {
   "cell_type": "code",
   "execution_count": 16,
   "metadata": {},
   "outputs": [
    {
     "data": {
      "text/plain": [
       "<tf.Tensor: id=15, shape=(), dtype=int32, numpy=123456789>"
      ]
     },
     "execution_count": 16,
     "metadata": {},
     "output_type": "execute_result"
    }
   ],
   "source": [
    "tf.constant(123456789, dtype=tf.int32)"
   ]
  },
  {
   "cell_type": "markdown",
   "metadata": {},
   "source": [
    "对于浮点数， 高精度的张量可以表示更精准的数据，例如采用 tf.float32 精度保存π时，实际保存的数据为 3.1415927"
   ]
  },
  {
   "cell_type": "code",
   "execution_count": 17,
   "metadata": {},
   "outputs": [
    {
     "data": {
      "text/plain": [
       "<tf.Tensor: id=16, shape=(), dtype=float32, numpy=3.1415927>"
      ]
     },
     "execution_count": 17,
     "metadata": {},
     "output_type": "execute_result"
    }
   ],
   "source": [
    "import numpy as np\n",
    "# 从 numpy 中导入 pi 常量\n",
    "np.pi \n",
    "# 32 位\n",
    "tf.constant(np.pi, dtype=tf.float32) "
   ]
  },
  {
   "cell_type": "markdown",
   "metadata": {},
   "source": [
    "如果采用 tf.float64 精度保存π，则能获得更高的精度"
   ]
  },
  {
   "cell_type": "code",
   "execution_count": 18,
   "metadata": {},
   "outputs": [
    {
     "data": {
      "text/plain": [
       "<tf.Tensor: id=17, shape=(), dtype=float64, numpy=3.141592653589793>"
      ]
     },
     "execution_count": 18,
     "metadata": {},
     "output_type": "execute_result"
    }
   ],
   "source": [
    "tf.constant(np.pi, dtype=tf.float64) # 64 位"
   ]
  },
  {
   "cell_type": "markdown",
   "metadata": {},
   "source": [
    "### 读取精度\n",
    "\n",
    "通过访问张量的 dtype 成员属性可以判断张量的保存精度"
   ]
  },
  {
   "cell_type": "code",
   "execution_count": 19,
   "metadata": {},
   "outputs": [
    {
     "name": "stdout",
     "output_type": "stream",
     "text": [
      "before: <dtype: 'float16'>\n",
      "after : <dtype: 'float32'>\n"
     ]
    }
   ],
   "source": [
    "a = tf.constant(np.pi, dtype=tf.float16)\n",
    "\n",
    "# 读取原有张量的数值精度\n",
    "print('before:',a.dtype) \n",
    "# 如果精度不符合要求，则进行转换\n",
    "if a.dtype != tf.float32: \n",
    "    # tf.cast 函数可以完成精度转换\n",
    "    a = tf.cast(a,tf.float32) \n",
    "# 打印转换后的精度\n",
    "print('after :',a.dtype) "
   ]
  },
  {
   "cell_type": "markdown",
   "metadata": {},
   "source": [
    "### 类型转换\n",
    "系统的每个模块使用的数据类型、 数值精度可能各不相同， 对于不符合要求的张量的类型及精度， 需要通过 tf.cast 函数进行转换"
   ]
  },
  {
   "cell_type": "code",
   "execution_count": 20,
   "metadata": {},
   "outputs": [
    {
     "data": {
      "text/plain": [
       "<tf.Tensor: id=21, shape=(), dtype=float64, numpy=3.140625>"
      ]
     },
     "execution_count": 20,
     "metadata": {},
     "output_type": "execute_result"
    }
   ],
   "source": [
    "# 创建 tf.float16 低精度张量\n",
    "a = tf.constant(np.pi, dtype=tf.float16) \n",
    "# 转换为高精度张量\n",
    "tf.cast(a, tf.double) "
   ]
  },
  {
   "cell_type": "markdown",
   "metadata": {},
   "source": [
    "进行类型转换时，需要保证转换操作的合法性， 例如将高精度的张量转换为低精度的张量时，可能发生数据溢出隐患："
   ]
  },
  {
   "cell_type": "code",
   "execution_count": 21,
   "metadata": {},
   "outputs": [
    {
     "data": {
      "text/plain": [
       "<tf.Tensor: id=23, shape=(), dtype=int16, numpy=-13035>"
      ]
     },
     "execution_count": 21,
     "metadata": {},
     "output_type": "execute_result"
    }
   ],
   "source": [
    "a = tf.constant(123456789, dtype=tf.int32)\n",
    "# 转换为低精度整型\n",
    "tf.cast(a, tf.int16) "
   ]
  },
  {
   "cell_type": "markdown",
   "metadata": {},
   "source": [
    "布尔类型与整型之间相互转换也是合法的， 是比较常见的操作"
   ]
  },
  {
   "cell_type": "code",
   "execution_count": 22,
   "metadata": {},
   "outputs": [
    {
     "data": {
      "text/plain": [
       "<tf.Tensor: id=25, shape=(2,), dtype=int32, numpy=array([1, 0])>"
      ]
     },
     "execution_count": 22,
     "metadata": {},
     "output_type": "execute_result"
    }
   ],
   "source": [
    "a = tf.constant([True, False])\n",
    "# 布尔类型转整型\n",
    "tf.cast(a, tf.int32) "
   ]
  },
  {
   "cell_type": "markdown",
   "metadata": {},
   "source": [
    "一般默认 0 表示 False， 1 表示 True，在 TensorFlow 中，将非 0 数字都视为 True，"
   ]
  },
  {
   "cell_type": "code",
   "execution_count": 23,
   "metadata": {},
   "outputs": [
    {
     "data": {
      "text/plain": [
       "<tf.Tensor: id=27, shape=(4,), dtype=bool, numpy=array([ True, False,  True,  True])>"
      ]
     },
     "execution_count": 23,
     "metadata": {},
     "output_type": "execute_result"
    }
   ],
   "source": [
    "a = tf.constant([-1, 0, 1, 2])\n",
    "# 整型转布尔类型\n",
    "tf.cast(a, tf.bool) "
   ]
  },
  {
   "cell_type": "markdown",
   "metadata": {},
   "source": [
    "## 待优化张量\n",
    "\n",
    "TensorFlow 增加了一种专门的数据类型来支持梯度信息的记录： tf.Variable。 tf.Variable 类型在普通的张量类型基础上添加了 name， trainable 等属性来支持计算图的构建。"
   ]
  },
  {
   "cell_type": "code",
   "execution_count": 24,
   "metadata": {},
   "outputs": [
    {
     "data": {
      "text/plain": [
       "('Variable:0', True)"
      ]
     },
     "execution_count": 24,
     "metadata": {},
     "output_type": "execute_result"
    }
   ],
   "source": [
    "# 创建 TF 张量\n",
    "a = tf.constant([-1, 0, 1, 2]) \n",
    "# 转换为 Variable 类型\n",
    "aa = tf.Variable(a) \n",
    "# Variable 类型张量的属性\n",
    "aa.name, aa.trainable "
   ]
  },
  {
   "cell_type": "markdown",
   "metadata": {},
   "source": [
    "name 属性用于命名计算图中的变量，这套命名体系是 TensorFlow 内部维护的， 一般不需要用户关注 name 属性；   \n",
    "trainable属性表征当前张量是否需要被优化，创建 Variable 对象时是默认启用优化标志，可以设置trainable=False 来设置张量不需要优化。"
   ]
  },
  {
   "cell_type": "code",
   "execution_count": 25,
   "metadata": {},
   "outputs": [
    {
     "data": {
      "text/plain": [
       "<tf.Variable 'Variable:0' shape=(2, 2) dtype=int32, numpy=\n",
       "array([[1, 2],\n",
       "       [3, 4]])>"
      ]
     },
     "execution_count": 25,
     "metadata": {},
     "output_type": "execute_result"
    }
   ],
   "source": [
    "# 直接创建 Variable 张量\n",
    "tf.Variable([[1,2],[3,4]]) "
   ]
  },
  {
   "cell_type": "markdown",
   "metadata": {},
   "source": [
    "## 创建张量\n",
    "\n",
    "### 从数组、列表对象创建\n",
    "\n"
   ]
  },
  {
   "cell_type": "markdown",
   "metadata": {},
   "source": [
    "通过 tf.convert_to_tensor 函数可以创建新 Tensor，并将保存在 Python List 对象或者Numpy Array 对象中的数据导入到新 Tensor 中。"
   ]
  },
  {
   "cell_type": "code",
   "execution_count": 26,
   "metadata": {},
   "outputs": [
    {
     "data": {
      "text/plain": [
       "<tf.Tensor: id=44, shape=(2,), dtype=float32, numpy=array([1., 2.], dtype=float32)>"
      ]
     },
     "execution_count": 26,
     "metadata": {},
     "output_type": "execute_result"
    }
   ],
   "source": [
    "# 从列表创建张量\n",
    "tf.convert_to_tensor([1,2.]) "
   ]
  },
  {
   "cell_type": "code",
   "execution_count": 27,
   "metadata": {},
   "outputs": [
    {
     "data": {
      "text/plain": [
       "<tf.Tensor: id=45, shape=(2, 2), dtype=float64, numpy=\n",
       "array([[1., 2.],\n",
       "       [3., 4.]])>"
      ]
     },
     "execution_count": 27,
     "metadata": {},
     "output_type": "execute_result"
    }
   ],
   "source": [
    "# 从数组中创建张量\n",
    "tf.convert_to_tensor(np.array([[1,2.],[3,4]])) "
   ]
  },
  {
   "cell_type": "markdown",
   "metadata": {},
   "source": [
    "### 创建全 0 或全 1 张量"
   ]
  },
  {
   "cell_type": "code",
   "execution_count": 28,
   "metadata": {},
   "outputs": [
    {
     "data": {
      "text/plain": [
       "(<tf.Tensor: id=46, shape=(), dtype=float32, numpy=0.0>,\n",
       " <tf.Tensor: id=47, shape=(), dtype=float32, numpy=1.0>)"
      ]
     },
     "execution_count": 28,
     "metadata": {},
     "output_type": "execute_result"
    }
   ],
   "source": [
    "# 创建全 0，全 1 的标量\n",
    "tf.zeros([]),tf.ones([]) "
   ]
  },
  {
   "cell_type": "code",
   "execution_count": 29,
   "metadata": {},
   "outputs": [
    {
     "data": {
      "text/plain": [
       "(<tf.Tensor: id=50, shape=(1,), dtype=float32, numpy=array([0.], dtype=float32)>,\n",
       " <tf.Tensor: id=53, shape=(1,), dtype=float32, numpy=array([1.], dtype=float32)>)"
      ]
     },
     "execution_count": 29,
     "metadata": {},
     "output_type": "execute_result"
    }
   ],
   "source": [
    "# 创建全 0，全 1 的向量\n",
    "tf.zeros([1]),tf.ones([1]) "
   ]
  },
  {
   "cell_type": "markdown",
   "metadata": {},
   "source": [
    "创建全 0 的矩阵"
   ]
  },
  {
   "cell_type": "code",
   "execution_count": 30,
   "metadata": {},
   "outputs": [
    {
     "data": {
      "text/plain": [
       "<tf.Tensor: id=56, shape=(2, 2), dtype=float32, numpy=\n",
       "array([[0., 0.],\n",
       "       [0., 0.]], dtype=float32)>"
      ]
     },
     "execution_count": 30,
     "metadata": {},
     "output_type": "execute_result"
    }
   ],
   "source": [
    "# 创建全 0 矩阵，指定 shape 为 2 行 2 列\n",
    "tf.zeros([2,2]) "
   ]
  },
  {
   "cell_type": "markdown",
   "metadata": {},
   "source": [
    "创建全 1 的矩阵"
   ]
  },
  {
   "cell_type": "code",
   "execution_count": 31,
   "metadata": {},
   "outputs": [
    {
     "data": {
      "text/plain": [
       "<tf.Tensor: id=59, shape=(3, 2), dtype=float32, numpy=\n",
       "array([[1., 1.],\n",
       "       [1., 1.],\n",
       "       [1., 1.]], dtype=float32)>"
      ]
     },
     "execution_count": 31,
     "metadata": {},
     "output_type": "execute_result"
    }
   ],
   "source": [
    "# 创建全 1 矩阵，指定 shape 为 3 行 2 列\n",
    "tf.ones([3,2]) "
   ]
  },
  {
   "cell_type": "markdown",
   "metadata": {},
   "source": [
    "通过 tf.zeros_like, tf.ones_like 可以方便地新建与某个张量 shape 一致， 且内容为全 0 或全 1 的张量。"
   ]
  },
  {
   "cell_type": "code",
   "execution_count": 32,
   "metadata": {},
   "outputs": [
    {
     "data": {
      "text/plain": [
       "<tf.Tensor: id=63, shape=(2, 3), dtype=float32, numpy=\n",
       "array([[0., 0., 0.],\n",
       "       [0., 0., 0.]], dtype=float32)>"
      ]
     },
     "execution_count": 32,
     "metadata": {},
     "output_type": "execute_result"
    }
   ],
   "source": [
    "# 创建一个矩阵\n",
    "a = tf.ones([2,3]) \n",
    "# 创建一个与 a 形状相同，但是全 0 的新矩阵\n",
    "tf.zeros_like(a) "
   ]
  },
  {
   "cell_type": "markdown",
   "metadata": {},
   "source": [
    "创建与张量A形状一样的全 1 张量"
   ]
  },
  {
   "cell_type": "code",
   "execution_count": 33,
   "metadata": {},
   "outputs": [
    {
     "data": {
      "text/plain": [
       "<tf.Tensor: id=69, shape=(3, 2), dtype=float32, numpy=\n",
       "array([[1., 1.],\n",
       "       [1., 1.],\n",
       "       [1., 1.]], dtype=float32)>"
      ]
     },
     "execution_count": 33,
     "metadata": {},
     "output_type": "execute_result"
    }
   ],
   "source": [
    "# 创建一个矩阵\n",
    "a = tf.zeros([3,2]) \n",
    "# 创建一个与 a 形状相同，但是全 1 的新矩阵\n",
    "tf.ones_like(a) "
   ]
  },
  {
   "cell_type": "markdown",
   "metadata": {},
   "source": [
    "### 创建自定义数值张量\n",
    "\n",
    "通过 tf.fill(shape, value)可以创建全为自定义数值 value 的张量，形状由 shape 参数指定。"
   ]
  },
  {
   "cell_type": "code",
   "execution_count": 34,
   "metadata": {},
   "outputs": [
    {
     "data": {
      "text/plain": [
       "<tf.Tensor: id=72, shape=(), dtype=int32, numpy=-1>"
      ]
     },
     "execution_count": 34,
     "metadata": {},
     "output_type": "execute_result"
    }
   ],
   "source": [
    "# 创建-1 的标量\n",
    "tf.fill([], -1) "
   ]
  },
  {
   "cell_type": "code",
   "execution_count": 35,
   "metadata": {},
   "outputs": [
    {
     "data": {
      "text/plain": [
       "<tf.Tensor: id=75, shape=(1,), dtype=int32, numpy=array([-1])>"
      ]
     },
     "execution_count": 35,
     "metadata": {},
     "output_type": "execute_result"
    }
   ],
   "source": [
    "# 创建-1 的向量\n",
    "tf.fill([1], -1) "
   ]
  },
  {
   "cell_type": "code",
   "execution_count": 36,
   "metadata": {},
   "outputs": [
    {
     "data": {
      "text/plain": [
       "<tf.Tensor: id=78, shape=(2, 2), dtype=int32, numpy=\n",
       "array([[99, 99],\n",
       "       [99, 99]])>"
      ]
     },
     "execution_count": 36,
     "metadata": {},
     "output_type": "execute_result"
    }
   ],
   "source": [
    "# 创建 2 行 2 列，元素全为 99 的矩阵\n",
    "tf.fill([2,2], 99) "
   ]
  },
  {
   "cell_type": "markdown",
   "metadata": {},
   "source": [
    "### 创建已知分布的张量"
   ]
  },
  {
   "cell_type": "markdown",
   "metadata": {},
   "source": [
    "通过 tf.random.normal(shape, mean=0.0, stddev=1.0)可以创建形状为 shape，均值为mean，标准差为 stddev 的正态分布$\\mathcal{N}(mean, stddev^2)$。"
   ]
  },
  {
   "cell_type": "code",
   "execution_count": 37,
   "metadata": {},
   "outputs": [
    {
     "data": {
      "text/plain": [
       "<tf.Tensor: id=84, shape=(2, 2), dtype=float32, numpy=\n",
       "array([[-0.6773533,  0.4303947],\n",
       "       [-0.6848586, -0.8139115]], dtype=float32)>"
      ]
     },
     "execution_count": 37,
     "metadata": {},
     "output_type": "execute_result"
    }
   ],
   "source": [
    "# 创建标准正态分布的张量\n",
    "tf.random.normal([2,2]) "
   ]
  },
  {
   "cell_type": "code",
   "execution_count": 38,
   "metadata": {},
   "outputs": [
    {
     "data": {
      "text/plain": [
       "<tf.Tensor: id=90, shape=(2, 2), dtype=float32, numpy=\n",
       "array([[-1.3525722 , -2.0717647 ],\n",
       "       [-0.90770876, -0.6303625 ]], dtype=float32)>"
      ]
     },
     "execution_count": 38,
     "metadata": {},
     "output_type": "execute_result"
    }
   ],
   "source": [
    "# 创建均值为 1，标准差为 2 的正态分布的张量\n",
    "tf.random.normal([2,2], mean=1,stddev=2) "
   ]
  },
  {
   "cell_type": "markdown",
   "metadata": {},
   "source": [
    "通过 tf.random.uniform(shape, minval=0, maxval=None, dtype=tf.float32)可以创建采样自[minval, maxval)区间的均匀分布的张量"
   ]
  },
  {
   "cell_type": "code",
   "execution_count": 39,
   "metadata": {},
   "outputs": [
    {
     "data": {
      "text/plain": [
       "<tf.Tensor: id=97, shape=(3, 2), dtype=float32, numpy=\n",
       "array([[0.667807  , 0.9174658 ],\n",
       "       [0.4037068 , 0.41466045],\n",
       "       [0.7332729 , 0.92621017]], dtype=float32)>"
      ]
     },
     "execution_count": 39,
     "metadata": {},
     "output_type": "execute_result"
    }
   ],
   "source": [
    "# 创建采样自[0,1)均匀分布的矩阵\n",
    "tf.random.uniform([3,2]) "
   ]
  },
  {
   "cell_type": "code",
   "execution_count": 40,
   "metadata": {},
   "outputs": [
    {
     "data": {
      "text/plain": [
       "<tf.Tensor: id=104, shape=(2, 2), dtype=float32, numpy=\n",
       "array([[2.81173  , 1.8799245],\n",
       "       [8.92116  , 8.153972 ]], dtype=float32)>"
      ]
     },
     "execution_count": 40,
     "metadata": {},
     "output_type": "execute_result"
    }
   ],
   "source": [
    "# 创建采样自[0,10)均匀分布的矩阵\n",
    "tf.random.uniform([2,2],maxval=10) "
   ]
  },
  {
   "cell_type": "markdown",
   "metadata": {},
   "source": [
    "如果需要均匀采样整形类型的数据，必须指定采样区间的最大值 maxval 参数，同时指定数据类型为 tf.int*型"
   ]
  },
  {
   "cell_type": "code",
   "execution_count": 41,
   "metadata": {},
   "outputs": [
    {
     "data": {
      "text/plain": [
       "<tf.Tensor: id=108, shape=(2, 2), dtype=int32, numpy=\n",
       "array([[20, 94],\n",
       "       [25, 88]])>"
      ]
     },
     "execution_count": 41,
     "metadata": {},
     "output_type": "execute_result"
    }
   ],
   "source": [
    "# 创建采样自[0,100)均匀分布的整型矩阵\n",
    "tf.random.uniform([2,2],maxval=100,dtype=tf.int32)"
   ]
  },
  {
   "cell_type": "markdown",
   "metadata": {},
   "source": [
    "### 创建序列\n",
    "\n",
    "tf.range(limit, delta=1)可以创建[0, limit)之间，步长为 delta 的整型序列，不包含 limit 本身。"
   ]
  },
  {
   "cell_type": "code",
   "execution_count": 42,
   "metadata": {},
   "outputs": [
    {
     "data": {
      "text/plain": [
       "<tf.Tensor: id=112, shape=(10,), dtype=int32, numpy=array([0, 1, 2, 3, 4, 5, 6, 7, 8, 9])>"
      ]
     },
     "execution_count": 42,
     "metadata": {},
     "output_type": "execute_result"
    }
   ],
   "source": [
    "# 0~10，不包含 10\n",
    "tf.range(10) "
   ]
  },
  {
   "cell_type": "code",
   "execution_count": 43,
   "metadata": {},
   "outputs": [
    {
     "data": {
      "text/plain": [
       "<tf.Tensor: id=116, shape=(5,), dtype=int32, numpy=array([0, 2, 4, 6, 8])>"
      ]
     },
     "execution_count": 43,
     "metadata": {},
     "output_type": "execute_result"
    }
   ],
   "source": [
    "# 创建 0~10，步长为 2 的整形序列\n",
    "tf.range(10,delta=2)"
   ]
  },
  {
   "cell_type": "code",
   "execution_count": 44,
   "metadata": {},
   "outputs": [
    {
     "data": {
      "text/plain": [
       "<tf.Tensor: id=120, shape=(5,), dtype=int32, numpy=array([1, 3, 5, 7, 9])>"
      ]
     },
     "execution_count": 44,
     "metadata": {},
     "output_type": "execute_result"
    }
   ],
   "source": [
    "tf.range(1,10,delta=2) # 1~10"
   ]
  },
  {
   "cell_type": "markdown",
   "metadata": {},
   "source": [
    "## 张量的典型应用\n",
    "\n",
    "### 标量"
   ]
  },
  {
   "cell_type": "code",
   "execution_count": 45,
   "metadata": {},
   "outputs": [
    {
     "name": "stdout",
     "output_type": "stream",
     "text": [
      "tf.Tensor(0.4076194, shape=(), dtype=float32)\n"
     ]
    }
   ],
   "source": [
    "# 随机模拟网络输出\n",
    "out = tf.random.uniform([4,10]) \n",
    "# 随机构造样本真实标签\n",
    "y = tf.constant([2,3,2,0]) \n",
    "# one-hot 编码\n",
    "y = tf.one_hot(y, depth=10) \n",
    "# 计算每个样本的 MSE\n",
    "loss = tf.keras.losses.mse(y, out) \n",
    "# 平均 MSE,loss 应是标量\n",
    "loss = tf.reduce_mean(loss) \n",
    "print(loss)"
   ]
  },
  {
   "cell_type": "markdown",
   "metadata": {},
   "source": [
    "### 向量\n",
    "\n",
    "考虑 2 个输出节点的网络层， 我们创建长度为 2 的偏置向量b，并累加在每个输出节点上："
   ]
  },
  {
   "cell_type": "code",
   "execution_count": 46,
   "metadata": {},
   "outputs": [
    {
     "data": {
      "text/plain": [
       "<tf.Tensor: id=147, shape=(4, 2), dtype=float32, numpy=\n",
       "array([[ 0.9726034 ,  1.418436  ],\n",
       "       [ 0.1870317 ,  0.536654  ],\n",
       "       [ 0.07191976, -0.7674028 ],\n",
       "       [-0.36163288, -0.28200135]], dtype=float32)>"
      ]
     },
     "execution_count": 46,
     "metadata": {},
     "output_type": "execute_result"
    }
   ],
   "source": [
    "# z=wx,模拟获得激活函数的输入 z\n",
    "z = tf.random.normal([4,2])\n",
    "# 创建偏置向量\n",
    "b = tf.zeros([2])\n",
    "# 累加上偏置向量\n",
    "z = z + b \n",
    "z"
   ]
  },
  {
   "cell_type": "markdown",
   "metadata": {},
   "source": [
    "创建输入节点数为 4，输出节点数为 3 的线性层网络，那么它的偏置向量 b 的长度应为 3"
   ]
  },
  {
   "cell_type": "code",
   "execution_count": 47,
   "metadata": {},
   "outputs": [
    {
     "data": {
      "text/plain": [
       "<tf.Variable 'bias:0' shape=(3,) dtype=float32, numpy=array([0., 0., 0.], dtype=float32)>"
      ]
     },
     "execution_count": 47,
     "metadata": {},
     "output_type": "execute_result"
    }
   ],
   "source": [
    "# 创建一层 Wx+b，输出节点为 3\n",
    "fc = tf.keras.layers.Dense(3) \n",
    "# 通过 build 函数创建 W,b 张量，输入节点为 4\n",
    "fc.build(input_shape=(2,4))\n",
    "# 查看偏置向量\n",
    "fc.bias "
   ]
  },
  {
   "cell_type": "markdown",
   "metadata": {},
   "source": [
    "### 矩阵"
   ]
  },
  {
   "cell_type": "code",
   "execution_count": 48,
   "metadata": {},
   "outputs": [
    {
     "data": {
      "text/plain": [
       "<tf.Tensor: id=185, shape=(2, 3), dtype=float32, numpy=\n",
       "array([[0.8772295, 0.8772295, 0.8772295],\n",
       "       [1.740916 , 1.740916 , 1.740916 ]], dtype=float32)>"
      ]
     },
     "execution_count": 48,
     "metadata": {},
     "output_type": "execute_result"
    }
   ],
   "source": [
    "# 2 个样本，特征长度为 4 的张量\n",
    "x = tf.random.normal([2,4]) \n",
    "# 定义 W 张量\n",
    "w = tf.ones([4,3])\n",
    "# 定义 b 张量\n",
    "b = tf.zeros([3]) \n",
    "# X@W+b 运算\n",
    "o = x@w+b \n",
    "o"
   ]
  },
  {
   "cell_type": "code",
   "execution_count": 49,
   "metadata": {},
   "outputs": [
    {
     "data": {
      "text/plain": [
       "<tf.Variable 'kernel:0' shape=(4, 3) dtype=float32, numpy=\n",
       "array([[ 0.68623924, -0.3229205 , -0.8148483 ],\n",
       "       [-0.5391494 ,  0.9252815 , -0.91155016],\n",
       "       [ 0.71436787, -0.21712309,  0.642977  ],\n",
       "       [ 0.52107406,  0.8063965 , -0.4416557 ]], dtype=float32)>"
      ]
     },
     "execution_count": 49,
     "metadata": {},
     "output_type": "execute_result"
    }
   ],
   "source": [
    "# 定义全连接层的输出节点为 3\n",
    "fc = tf.keras.layers.Dense(3) \n",
    "# 定义全连接层的输入节点为 4\n",
    "fc.build(input_shape=(2,4)) \n",
    "# 查看权值矩阵 W\n",
    "fc.kernel "
   ]
  },
  {
   "cell_type": "markdown",
   "metadata": {},
   "source": [
    "### 三维张量"
   ]
  },
  {
   "cell_type": "code",
   "execution_count": 50,
   "metadata": {},
   "outputs": [
    {
     "data": {
      "text/plain": [
       "(25000, 80)"
      ]
     },
     "execution_count": 50,
     "metadata": {},
     "output_type": "execute_result"
    }
   ],
   "source": [
    "# 自动加载 IMDB 电影评价数据集\n",
    "(x_train,y_train),(x_test,y_test)=keras.datasets.imdb.load_data(num_words=10000)\n",
    "# 将句子填充、截断为等长 80 个单词的句子\n",
    "x_train = keras.preprocessing.sequence.pad_sequences(x_train,maxlen=80)\n",
    "x_train.shape"
   ]
  },
  {
   "cell_type": "markdown",
   "metadata": {},
   "source": [
    "可以看到 x_train 张量的 shape 为[25000,80]，其中 25000 表示句子个数， 80 表示每个句子共 80 个单词，每个单词使用数字编码方式表示。\n",
    "\n",
    "我们通过 layers.Embedding 层将数字编码的单词转换为长度为 100 个词向量："
   ]
  },
  {
   "cell_type": "code",
   "execution_count": 51,
   "metadata": {},
   "outputs": [
    {
     "data": {
      "text/plain": [
       "TensorShape([25000, 80, 100])"
      ]
     },
     "execution_count": 51,
     "metadata": {},
     "output_type": "execute_result"
    }
   ],
   "source": [
    "# 创建词向量 Embedding 层类\n",
    "embedding = tf.keras.layers.Embedding(10000, 100)\n",
    "# 将数字编码的单词转换为词向量\n",
    "out = embedding(x_train)\n",
    "out.shape"
   ]
  },
  {
   "cell_type": "markdown",
   "metadata": {},
   "source": [
    "可以看到，经过 Embedding 层编码后，句子张量的 shape 变为[25000,80,100]，其中 100 表示每个单词编码为长度是 100 的向量。"
   ]
  },
  {
   "cell_type": "markdown",
   "metadata": {},
   "source": [
    "### 四维张量"
   ]
  },
  {
   "cell_type": "code",
   "execution_count": 52,
   "metadata": {
    "scrolled": false
   },
   "outputs": [
    {
     "data": {
      "text/plain": [
       "TensorShape([4, 30, 30, 16])"
      ]
     },
     "execution_count": 52,
     "metadata": {},
     "output_type": "execute_result"
    }
   ],
   "source": [
    "# 创建 32x32 的彩色图片输入，个数为 4\n",
    "x = tf.random.normal([4,32,32,3])\n",
    "# 创建卷积神经网络\n",
    "layer = layers.Conv2D(16, kernel_size=3)\n",
    "# 前向计算\n",
    "out = layer(x) \n",
    "# 输出大小\n",
    "out.shape "
   ]
  },
  {
   "cell_type": "code",
   "execution_count": 53,
   "metadata": {},
   "outputs": [
    {
     "data": {
      "text/plain": [
       "TensorShape([3, 3, 3, 16])"
      ]
     },
     "execution_count": 53,
     "metadata": {},
     "output_type": "execute_result"
    }
   ],
   "source": [
    "# 访问卷积核张量\n",
    "layer.kernel.shape "
   ]
  },
  {
   "cell_type": "markdown",
   "metadata": {},
   "source": [
    "## 索引与切片\n",
    "### 索引"
   ]
  },
  {
   "cell_type": "code",
   "execution_count": 54,
   "metadata": {},
   "outputs": [],
   "source": [
    "# 创建4维张量\n",
    "x = tf.random.normal([4,32,32,3]) "
   ]
  },
  {
   "cell_type": "code",
   "execution_count": 55,
   "metadata": {
    "scrolled": true
   },
   "outputs": [
    {
     "data": {
      "text/plain": [
       "<tf.Tensor: id=267, shape=(32, 32, 3), dtype=float32, numpy=\n",
       "array([[[ 2.99530417e-01,  4.98727709e-01,  4.62626219e-02],\n",
       "        [-3.96997780e-01, -6.82494998e-01,  8.39108825e-01],\n",
       "        [-7.75049552e-02,  4.21769395e-02, -2.66631067e-01],\n",
       "        ...,\n",
       "        [ 9.24115896e-01,  1.11348259e+00, -1.98075920e-03],\n",
       "        [ 9.75685492e-02,  3.15199792e-01,  1.45533215e-03],\n",
       "        [-9.43217650e-02, -3.38576585e-01, -9.09859657e-01]],\n",
       "\n",
       "       [[ 8.26262116e-01, -4.33892906e-01,  1.25799692e+00],\n",
       "        [ 2.21274532e-02,  3.34542483e-01,  1.09432912e+00],\n",
       "        [-1.14753687e+00, -7.91423619e-02,  1.20629835e+00],\n",
       "        ...,\n",
       "        [ 7.84798443e-01,  1.27108026e+00,  4.95129377e-01],\n",
       "        [ 1.85994245e-02, -1.77249837e+00, -2.46315432e+00],\n",
       "        [-6.89060912e-02,  1.20367475e-01,  1.67715049e+00]],\n",
       "\n",
       "       [[ 1.56032932e+00,  1.92112529e+00, -2.72057831e-01],\n",
       "        [ 5.39079487e-01, -1.07490349e+00,  8.35203767e-01],\n",
       "        [-1.58621490e+00, -1.28948975e+00, -1.09115577e+00],\n",
       "        ...,\n",
       "        [ 1.78036600e-01, -7.13102758e-01, -1.23615587e+00],\n",
       "        [ 5.72437823e-01,  1.06423175e+00,  9.30649698e-01],\n",
       "        [-1.71309209e+00,  1.22341883e+00, -3.55583787e-01]],\n",
       "\n",
       "       ...,\n",
       "\n",
       "       [[-3.29592258e-01, -8.30693722e-01, -2.40498349e-01],\n",
       "        [ 1.67419875e+00, -2.29880643e+00,  1.71448797e-01],\n",
       "        [-5.50467491e-01, -2.04313740e-01, -6.63450778e-01],\n",
       "        ...,\n",
       "        [-3.42639178e-01, -8.96367282e-02,  4.56717193e-01],\n",
       "        [-1.67920649e+00,  1.57963455e+00, -1.28580844e+00],\n",
       "        [ 7.93035865e-01,  1.36289597e+00, -2.53902406e-01]],\n",
       "\n",
       "       [[ 6.77253544e-01,  3.54221314e-01, -2.08787298e+00],\n",
       "        [-9.02130604e-01, -3.86728495e-01,  1.05917382e+00],\n",
       "        [-1.87457576e-01, -5.65423727e-01,  1.74725950e-01],\n",
       "        ...,\n",
       "        [ 7.56352842e-01, -7.10616946e-01, -1.99009180e+00],\n",
       "        [ 1.12849104e+00,  7.36178160e-01,  1.26508629e+00],\n",
       "        [-1.03793776e+00,  1.30652082e+00,  5.05349338e-01]],\n",
       "\n",
       "       [[-1.95167825e-01, -6.79678261e-01,  1.19390202e+00],\n",
       "        [ 1.23385042e-01,  5.43360233e-01,  4.04267967e-01],\n",
       "        [ 7.17821181e-01, -1.00743306e+00, -2.18751997e-01],\n",
       "        ...,\n",
       "        [ 8.14315259e-01, -8.09423089e-01, -9.21548605e-01],\n",
       "        [ 7.28226185e-01, -1.49368703e+00,  3.11620086e-01],\n",
       "        [-1.67203200e+00,  1.73441768e-02,  1.59877789e+00]]],\n",
       "      dtype=float32)>"
      ]
     },
     "execution_count": 55,
     "metadata": {},
     "output_type": "execute_result"
    }
   ],
   "source": [
    "# 取第 1 张图片的数据\n",
    "x[0]"
   ]
  },
  {
   "cell_type": "code",
   "execution_count": 56,
   "metadata": {
    "scrolled": true
   },
   "outputs": [
    {
     "data": {
      "text/plain": [
       "<tf.Tensor: id=275, shape=(32, 3), dtype=float32, numpy=\n",
       "array([[ 0.8262621 , -0.4338929 ,  1.2579969 ],\n",
       "       [ 0.02212745,  0.33454248,  1.0943291 ],\n",
       "       [-1.1475369 , -0.07914236,  1.2062984 ],\n",
       "       [-1.686936  ,  0.68173933,  0.3722031 ],\n",
       "       [-0.15089631, -0.24881049, -0.33793926],\n",
       "       [-0.6563053 ,  0.31180674, -0.4290292 ],\n",
       "       [-1.052107  ,  0.5420052 ,  1.5521606 ],\n",
       "       [-0.70863354,  0.77011514, -1.0246024 ],\n",
       "       [ 1.009102  ,  0.63487196,  2.4887757 ],\n",
       "       [ 0.30981743, -2.2108316 ,  0.22299956],\n",
       "       [ 0.46953636, -1.4177477 , -1.3258795 ],\n",
       "       [ 0.70513606, -0.03387154, -1.9069157 ],\n",
       "       [ 0.29166472,  0.49272627,  0.48349282],\n",
       "       [-1.2451935 , -0.40504304,  0.7758409 ],\n",
       "       [ 0.512887  , -1.5394231 , -1.1045772 ],\n",
       "       [-1.8578997 , -0.19047123, -1.0916772 ],\n",
       "       [-1.168929  ,  0.68927103,  1.4155049 ],\n",
       "       [-0.3986797 , -0.3218197 ,  0.220516  ],\n",
       "       [-1.4762087 , -1.0211982 , -0.03255003],\n",
       "       [ 0.52727026,  1.81834   , -1.1724851 ],\n",
       "       [ 1.4274805 , -0.44642907,  0.5177591 ],\n",
       "       [-0.43373594,  0.5089101 , -0.9385244 ],\n",
       "       [-0.01985495, -0.17483507,  2.348541  ],\n",
       "       [ 0.96563935,  1.6135801 , -1.229406  ],\n",
       "       [ 0.91572505,  0.9518132 ,  0.3985127 ],\n",
       "       [ 0.3482416 ,  1.9550784 , -0.9581115 ],\n",
       "       [-2.053362  ,  0.07761649, -0.59828717],\n",
       "       [ 2.2638752 ,  0.8247789 , -1.818085  ],\n",
       "       [ 1.725855  ,  1.0503778 ,  1.8813409 ],\n",
       "       [ 0.78479844,  1.2710803 ,  0.49512938],\n",
       "       [ 0.01859942, -1.7724984 , -2.4631543 ],\n",
       "       [-0.06890609,  0.12036747,  1.6771505 ]], dtype=float32)>"
      ]
     },
     "execution_count": 56,
     "metadata": {},
     "output_type": "execute_result"
    }
   ],
   "source": [
    "# 取第 1 张图片的第 2 行\n",
    "x[0][1]"
   ]
  },
  {
   "cell_type": "code",
   "execution_count": 57,
   "metadata": {},
   "outputs": [
    {
     "data": {
      "text/plain": [
       "<tf.Tensor: id=287, shape=(3,), dtype=float32, numpy=array([-1.1475369 , -0.07914236,  1.2062984 ], dtype=float32)>"
      ]
     },
     "execution_count": 57,
     "metadata": {},
     "output_type": "execute_result"
    }
   ],
   "source": [
    "# 取第 1 张图片，第 2 行，第 3 列的数据\n",
    "x[0][1][2]"
   ]
  },
  {
   "cell_type": "code",
   "execution_count": 58,
   "metadata": {},
   "outputs": [
    {
     "data": {
      "text/plain": [
       "<tf.Tensor: id=303, shape=(), dtype=float32, numpy=-2.9019375>"
      ]
     },
     "execution_count": 58,
     "metadata": {},
     "output_type": "execute_result"
    }
   ],
   "source": [
    "# 取第 3 张图片，第 2 行，第 1 列的像素， B 通道(第 2 个通道)颜色强度值\n",
    "x[2][1][0][1]"
   ]
  },
  {
   "cell_type": "code",
   "execution_count": 59,
   "metadata": {},
   "outputs": [
    {
     "data": {
      "text/plain": [
       "<tf.Tensor: id=307, shape=(3,), dtype=float32, numpy=array([ 1.485031  , -1.2768915 , -0.00464185], dtype=float32)>"
      ]
     },
     "execution_count": 59,
     "metadata": {},
     "output_type": "execute_result"
    }
   ],
   "source": [
    "# 取第 2 张图片，第 10 行，第 3 列的数据\n",
    "x[1,9,2]"
   ]
  },
  {
   "cell_type": "markdown",
   "metadata": {},
   "source": [
    "### 切片"
   ]
  },
  {
   "cell_type": "code",
   "execution_count": 60,
   "metadata": {
    "scrolled": true
   },
   "outputs": [
    {
     "data": {
      "text/plain": [
       "<tf.Tensor: id=311, shape=(2, 32, 32, 3), dtype=float32, numpy=\n",
       "array([[[[ 8.46740842e-01,  1.80739868e+00,  1.66958928e-01],\n",
       "         [-2.60244519e-01,  5.12237549e-01,  1.11330593e+00],\n",
       "         [ 6.59267247e-01,  2.35228110e-02, -1.97934294e+00],\n",
       "         ...,\n",
       "         [-1.64584064e+00, -1.13802111e+00, -8.40150043e-02],\n",
       "         [ 2.06940722e+00,  7.20250368e-01,  2.33594012e+00],\n",
       "         [ 1.62608635e+00, -4.61122364e-01, -1.54706681e+00]],\n",
       "\n",
       "        [[ 1.96481615e-01,  3.87161821e-02,  6.49615705e-01],\n",
       "         [-2.20786884e-01, -5.71757376e-01,  8.32434595e-01],\n",
       "         [ 8.93542469e-01,  1.61621594e+00, -1.13300335e+00],\n",
       "         ...,\n",
       "         [-6.02387249e-01,  5.74446261e-01, -8.82000476e-02],\n",
       "         [ 7.14025319e-01,  5.32498479e-01, -1.09378779e+00],\n",
       "         [-5.84288388e-02,  3.41455847e-01,  7.71340623e-04]],\n",
       "\n",
       "        [[ 1.27693522e+00, -5.58431864e-01,  2.36351594e-01],\n",
       "         [ 1.65726399e+00,  9.85945985e-02,  1.76614061e-01],\n",
       "         [ 4.03812349e-01, -1.62642166e-01, -9.84130442e-01],\n",
       "         ...,\n",
       "         [ 2.84963101e-03, -6.83709025e-01,  1.65297240e-01],\n",
       "         [ 1.85432684e+00,  8.99092138e-01, -4.24525082e-01],\n",
       "         [-2.27488279e+00, -1.96642423e+00, -1.18583523e-01]],\n",
       "\n",
       "        ...,\n",
       "\n",
       "        [[-5.95481753e-01,  3.79042953e-01,  9.72926840e-02],\n",
       "         [-1.03587353e+00, -6.49687886e-01, -3.35898668e-01],\n",
       "         [-4.29516077e-01,  2.25361168e-01, -6.26022875e-01],\n",
       "         ...,\n",
       "         [-1.63205028e-01,  1.47793353e-01, -4.49707478e-01],\n",
       "         [ 7.04770461e-02, -6.99344099e-01,  1.07205439e+00],\n",
       "         [-6.97926939e-01, -1.58383203e+00,  1.43629062e+00]],\n",
       "\n",
       "        [[-5.43646634e-01, -1.81559622e+00,  7.57915676e-01],\n",
       "         [ 1.58398092e+00, -3.19771916e-01,  1.29236841e+00],\n",
       "         [ 1.29711604e+00,  5.84206522e-01, -3.02008778e-01],\n",
       "         ...,\n",
       "         [-1.29410967e-01, -7.86166668e-01, -1.29759908e+00],\n",
       "         [-1.80227578e-01, -1.42009771e+00,  5.38295150e-01],\n",
       "         [-2.84771502e-01,  8.38683903e-01, -1.17583349e-01]],\n",
       "\n",
       "        [[ 6.94598377e-01, -1.01994383e+00, -1.03254032e+00],\n",
       "         [ 2.32918575e-01, -1.86712041e-01,  7.71098316e-01],\n",
       "         [-2.13641334e+00, -7.36564100e-01,  9.67860997e-01],\n",
       "         ...,\n",
       "         [-1.07530460e-01, -1.14140749e+00, -1.28360307e+00],\n",
       "         [ 2.33804321e+00,  4.62490231e-01,  2.43006706e-01],\n",
       "         [ 8.57513785e-01, -3.15595806e-01,  5.55766106e-01]]],\n",
       "\n",
       "\n",
       "       [[[ 4.33810234e-01,  2.62971491e-01,  4.98744488e-01],\n",
       "         [ 5.40337265e-01, -1.28286660e+00,  1.18845262e-01],\n",
       "         [ 7.14504868e-02, -1.30961609e+00, -5.40699840e-01],\n",
       "         ...,\n",
       "         [-1.23676586e+00,  3.35694492e-01, -8.47248852e-01],\n",
       "         [-7.83805668e-01, -5.07599227e-02, -1.65491074e-01],\n",
       "         [ 8.92360270e-01, -6.61073089e-01,  6.59511209e-01]],\n",
       "\n",
       "        [[-1.50592518e+00, -2.90193748e+00,  3.50986868e-01],\n",
       "         [-1.26955426e+00,  4.80617136e-01,  2.55075902e-01],\n",
       "         [-2.70905638e+00, -3.24104488e-01,  1.83393121e+00],\n",
       "         ...,\n",
       "         [ 1.82164836e+00, -1.19069684e+00, -1.10236859e+00],\n",
       "         [-8.02987874e-01,  1.37509763e+00, -9.25274134e-01],\n",
       "         [ 5.17102361e-01,  5.87124825e-01, -2.89648235e-01]],\n",
       "\n",
       "        [[ 3.10303658e-01, -1.56505597e+00,  4.58659828e-02],\n",
       "         [ 2.96166003e-01, -7.93019116e-01, -1.50318789e+00],\n",
       "         [ 1.11770004e-01, -7.93054938e-01, -7.67697543e-02],\n",
       "         ...,\n",
       "         [ 7.32384562e-01,  1.84144080e-01, -2.52688348e-01],\n",
       "         [-1.88545132e+00,  1.12016940e+00, -1.88555312e+00],\n",
       "         [ 4.26674008e-01, -6.50723279e-02, -8.47828269e-01]],\n",
       "\n",
       "        ...,\n",
       "\n",
       "        [[-1.89647511e-01,  7.96302795e-01, -3.55670071e+00],\n",
       "         [-1.49715865e+00,  1.46145999e-01,  1.40496182e+00],\n",
       "         [ 5.81100225e-01, -6.12740934e-01, -1.10311818e+00],\n",
       "         ...,\n",
       "         [ 2.09921002e+00,  5.81723094e-01,  9.50487494e-01],\n",
       "         [ 5.56292295e-01,  4.62332100e-01,  4.43273157e-01],\n",
       "         [ 8.70286107e-01,  8.86281729e-01,  7.43365884e-01]],\n",
       "\n",
       "        [[-5.46256423e-01,  1.60259783e-01,  4.70222384e-01],\n",
       "         [-1.19652522e+00, -2.60331362e-01,  4.99689281e-01],\n",
       "         [ 2.13762566e-01,  1.09545255e+00,  2.34671652e-01],\n",
       "         ...,\n",
       "         [ 5.14482379e-01, -7.88380861e-01, -1.42575363e-02],\n",
       "         [ 1.76928651e+00,  2.88947105e-01,  6.71928704e-01],\n",
       "         [ 5.53152025e-01,  9.63822603e-01,  7.48581231e-01]],\n",
       "\n",
       "        [[-1.58782303e+00,  1.02164924e+00,  8.52097869e-01],\n",
       "         [ 2.31488585e+00, -9.62417424e-01,  1.36972272e+00],\n",
       "         [-5.01895428e-01, -4.38530654e-01, -4.78876501e-01],\n",
       "         ...,\n",
       "         [ 9.80888665e-01, -1.00106609e+00, -5.57676971e-01],\n",
       "         [-2.00327039e+00,  3.09200913e-01, -1.45673764e+00],\n",
       "         [-1.42367750e-01, -2.71242261e-01,  1.88666523e+00]]]],\n",
       "      dtype=float32)>"
      ]
     },
     "execution_count": 60,
     "metadata": {},
     "output_type": "execute_result"
    }
   ],
   "source": [
    "# 读取第 2,3 张图片\n",
    "x[1:3]"
   ]
  },
  {
   "cell_type": "code",
   "execution_count": 61,
   "metadata": {
    "scrolled": true
   },
   "outputs": [
    {
     "data": {
      "text/plain": [
       "<tf.Tensor: id=315, shape=(32, 32, 3), dtype=float32, numpy=\n",
       "array([[[ 2.99530417e-01,  4.98727709e-01,  4.62626219e-02],\n",
       "        [-3.96997780e-01, -6.82494998e-01,  8.39108825e-01],\n",
       "        [-7.75049552e-02,  4.21769395e-02, -2.66631067e-01],\n",
       "        ...,\n",
       "        [ 9.24115896e-01,  1.11348259e+00, -1.98075920e-03],\n",
       "        [ 9.75685492e-02,  3.15199792e-01,  1.45533215e-03],\n",
       "        [-9.43217650e-02, -3.38576585e-01, -9.09859657e-01]],\n",
       "\n",
       "       [[ 8.26262116e-01, -4.33892906e-01,  1.25799692e+00],\n",
       "        [ 2.21274532e-02,  3.34542483e-01,  1.09432912e+00],\n",
       "        [-1.14753687e+00, -7.91423619e-02,  1.20629835e+00],\n",
       "        ...,\n",
       "        [ 7.84798443e-01,  1.27108026e+00,  4.95129377e-01],\n",
       "        [ 1.85994245e-02, -1.77249837e+00, -2.46315432e+00],\n",
       "        [-6.89060912e-02,  1.20367475e-01,  1.67715049e+00]],\n",
       "\n",
       "       [[ 1.56032932e+00,  1.92112529e+00, -2.72057831e-01],\n",
       "        [ 5.39079487e-01, -1.07490349e+00,  8.35203767e-01],\n",
       "        [-1.58621490e+00, -1.28948975e+00, -1.09115577e+00],\n",
       "        ...,\n",
       "        [ 1.78036600e-01, -7.13102758e-01, -1.23615587e+00],\n",
       "        [ 5.72437823e-01,  1.06423175e+00,  9.30649698e-01],\n",
       "        [-1.71309209e+00,  1.22341883e+00, -3.55583787e-01]],\n",
       "\n",
       "       ...,\n",
       "\n",
       "       [[-3.29592258e-01, -8.30693722e-01, -2.40498349e-01],\n",
       "        [ 1.67419875e+00, -2.29880643e+00,  1.71448797e-01],\n",
       "        [-5.50467491e-01, -2.04313740e-01, -6.63450778e-01],\n",
       "        ...,\n",
       "        [-3.42639178e-01, -8.96367282e-02,  4.56717193e-01],\n",
       "        [-1.67920649e+00,  1.57963455e+00, -1.28580844e+00],\n",
       "        [ 7.93035865e-01,  1.36289597e+00, -2.53902406e-01]],\n",
       "\n",
       "       [[ 6.77253544e-01,  3.54221314e-01, -2.08787298e+00],\n",
       "        [-9.02130604e-01, -3.86728495e-01,  1.05917382e+00],\n",
       "        [-1.87457576e-01, -5.65423727e-01,  1.74725950e-01],\n",
       "        ...,\n",
       "        [ 7.56352842e-01, -7.10616946e-01, -1.99009180e+00],\n",
       "        [ 1.12849104e+00,  7.36178160e-01,  1.26508629e+00],\n",
       "        [-1.03793776e+00,  1.30652082e+00,  5.05349338e-01]],\n",
       "\n",
       "       [[-1.95167825e-01, -6.79678261e-01,  1.19390202e+00],\n",
       "        [ 1.23385042e-01,  5.43360233e-01,  4.04267967e-01],\n",
       "        [ 7.17821181e-01, -1.00743306e+00, -2.18751997e-01],\n",
       "        ...,\n",
       "        [ 8.14315259e-01, -8.09423089e-01, -9.21548605e-01],\n",
       "        [ 7.28226185e-01, -1.49368703e+00,  3.11620086e-01],\n",
       "        [-1.67203200e+00,  1.73441768e-02,  1.59877789e+00]]],\n",
       "      dtype=float32)>"
      ]
     },
     "execution_count": 61,
     "metadata": {},
     "output_type": "execute_result"
    }
   ],
   "source": [
    "# 读取第一张图片\n",
    "x[0,::] "
   ]
  },
  {
   "cell_type": "code",
   "execution_count": 62,
   "metadata": {},
   "outputs": [
    {
     "data": {
      "text/plain": [
       "<tf.Tensor: id=319, shape=(4, 14, 14, 3), dtype=float32, numpy=\n",
       "array([[[[ 0.29953042,  0.4987277 ,  0.04626262],\n",
       "         [-0.07750496,  0.04217694, -0.26663107],\n",
       "         [ 0.24735   ,  1.6950517 ,  0.02992302],\n",
       "         ...,\n",
       "         [ 2.0477266 , -2.0233023 ,  1.0728284 ],\n",
       "         [-0.17582789,  0.0784962 , -0.9059661 ],\n",
       "         [ 0.31916165,  0.82557184,  0.85820985]],\n",
       "\n",
       "        [[ 1.5603293 ,  1.9211253 , -0.27205783],\n",
       "         [-1.5862149 , -1.2894897 , -1.0911558 ],\n",
       "         [-0.07426735,  0.32746324,  0.813031  ],\n",
       "         ...,\n",
       "         [ 0.6618759 , -0.19002001, -1.1807245 ],\n",
       "         [-0.41493273, -1.7765453 ,  0.05143803],\n",
       "         [ 1.0719932 , -0.16450751, -0.15150851]],\n",
       "\n",
       "        [[-0.5754298 , -0.0058106 ,  0.22331402],\n",
       "         [-0.5108397 ,  0.67866975,  0.06346172],\n",
       "         [ 1.0004263 , -0.1551236 ,  1.3412995 ],\n",
       "         ...,\n",
       "         [ 1.3273468 , -0.3039278 , -1.2280399 ],\n",
       "         [ 0.9735842 ,  0.27331632, -2.1884685 ],\n",
       "         [-0.47231004, -1.2463309 , -1.3064728 ]],\n",
       "\n",
       "        ...,\n",
       "\n",
       "        [[ 1.3955964 ,  0.43002596, -0.09694634],\n",
       "         [-1.059387  , -0.63045514,  0.30476457],\n",
       "         [ 0.02471447,  2.0007472 , -1.2315106 ],\n",
       "         ...,\n",
       "         [ 0.07372136,  0.20129701, -2.1031387 ],\n",
       "         [ 0.5084124 ,  0.26348412, -0.21606117],\n",
       "         [-0.04849914, -1.5587815 ,  0.34682378]],\n",
       "\n",
       "        [[-0.9724819 ,  1.1628898 , -0.75288796],\n",
       "         [ 0.98461473,  0.09641021,  1.2317189 ],\n",
       "         [ 1.3038434 , -0.13102709,  0.6892912 ],\n",
       "         ...,\n",
       "         [-1.3498079 ,  0.88925534, -1.1752238 ],\n",
       "         [ 0.21670488,  0.27513695, -0.3026389 ],\n",
       "         [-0.52811664,  0.6310078 , -0.17790794]],\n",
       "\n",
       "        [[-2.1274414 , -1.5176387 , -0.42402583],\n",
       "         [ 0.4803964 , -0.17463942,  0.703178  ],\n",
       "         [ 0.63703454, -0.31646848, -1.2795292 ],\n",
       "         ...,\n",
       "         [-0.10046427,  0.09529351,  0.0798268 ],\n",
       "         [-0.98582363, -0.5102998 , -2.1531792 ],\n",
       "         [-0.46067882, -1.2088661 ,  3.0646348 ]]],\n",
       "\n",
       "\n",
       "       [[[ 0.84674084,  1.8073987 ,  0.16695893],\n",
       "         [ 0.65926725,  0.02352281, -1.9793429 ],\n",
       "         [ 0.05912805, -0.49483052, -0.37834525],\n",
       "         ...,\n",
       "         [-1.2091817 , -0.2600767 ,  0.31908888],\n",
       "         [-0.20379916,  1.2025635 ,  0.34261468],\n",
       "         [-1.0919143 ,  0.38404518, -0.9982941 ]],\n",
       "\n",
       "        [[ 1.2769352 , -0.55843186,  0.2363516 ],\n",
       "         [ 0.40381235, -0.16264217, -0.98413044],\n",
       "         [ 1.5399628 , -2.0301952 , -0.21798378],\n",
       "         ...,\n",
       "         [ 0.75460523,  0.19383988, -1.7362441 ],\n",
       "         [ 0.19508564,  0.31393576, -1.4851247 ],\n",
       "         [-1.024658  ,  0.52677804, -1.0567398 ]],\n",
       "\n",
       "        [[ 0.07073069, -0.4350004 ,  0.6994826 ],\n",
       "         [-0.57044715, -0.41675115, -1.4562894 ],\n",
       "         [-0.5292075 , -0.34338987, -1.2279056 ],\n",
       "         ...,\n",
       "         [ 0.18911645,  1.4522451 ,  1.0241826 ],\n",
       "         [-0.6533293 , -0.32953325, -0.14063197],\n",
       "         [ 0.6226073 ,  0.5538706 ,  0.7442243 ]],\n",
       "\n",
       "        ...,\n",
       "\n",
       "        [[-0.39076975, -1.1441206 ,  0.23043735],\n",
       "         [ 0.4242138 ,  0.19755495, -0.5511076 ],\n",
       "         [-0.37843043,  1.8260962 , -1.8303294 ],\n",
       "         ...,\n",
       "         [ 0.6977192 ,  0.86073434,  0.4215885 ],\n",
       "         [-1.0972192 , -0.53686213, -0.86603105],\n",
       "         [ 1.923183  , -1.7286993 ,  0.8366462 ]],\n",
       "\n",
       "        [[ 0.50592357,  2.6929684 ,  0.19061124],\n",
       "         [ 1.2628349 ,  1.6753464 , -1.9001899 ],\n",
       "         [ 0.84406704,  1.3394464 ,  1.4468052 ],\n",
       "         ...,\n",
       "         [-0.32752672, -1.7767465 , -0.5008128 ],\n",
       "         [-1.3274419 ,  1.6949083 , -0.46629754],\n",
       "         [ 0.7513434 ,  1.5706654 ,  0.5290436 ]],\n",
       "\n",
       "        [[-2.3516018 , -0.22948937,  2.074496  ],\n",
       "         [-0.7316199 , -2.010403  ,  1.7751553 ],\n",
       "         [-0.68205404,  1.2219305 , -0.205219  ],\n",
       "         ...,\n",
       "         [ 1.0821488 ,  1.4611366 , -0.8197177 ],\n",
       "         [-1.2362243 , -1.0954235 ,  0.2640828 ],\n",
       "         [-0.01029243,  0.07732975,  0.78993064]]],\n",
       "\n",
       "\n",
       "       [[[ 0.43381023,  0.2629715 ,  0.4987445 ],\n",
       "         [ 0.07145049, -1.3096161 , -0.54069984],\n",
       "         [ 0.48011795, -1.9069372 ,  0.41077185],\n",
       "         ...,\n",
       "         [ 1.7869623 , -1.2477969 ,  0.674325  ],\n",
       "         [ 0.7656099 , -0.22502111,  0.18927495],\n",
       "         [-0.38963273, -0.2362047 , -0.09083448]],\n",
       "\n",
       "        [[ 0.31030366, -1.565056  ,  0.04586598],\n",
       "         [ 0.11177   , -0.79305494, -0.07676975],\n",
       "         [-0.9436703 , -2.5125175 , -0.7373779 ],\n",
       "         ...,\n",
       "         [-0.38376027,  0.6699115 ,  0.10860687],\n",
       "         [ 0.22508518,  0.32490337, -0.08314538],\n",
       "         [ 0.09955988, -0.30317864,  0.6828728 ]],\n",
       "\n",
       "        [[ 0.61369747, -0.63369614, -0.09530622],\n",
       "         [ 0.1441003 , -2.3412225 , -0.03136261],\n",
       "         [-0.02627213, -0.69758064, -1.447655  ],\n",
       "         ...,\n",
       "         [-1.2848488 , -0.3323989 , -0.539584  ],\n",
       "         [ 1.2521459 , -0.37608382,  0.91074705],\n",
       "         [ 1.7215533 ,  0.17609665,  0.19163121]],\n",
       "\n",
       "        ...,\n",
       "\n",
       "        [[ 2.1390104 ,  1.4706551 ,  2.0138948 ],\n",
       "         [-0.03350142,  1.8536271 ,  0.09646774],\n",
       "         [-0.3184444 , -0.684508  , -1.3552825 ],\n",
       "         ...,\n",
       "         [-0.6468099 ,  0.318703  , -0.14773071],\n",
       "         [-0.19177032, -0.8206613 ,  0.10384557],\n",
       "         [ 0.11984792,  0.8017542 , -1.2263144 ]],\n",
       "\n",
       "        [[ 0.03875401,  0.5708814 , -0.57275695],\n",
       "         [ 0.48067126,  0.3215947 ,  2.2667098 ],\n",
       "         [ 1.7014887 , -0.9754569 ,  2.0428474 ],\n",
       "         ...,\n",
       "         [ 0.39072776, -0.13271819, -0.09323347],\n",
       "         [ 0.0499893 , -0.49460313,  0.15619466],\n",
       "         [-0.96566   , -0.48268116, -0.7001094 ]],\n",
       "\n",
       "        [[-0.6669021 , -0.87101257,  0.9472579 ],\n",
       "         [-0.48037487,  1.9820436 ,  0.88664687],\n",
       "         [-0.09146235,  1.0116817 , -1.0265143 ],\n",
       "         ...,\n",
       "         [ 0.7228379 , -0.49325258,  0.69480824],\n",
       "         [ 0.20752548,  1.4511576 , -0.46989208],\n",
       "         [ 0.33045682, -1.2298404 ,  0.94728714]]],\n",
       "\n",
       "\n",
       "       [[[ 0.6209063 ,  0.82721764,  0.19346109],\n",
       "         [ 0.5462161 ,  0.36469892, -1.4563627 ],\n",
       "         [ 1.3267511 , -0.5152521 ,  0.1420099 ],\n",
       "         ...,\n",
       "         [-1.3353171 , -1.5928571 ,  0.56534135],\n",
       "         [ 0.36196172,  0.24110325, -0.10817842],\n",
       "         [-0.3873028 , -1.1311301 , -1.1390817 ]],\n",
       "\n",
       "        [[ 1.7662829 , -0.20671086,  0.11887789],\n",
       "         [ 0.38570747, -0.31723243,  0.04015132],\n",
       "         [ 1.7382854 , -0.95755464,  0.10214123],\n",
       "         ...,\n",
       "         [-0.5269967 ,  0.65328825, -0.6096177 ],\n",
       "         [ 0.27952468,  0.04224103, -0.30349377],\n",
       "         [ 1.324216  ,  0.5081739 ,  1.539219  ]],\n",
       "\n",
       "        [[-0.6268785 ,  1.1913327 ,  1.6536233 ],\n",
       "         [-1.2213116 , -0.9267854 ,  0.9805906 ],\n",
       "         [-1.1279471 ,  1.0118282 , -0.45903018],\n",
       "         ...,\n",
       "         [-0.96730345, -1.6652224 ,  1.8552887 ],\n",
       "         [-0.8248184 ,  0.86863154,  1.1548607 ],\n",
       "         [ 0.28116253, -1.3324262 ,  0.01588521]],\n",
       "\n",
       "        ...,\n",
       "\n",
       "        [[ 1.5408168 , -0.3856393 , -0.37473902],\n",
       "         [ 0.3920989 ,  0.8298532 ,  1.4815778 ],\n",
       "         [-0.5082325 , -0.4118431 ,  0.6189996 ],\n",
       "         ...,\n",
       "         [-0.6429724 ,  1.9632901 , -0.06484432],\n",
       "         [-0.817626  ,  0.00383757,  0.08525772],\n",
       "         [ 1.8459245 , -0.19220419, -1.002802  ]],\n",
       "\n",
       "        [[-2.077125  ,  0.6777167 , -1.9977999 ],\n",
       "         [-0.36499256,  0.21286397,  0.8323986 ],\n",
       "         [-1.7711985 , -0.3996875 , -0.8889927 ],\n",
       "         ...,\n",
       "         [ 0.12559582,  1.3077639 ,  0.6897429 ],\n",
       "         [-2.4935067 ,  1.3309976 , -1.559538  ],\n",
       "         [ 0.46171   ,  0.19925697,  2.4195194 ]],\n",
       "\n",
       "        [[-0.01098948,  0.02187934,  0.54487985],\n",
       "         [ 0.7525751 ,  0.21871457,  1.5292683 ],\n",
       "         [ 1.1061094 ,  0.5004842 , -0.80244505],\n",
       "         ...,\n",
       "         [-0.27928075, -0.02630495, -0.5894806 ],\n",
       "         [ 1.1221097 , -0.15430063,  1.108415  ],\n",
       "         [-1.6734477 ,  2.368756  ,  1.955124  ]]]], dtype=float32)>"
      ]
     },
     "execution_count": 62,
     "metadata": {},
     "output_type": "execute_result"
    }
   ],
   "source": [
    "x[:,0:28:2,0:28:2,:]"
   ]
  },
  {
   "cell_type": "code",
   "execution_count": 63,
   "metadata": {},
   "outputs": [
    {
     "data": {
      "text/plain": [
       "<tf.Tensor: id=327, shape=(8,), dtype=int32, numpy=array([8, 7, 6, 5, 4, 3, 2, 1])>"
      ]
     },
     "execution_count": 63,
     "metadata": {},
     "output_type": "execute_result"
    }
   ],
   "source": [
    "# 考虑一个 0~9 的简单序列向量， 逆序取到第 1 号元素，不包含第 1 号\n",
    "# 创建 0~9 向量\n",
    "x = tf.range(9) \n",
    "# 从 8 取到 0，逆序，不包含 0\n",
    "x[8:0:-1] "
   ]
  },
  {
   "cell_type": "code",
   "execution_count": 64,
   "metadata": {},
   "outputs": [
    {
     "data": {
      "text/plain": [
       "<tf.Tensor: id=331, shape=(9,), dtype=int32, numpy=array([8, 7, 6, 5, 4, 3, 2, 1, 0])>"
      ]
     },
     "execution_count": 64,
     "metadata": {},
     "output_type": "execute_result"
    }
   ],
   "source": [
    "# 逆序全部元素\n",
    "x[::-1] "
   ]
  },
  {
   "cell_type": "code",
   "execution_count": 65,
   "metadata": {},
   "outputs": [
    {
     "data": {
      "text/plain": [
       "<tf.Tensor: id=335, shape=(5,), dtype=int32, numpy=array([8, 6, 4, 2, 0])>"
      ]
     },
     "execution_count": 65,
     "metadata": {},
     "output_type": "execute_result"
    }
   ],
   "source": [
    "# 逆序间隔采样\n",
    "x[::-2] "
   ]
  },
  {
   "cell_type": "markdown",
   "metadata": {},
   "source": [
    "读取每张图片的所有通道，其中行按着逆序隔行采样，列按着逆序隔行采样"
   ]
  },
  {
   "cell_type": "code",
   "execution_count": 66,
   "metadata": {},
   "outputs": [
    {
     "data": {
      "text/plain": [
       "<tf.Tensor: id=345, shape=(16, 16, 3), dtype=float32, numpy=\n",
       "array([[[-1.30231440e+00, -2.75677502e-01, -9.97396588e-01],\n",
       "        [-1.63859499e+00, -1.82385838e+00, -1.23019147e+00],\n",
       "        [-2.82821298e-01, -1.23738873e+00, -5.99224985e-01],\n",
       "        [ 6.61249161e-01, -1.62893391e+00, -7.22544193e-01],\n",
       "        [ 1.78936660e+00,  1.33216929e+00, -6.87687278e-01],\n",
       "        [ 1.60941228e-01,  6.05650902e-01, -1.20217228e+00],\n",
       "        [-7.69305527e-01,  5.85967124e-01,  1.46998489e+00],\n",
       "        [ 1.18222041e-02,  3.29580367e-01,  5.46027541e-01],\n",
       "        [-7.05268025e-01,  1.56249356e+00,  1.55947298e-01],\n",
       "        [ 6.88953102e-01, -8.85246158e-01, -2.32767284e-01],\n",
       "        [-2.33633304e+00, -8.38297725e-01, -6.72355950e-01],\n",
       "        [ 4.87224847e-01,  6.14003956e-01,  3.77696306e-01],\n",
       "        [ 6.13961406e-02, -2.47145987e+00,  9.32613492e-01],\n",
       "        [ 1.30616307e-01, -8.11282635e-01, -1.05657315e+00],\n",
       "        [ 8.58024836e-01, -2.08463162e-01,  1.58311427e-01],\n",
       "        [-1.97587907e+00, -2.00609112e+00,  2.04731256e-01]],\n",
       "\n",
       "       [[-7.79990733e-01,  2.15772033e-01, -2.50400573e-01],\n",
       "        [-7.81958401e-02,  2.90392041e-01,  6.49120450e-01],\n",
       "        [-4.45995152e-01, -1.24525040e-01, -1.29835176e+00],\n",
       "        [ 2.93813050e-01,  4.00333405e-01, -1.31026506e-01],\n",
       "        [-1.05788493e+00,  1.37377155e+00, -2.98248911e+00],\n",
       "        [ 1.45601153e+00, -7.26693988e-01, -4.30995882e-01],\n",
       "        [-5.94041705e-01, -7.60637164e-01, -7.79908061e-01],\n",
       "        [-7.07618743e-02,  4.97145625e-03,  6.29177690e-01],\n",
       "        [-4.62126464e-01,  7.51391172e-01,  1.70962560e+00],\n",
       "        [-9.65430140e-01,  4.36231881e-01, -1.56195295e+00],\n",
       "        [ 6.39510632e-01, -1.10277903e+00, -2.22563648e+00],\n",
       "        [ 1.18846379e-01, -2.58129090e-01, -5.54875374e-01],\n",
       "        [-1.89512563e+00,  1.94554955e-01, -6.32009625e-01],\n",
       "        [-9.78552938e-01,  9.76327300e-01, -1.14709902e+00],\n",
       "        [ 6.96536720e-01, -7.63953030e-01, -3.15384924e-01],\n",
       "        [ 8.79902720e-01,  3.47123384e-01,  1.07383800e+00]],\n",
       "\n",
       "       [[-6.50557205e-02,  2.01096773e+00, -5.32124817e-01],\n",
       "        [-4.22219008e-01,  6.51806533e-01, -1.60192895e+00],\n",
       "        [-1.15779424e+00,  4.61968392e-01, -4.99346495e-01],\n",
       "        [-3.43292266e-01, -1.80106294e+00,  8.18667412e-01],\n",
       "        [ 3.90409857e-01,  5.44574678e-01, -1.01234365e+00],\n",
       "        [ 1.63439429e+00, -1.94151437e+00,  7.47784600e-02],\n",
       "        [ 1.34347707e-01,  2.25892574e-01, -6.88252568e-01],\n",
       "        [ 8.99311423e-01, -2.73024179e-02, -3.54186222e-02],\n",
       "        [-9.09427941e-01, -3.24267924e-01, -8.19321692e-01],\n",
       "        [ 7.91133463e-01, -1.74747586e+00, -1.52514830e-01],\n",
       "        [-6.92301810e-01, -4.53773849e-02, -8.13826382e-01],\n",
       "        [-1.19624352e+00, -1.60892189e+00,  1.60320830e+00],\n",
       "        [ 8.23139787e-01,  1.86243212e+00, -1.69145107e+00],\n",
       "        [ 1.04190099e+00,  1.62498343e+00,  8.26740324e-01],\n",
       "        [-1.71397626e-01, -2.69812435e-01,  2.04302931e+00],\n",
       "        [ 2.06721738e-01, -1.22342026e+00,  4.85280931e-01]],\n",
       "\n",
       "       [[ 1.33970749e+00, -1.48258042e+00,  3.56016248e-01],\n",
       "        [ 7.45718002e-01,  7.39155352e-01, -1.04838693e+00],\n",
       "        [ 1.32285368e+00, -2.30028200e+00, -2.62208045e-01],\n",
       "        [-6.64079964e-01, -5.63923001e-01,  7.04632550e-02],\n",
       "        [ 1.37126994e+00, -1.03985512e+00, -1.08588183e+00],\n",
       "        [ 1.46789610e-01, -7.39040136e-01,  2.06308991e-01],\n",
       "        [-2.82009065e-01, -7.81977549e-02,  2.70638078e-01],\n",
       "        [ 1.08692896e+00, -1.17935562e+00, -1.90353060e+00],\n",
       "        [ 6.89052105e-01, -5.28720200e-01, -9.51821506e-01],\n",
       "        [ 2.69772649e-01, -2.40231857e-01,  4.76599067e-01],\n",
       "        [ 1.60126889e+00,  1.57430553e+00, -1.24149263e+00],\n",
       "        [ 1.91107118e+00, -3.37681323e-01, -3.72707456e-01],\n",
       "        [ 1.02746360e-01, -4.23590392e-01,  6.34046555e-01],\n",
       "        [-1.34584761e+00, -1.69109963e-02,  3.27724934e-01],\n",
       "        [ 3.28699851e+00, -1.02103603e+00,  7.18678813e-03],\n",
       "        [ 6.74603283e-01,  4.80713919e-02, -1.45409203e+00]],\n",
       "\n",
       "       [[-1.91047713e-01, -3.21420288e+00, -1.45724940e+00],\n",
       "        [-4.04134095e-01, -1.84615505e+00, -1.60728127e-01],\n",
       "        [-7.61348307e-01,  1.64199185e+00, -1.00573504e+00],\n",
       "        [-1.25628269e+00, -2.45707703e+00,  7.84435645e-02],\n",
       "        [ 8.16484451e-01, -6.18656039e-01, -1.49302393e-01],\n",
       "        [ 2.14932352e-01, -2.28161836e+00, -7.10736632e-01],\n",
       "        [-4.94520515e-01, -5.40426150e-02, -1.32700756e-01],\n",
       "        [-2.68123835e-01,  1.36813194e-01, -1.27263558e+00],\n",
       "        [ 4.18161958e-01, -3.84501845e-01, -5.54634511e-01],\n",
       "        [-4.64707911e-02, -9.13496017e-01, -2.02677059e+00],\n",
       "        [ 1.32549620e+00, -1.63682258e+00, -3.68341595e-01],\n",
       "        [-4.88839328e-01,  7.08305240e-01,  1.10467088e+00],\n",
       "        [ 4.84068066e-01,  2.79715717e-01,  2.22700334e+00],\n",
       "        [-1.39711154e+00,  4.63305771e-01, -1.40050983e+00],\n",
       "        [ 9.00715351e-01,  1.19242720e-01, -1.63953090e+00],\n",
       "        [ 6.46508396e-01, -1.92469597e+00,  3.03876877e-01]],\n",
       "\n",
       "       [[-1.81383565e-01,  1.34745693e+00,  2.96083003e-01],\n",
       "        [-3.86617146e-02, -3.77573490e-01,  1.53606188e+00],\n",
       "        [-7.40397036e-01,  1.63044393e+00, -1.74794748e-01],\n",
       "        [ 9.72788393e-01,  1.28663719e-01,  1.91406560e+00],\n",
       "        [ 1.95107448e+00, -2.58988172e-01, -5.42496979e-01],\n",
       "        [ 1.33355641e+00,  7.34445691e-01,  5.57348914e-02],\n",
       "        [-1.31051004e+00, -6.45444155e-01,  1.53202391e+00],\n",
       "        [ 1.14010906e+00,  2.04610467e-01,  1.51732862e+00],\n",
       "        [ 8.13334882e-01, -7.06076026e-01,  2.72748947e-01],\n",
       "        [-1.14527595e+00,  8.05841982e-01,  6.95434630e-01],\n",
       "        [ 1.32787454e+00, -3.27180886e+00,  2.33014509e-01],\n",
       "        [ 1.59766510e-01, -1.05482054e+00,  1.79739356e-01],\n",
       "        [ 3.49417597e-01, -1.94335744e-01, -3.18971872e-01],\n",
       "        [ 6.31101727e-01, -8.82147014e-01, -4.39854622e-01],\n",
       "        [-8.96797597e-01, -4.54630584e-01, -6.00407958e-01],\n",
       "        [ 1.63655949e+00, -1.00522041e+00, -2.68382847e-01]],\n",
       "\n",
       "       [[ 4.28559750e-01, -6.05876207e-01, -1.54674500e-01],\n",
       "        [-1.35111451e+00, -8.00356686e-01, -1.79057908e+00],\n",
       "        [-7.41164684e-01, -6.16434276e-01,  1.25738668e+00],\n",
       "        [ 5.00681639e-01, -1.27244985e+00, -1.13252509e+00],\n",
       "        [ 1.48689818e+00, -1.55826107e-01, -9.38357562e-02],\n",
       "        [-2.51304358e-01,  6.37430251e-02, -9.81320322e-01],\n",
       "        [-9.15898502e-01,  5.40249407e-01, -9.70950246e-01],\n",
       "        [-1.43644702e+00,  5.88820219e-01,  1.37460864e+00],\n",
       "        [-1.64888096e+00,  3.61002982e-01, -7.13403106e-01],\n",
       "        [ 3.69034499e-01,  4.01704133e-01,  6.42902851e-01],\n",
       "        [ 1.50885373e-01, -1.44094193e+00,  1.20436621e+00],\n",
       "        [ 8.13968301e-01,  1.33771360e-01, -1.47544301e+00],\n",
       "        [ 5.15498579e-01,  1.91593564e+00,  3.09582680e-01],\n",
       "        [ 9.03218985e-03, -9.33554471e-02,  4.29623723e-01],\n",
       "        [-1.43310847e-03, -1.21021286e-01,  7.44570345e-02],\n",
       "        [-1.02684319e+00, -1.41288638e+00,  6.82447612e-01]],\n",
       "\n",
       "       [[ 2.18350962e-01, -6.29806146e-02, -3.77768904e-01],\n",
       "        [-2.64935923e+00,  1.03144944e+00, -1.38253182e-01],\n",
       "        [-7.31953919e-01,  1.89414728e+00,  2.25824475e+00],\n",
       "        [ 5.30487835e-01, -2.21467465e-01, -8.42629611e-01],\n",
       "        [ 5.12300670e-01, -3.98978561e-01, -2.06471467e+00],\n",
       "        [ 1.90467462e-02,  6.45564616e-01, -2.09197164e+00],\n",
       "        [-1.03400552e+00,  1.91675150e+00, -3.65844995e-01],\n",
       "        [-7.44830072e-01,  5.01711845e-01,  4.13256437e-01],\n",
       "        [-2.15182453e-02, -5.66979766e-01,  6.77899132e-03],\n",
       "        [-1.49813282e+00, -3.55934888e-01,  9.32523608e-01],\n",
       "        [-7.96121180e-01,  4.35632706e-01,  5.35873711e-01],\n",
       "        [-7.85613358e-01,  5.02059340e-01,  3.56112450e-01],\n",
       "        [ 4.96108770e-01, -6.04076564e-01, -5.48218846e-01],\n",
       "        [-1.15007854e+00, -1.55545866e+00,  2.22213006e+00],\n",
       "        [-1.04255843e+00, -8.00567448e-01, -4.57165718e-01],\n",
       "        [ 2.12176681e+00,  6.54297054e-01,  1.31850779e-01]],\n",
       "\n",
       "       [[-1.28254330e+00,  1.04909718e+00, -7.73850024e-01],\n",
       "        [-1.80556202e+00,  2.42879915e+00, -1.22423083e-01],\n",
       "        [ 3.81585360e-01, -7.15013742e-01, -8.77540633e-02],\n",
       "        [-5.08710384e-01, -4.55891758e-01, -1.30465257e+00],\n",
       "        [ 3.45765233e-01, -1.06493485e+00, -9.40965056e-01],\n",
       "        [ 1.15409780e+00,  6.36502385e-01,  2.31729412e+00],\n",
       "        [-7.56591439e-01, -1.04486811e+00, -9.89133954e-01],\n",
       "        [-6.35211408e-01,  1.08754754e+00, -7.05713212e-01],\n",
       "        [-4.55593407e-01, -4.27025318e-01, -4.76325512e-01],\n",
       "        [-6.27036631e-01, -2.30586362e+00,  1.31295073e+00],\n",
       "        [-1.36624336e+00,  8.04176033e-02,  1.56058204e+00],\n",
       "        [ 1.58410811e+00, -1.04208462e-01,  6.52300894e-01],\n",
       "        [ 3.11326772e-01,  6.78473115e-01, -5.04409671e-01],\n",
       "        [-5.77266991e-01,  9.19135809e-01,  1.09514140e-01],\n",
       "        [ 4.18651104e-01, -4.66127068e-01,  6.01844668e-01],\n",
       "        [ 1.56016552e+00,  1.57411551e+00, -4.76294011e-01]],\n",
       "\n",
       "       [[ 1.05914772e+00, -9.26546007e-02,  8.89425218e-01],\n",
       "        [ 2.54367685e+00,  4.97043878e-02,  3.91529016e-02],\n",
       "        [ 1.84678391e-01,  1.01858091e+00,  1.79024473e-01],\n",
       "        [-7.69255385e-02, -9.38062727e-01,  7.83764869e-02],\n",
       "        [ 2.07323599e+00, -7.69307315e-01, -2.42004871e+00],\n",
       "        [-1.04776037e+00,  1.44802797e+00,  9.51539516e-01],\n",
       "        [ 9.39337790e-01, -1.34319305e+00,  1.37993172e-01],\n",
       "        [-3.74180824e-02,  9.11705852e-01, -1.31858277e+00],\n",
       "        [-1.12369999e-01, -7.18726754e-01, -8.12100768e-01],\n",
       "        [-1.25617874e+00, -6.67234480e-01, -5.63868999e-01],\n",
       "        [ 2.06037343e-01,  3.28047395e-01,  1.12998329e-01],\n",
       "        [ 7.36941993e-01, -5.85015416e-01,  5.30537784e-01],\n",
       "        [ 6.87320948e-01,  1.15100896e+00, -1.86133182e+00],\n",
       "        [ 3.24352831e-01, -1.38699973e+00,  3.32165480e-01],\n",
       "        [-3.81500661e-01,  1.66746914e-01, -1.14443731e+00],\n",
       "        [-6.84682727e-01, -1.76395154e+00,  3.03261220e-01]],\n",
       "\n",
       "       [[-3.07065696e-01, -4.86115634e-01,  4.92501110e-01],\n",
       "        [ 6.10427320e-01,  2.07458511e-01, -8.38167906e-01],\n",
       "        [-1.30906427e+00, -2.44387889e+00,  2.76322186e-01],\n",
       "        [ 2.86105365e-01,  1.24546766e+00, -7.60993809e-02],\n",
       "        [ 8.15847933e-01,  9.99763250e-01,  1.05040395e+00],\n",
       "        [ 3.41109812e-01, -5.49455345e-01, -6.82353675e-01],\n",
       "        [ 1.72449315e+00, -4.81171668e-01,  2.08157063e+00],\n",
       "        [-5.61512411e-01, -8.23070705e-02, -6.28105640e-01],\n",
       "        [-3.00250709e-01, -3.13102871e-01, -7.01855540e-01],\n",
       "        [-4.79068644e-02,  7.63958871e-01, -8.41173887e-01],\n",
       "        [ 3.72219443e-01,  8.35536271e-02,  1.97185588e+00],\n",
       "        [ 3.00437599e-01, -1.09877340e-01,  5.84325194e-01],\n",
       "        [-4.44552116e-02,  8.80302191e-01,  8.75048220e-01],\n",
       "        [-8.89033377e-01,  5.34809530e-01,  3.53175282e-01],\n",
       "        [-1.78721070e-01,  1.00582433e+00,  1.96059227e+00],\n",
       "        [-6.35945916e-01,  1.13861942e+00, -1.48803759e+00]],\n",
       "\n",
       "       [[ 1.05577219e+00,  7.37149775e-01,  1.06318820e+00],\n",
       "        [ 4.45528775e-01, -1.23289585e+00,  1.39478922e+00],\n",
       "        [ 1.16489971e+00,  1.18837512e+00,  1.63155153e-01],\n",
       "        [ 4.47061546e-02, -2.80095011e-01, -5.89282751e-01],\n",
       "        [-1.99892893e-01, -3.88600856e-01,  1.58813164e-01],\n",
       "        [ 1.46616137e+00,  1.79126427e-01, -3.18430401e-02],\n",
       "        [ 1.45070231e+00,  8.35032284e-01,  1.58242905e+00],\n",
       "        [ 2.28245318e-01, -4.63858873e-01, -4.16173816e-01],\n",
       "        [-9.38934982e-01,  3.17084968e-01, -3.79502237e-01],\n",
       "        [ 1.46581042e+00, -1.34672856e+00, -6.09649085e-02],\n",
       "        [ 9.06915009e-01, -3.26083541e-01, -3.79423618e-01],\n",
       "        [ 1.23292816e+00, -7.08521843e-01, -2.35485002e-01],\n",
       "        [ 1.72117436e+00,  4.91261423e-01,  1.68435884e+00],\n",
       "        [-1.22906096e-01, -1.94277838e-01, -6.21694148e-01],\n",
       "        [-1.11660266e+00,  1.44450307e+00,  9.94200647e-01],\n",
       "        [ 6.98241353e-01, -4.51972224e-02,  1.44651103e+00]],\n",
       "\n",
       "       [[ 3.79536033e-01,  2.53389215e+00,  4.46948409e-01],\n",
       "        [-9.22451168e-02, -5.37855268e-01, -9.32868183e-01],\n",
       "        [ 9.17496562e-01, -5.05809188e-02, -2.61272807e-02],\n",
       "        [-4.70629662e-01,  3.76491874e-01, -2.37958312e-01],\n",
       "        [-1.13837850e+00,  1.61379540e+00, -3.16153646e-01],\n",
       "        [-9.77931842e-02,  3.10699999e-01, -5.34675658e-01],\n",
       "        [-8.12051237e-01, -1.15295410e-01, -4.70828414e-01],\n",
       "        [-4.15953249e-01, -2.43568325e+00,  4.03043261e-04],\n",
       "        [-1.28147852e+00,  3.85310858e-01,  3.32907856e-01],\n",
       "        [ 1.50902912e-01, -4.92327601e-01, -6.52559921e-02],\n",
       "        [-1.20426261e+00, -5.09255528e-01, -3.04760132e-02],\n",
       "        [-1.27168894e+00,  2.61124372e-01, -2.94418454e+00],\n",
       "        [-4.62484568e-01, -7.39596605e-01,  8.03919196e-01],\n",
       "        [ 2.09791496e-01, -3.09473928e-02,  6.83485806e-01],\n",
       "        [-1.11845696e+00, -1.28903019e+00, -9.28247094e-01],\n",
       "        [ 3.42526250e-02, -1.60442388e+00, -1.59855855e+00]],\n",
       "\n",
       "       [[ 2.89838817e-02, -8.88440534e-02,  5.96938491e-01],\n",
       "        [-1.69581026e-01,  5.40778816e-01, -7.24127471e-01],\n",
       "        [ 3.69641691e-01, -1.28264189e+00,  6.16426528e-01],\n",
       "        [ 1.63864648e+00, -7.75584430e-02,  2.83731371e-01],\n",
       "        [-1.10572696e+00,  1.55329263e+00, -1.34426033e+00],\n",
       "        [-2.69049376e-01,  8.95262301e-01, -1.05814338e+00],\n",
       "        [-5.88525534e-01, -4.66848224e-01, -8.55911553e-01],\n",
       "        [-5.26940703e-01, -1.11437011e+00,  8.17595780e-01],\n",
       "        [ 8.63963485e-01, -4.74970818e-01, -1.95574269e-01],\n",
       "        [-2.08527759e-01, -7.37772822e-01, -1.04524529e+00],\n",
       "        [-2.40867272e-01, -1.03586268e+00,  1.18299399e-03],\n",
       "        [-1.26046157e+00,  2.29722530e-01,  1.15012455e+00],\n",
       "        [-9.87961233e-01,  5.55299938e-01,  4.07090992e-01],\n",
       "        [ 9.76327419e-01, -4.26393956e-01, -8.98913085e-01],\n",
       "        [-2.06384349e+00,  9.36042190e-01, -1.65624559e+00],\n",
       "        [ 1.49762034e+00,  1.26563323e+00, -1.12240899e+00]],\n",
       "\n",
       "       [[-4.09683079e-01,  1.19804251e+00,  8.67761254e-01],\n",
       "        [ 8.78435314e-01, -1.22556114e+00, -5.54704547e-01],\n",
       "        [ 5.31812191e-01, -2.50104964e-01,  7.80806422e-01],\n",
       "        [ 6.89004064e-01, -2.12342173e-01,  1.56555951e+00],\n",
       "        [ 3.89485508e-01,  9.86282468e-01, -6.26078025e-02],\n",
       "        [ 3.10254663e-01,  7.65271783e-01, -1.99905694e+00],\n",
       "        [ 7.30477393e-01,  4.71188545e-01,  2.37222338e+00],\n",
       "        [ 8.18059087e-01, -4.19068128e-01, -3.47082198e-01],\n",
       "        [-1.77375746e+00,  1.00012851e+00,  3.51084054e-01],\n",
       "        [ 4.15259659e-01, -1.41840208e+00,  1.73250723e+00],\n",
       "        [-7.62713075e-01,  2.05986314e-02,  6.77305818e-01],\n",
       "        [-3.32884133e-01, -1.23994982e+00, -5.17720938e-01],\n",
       "        [ 1.87647045e+00,  1.67819448e-02, -5.58876932e-01],\n",
       "        [-2.54392815e+00,  1.41753709e+00, -5.40195167e-01],\n",
       "        [ 7.47768700e-01,  3.32435369e-01, -2.33119339e-01],\n",
       "        [-2.26385498e+00,  4.83177602e-01, -1.55382621e+00]],\n",
       "\n",
       "       [[-2.01102662e+00, -3.58770415e-02, -3.77163321e-01],\n",
       "        [ 7.71148384e-01, -6.24563061e-02,  3.06167006e-01],\n",
       "        [ 1.42032778e+00,  4.21131730e-01,  1.76095635e-01],\n",
       "        [-4.95994866e-01,  9.51611221e-01, -4.35916573e-01],\n",
       "        [-1.06310225e+00, -4.91513073e-01,  1.68894041e+00],\n",
       "        [ 1.59139884e+00, -1.63771629e+00,  1.50321543e+00],\n",
       "        [-1.60476720e+00, -1.37008452e+00, -8.17121327e-01],\n",
       "        [-9.14563835e-01, -1.62557364e-01,  9.29831028e-01],\n",
       "        [-5.43001533e-01, -7.83146545e-02,  7.23762631e-01],\n",
       "        [ 2.98295647e-01,  3.22514355e-01,  8.00636411e-01],\n",
       "        [ 7.18513578e-02, -1.26803577e-01, -1.73970744e-01],\n",
       "        [-5.79882383e-01, -1.05894558e-01, -1.49146426e+00],\n",
       "        [-1.37064219e+00,  6.26271516e-02, -4.46324563e-03],\n",
       "        [-3.59748244e-01,  1.07678545e+00,  1.90740556e-01],\n",
       "        [ 1.13386023e+00, -2.03241563e+00, -1.16090822e+00],\n",
       "        [ 1.06420159e+00, -4.51842964e-01,  4.32573408e-01]]],\n",
       "      dtype=float32)>"
      ]
     },
     "execution_count": 66,
     "metadata": {},
     "output_type": "execute_result"
    }
   ],
   "source": [
    "x = tf.random.normal([4,32,32,3])\n",
    "# 行、列逆序间隔采样\n",
    "x[0,::-2,::-2] "
   ]
  },
  {
   "cell_type": "code",
   "execution_count": 67,
   "metadata": {
    "scrolled": true
   },
   "outputs": [
    {
     "data": {
      "text/plain": [
       "<tf.Tensor: id=349, shape=(4, 32, 32), dtype=float32, numpy=\n",
       "array([[[ 1.4163171 , -0.99100363,  0.9727313 , ..., -0.14283776,\n",
       "          0.7318449 , -0.05178464],\n",
       "        [ 0.06339532, -0.45184296,  0.25942248, ..., -0.06245631,\n",
       "          0.93556476, -0.03587704],\n",
       "        [ 0.50663936,  0.54724914,  1.3512745 , ..., -0.44103754,\n",
       "         -0.51950544,  0.17756358],\n",
       "        ...,\n",
       "        [ 0.8763012 ,  0.34712338,  0.08650679, ...,  0.29039204,\n",
       "          1.0828719 ,  0.21577203],\n",
       "        [ 0.01343326,  0.9105041 ,  0.0269085 , ...,  0.39361376,\n",
       "          1.3617097 ,  0.9417917 ],\n",
       "        [ 1.600958  , -2.006091  ,  0.61326146, ..., -1.8238584 ,\n",
       "          2.117606  , -0.2756775 ]],\n",
       "\n",
       "       [[ 1.0703735 ,  1.4782596 ,  0.12009769, ...,  0.38401797,\n",
       "          0.04191272,  0.52485675],\n",
       "        [-0.41840804,  1.4454169 , -0.10964448, ...,  1.0799342 ,\n",
       "          0.5817725 ,  0.07210258],\n",
       "        [ 0.74234515, -0.24507006, -1.4578117 , ...,  0.78528863,\n",
       "          0.38497218, -0.26053986],\n",
       "        ...,\n",
       "        [ 1.2675922 , -0.2745693 , -0.02892177, ..., -0.57574046,\n",
       "         -0.2937074 , -0.61858463],\n",
       "        [ 0.7197056 , -0.09661885,  1.57974   , ..., -1.5087924 ,\n",
       "          0.33159482, -1.0467966 ],\n",
       "        [-0.350354  , -1.2442244 , -0.08673938, ...,  0.24782813,\n",
       "         -0.811963  , -2.1343265 ]],\n",
       "\n",
       "       [[ 0.02867392,  0.2764482 ,  0.28951004, ..., -2.2164378 ,\n",
       "         -0.37068766,  0.5199307 ],\n",
       "        [-0.48181632,  0.32555372,  1.7738433 , ...,  1.8274868 ,\n",
       "          1.9262378 ,  1.4781617 ],\n",
       "        [-0.61703444, -0.9920038 ,  0.16347714, ..., -1.5277367 ,\n",
       "         -0.26580867, -0.93169016],\n",
       "        ...,\n",
       "        [ 1.4125067 , -0.64576894,  1.6190858 , ...,  1.12469   ,\n",
       "          0.50192773,  0.63845533],\n",
       "        [ 0.691138  ,  0.12318911, -0.22001705, ..., -0.4024496 ,\n",
       "          0.22826505,  0.65774703],\n",
       "        [ 0.77819216, -1.4757123 , -0.67379785, ...,  0.24467486,\n",
       "          0.92913467,  0.9631916 ]],\n",
       "\n",
       "       [[ 0.7077201 ,  0.5323147 , -1.0398798 , ...,  0.24293837,\n",
       "          1.1682541 , -0.86423796],\n",
       "        [ 2.0821848 ,  1.6705498 ,  0.8603331 , ..., -0.00379611,\n",
       "          0.38956848,  0.46457008],\n",
       "        [ 1.9155502 , -0.5832435 ,  0.7783419 , ...,  1.8953909 ,\n",
       "          1.4621454 ,  0.17147888],\n",
       "        ...,\n",
       "        [-0.42842555, -0.94538003, -0.28229833, ..., -1.9318515 ,\n",
       "         -0.01057505, -1.0039985 ],\n",
       "        [-0.80825275,  0.4771214 ,  1.0895633 , ..., -0.4262108 ,\n",
       "         -0.7066786 , -0.35098422],\n",
       "        [-0.42301536, -0.613507  ,  0.608786  , ..., -1.652022  ,\n",
       "          0.05982488,  0.07077256]]], dtype=float32)>"
      ]
     },
     "execution_count": 67,
     "metadata": {},
     "output_type": "execute_result"
    }
   ],
   "source": [
    "# 取 G 通道数据\n",
    "x[:,:,:,1] "
   ]
  },
  {
   "cell_type": "code",
   "execution_count": 68,
   "metadata": {
    "scrolled": true
   },
   "outputs": [
    {
     "data": {
      "text/plain": [
       "<tf.Tensor: id=353, shape=(2, 32, 32, 2), dtype=float32, numpy=\n",
       "array([[[[ 1.4163171 , -0.7690393 ],\n",
       "         [-0.99100363,  0.58865726],\n",
       "         [ 0.9727313 , -1.3791904 ],\n",
       "         ...,\n",
       "         [-0.14283776,  0.22880542],\n",
       "         [ 0.7318449 , -1.574153  ],\n",
       "         [-0.05178464,  2.4106843 ]],\n",
       "\n",
       "        [[ 0.06339532,  0.65484357],\n",
       "         [-0.45184296,  0.4325734 ],\n",
       "         [ 0.25942248,  1.9919096 ],\n",
       "         ...,\n",
       "         [-0.06245631,  0.306167  ],\n",
       "         [ 0.93556476,  0.8361039 ],\n",
       "         [-0.03587704, -0.37716332]],\n",
       "\n",
       "        [[ 0.50663936,  1.9259235 ],\n",
       "         [ 0.54724914, -1.0042543 ],\n",
       "         [ 1.3512745 ,  0.4089729 ],\n",
       "         ...,\n",
       "         [-0.44103754, -0.64622813],\n",
       "         [-0.51950544,  1.4431831 ],\n",
       "         [ 0.17756358,  0.10349176]],\n",
       "\n",
       "        ...,\n",
       "\n",
       "        [[ 0.8763012 ,  0.22065912],\n",
       "         [ 0.34712338,  1.073838  ],\n",
       "         [ 0.08650679, -1.6869181 ],\n",
       "         ...,\n",
       "         [ 0.29039204,  0.64912045],\n",
       "         [ 1.0828719 , -0.12624674],\n",
       "         [ 0.21577203, -0.25040057]],\n",
       "\n",
       "        [[ 0.01343326, -0.30781636],\n",
       "         [ 0.9105041 , -0.86896634],\n",
       "         [ 0.0269085 ,  0.65914637],\n",
       "         ...,\n",
       "         [ 0.39361376, -0.05168477],\n",
       "         [ 1.3617097 , -1.0291021 ],\n",
       "         [ 0.9417917 , -0.04672549]],\n",
       "\n",
       "        [[ 1.600958  ,  0.7840056 ],\n",
       "         [-2.006091  ,  0.20473126],\n",
       "         [ 0.61326146, -1.4000008 ],\n",
       "         ...,\n",
       "         [-1.8238584 , -1.2301915 ],\n",
       "         [ 2.117606  ,  0.5452659 ],\n",
       "         [-0.2756775 , -0.9973966 ]]],\n",
       "\n",
       "\n",
       "       [[[ 1.0703735 , -2.146106  ],\n",
       "         [ 1.4782596 , -1.2472901 ],\n",
       "         [ 0.12009769, -1.0607098 ],\n",
       "         ...,\n",
       "         [ 0.38401797,  0.50604844],\n",
       "         [ 0.04191272,  0.27463615],\n",
       "         [ 0.52485675,  0.3861856 ]],\n",
       "\n",
       "        [[-0.41840804, -0.17565121],\n",
       "         [ 1.4454169 , -0.52557904],\n",
       "         [-0.10964448, -0.5996294 ],\n",
       "         ...,\n",
       "         [ 1.0799342 ,  1.7728363 ],\n",
       "         [ 0.5817725 ,  0.5145483 ],\n",
       "         [ 0.07210258,  0.7183328 ]],\n",
       "\n",
       "        [[ 0.74234515,  0.542595  ],\n",
       "         [-0.24507006, -0.5835474 ],\n",
       "         [-1.4578117 ,  0.19497326],\n",
       "         ...,\n",
       "         [ 0.78528863,  0.23745888],\n",
       "         [ 0.38497218,  0.62757623],\n",
       "         [-0.26053986,  1.3984132 ]],\n",
       "\n",
       "        ...,\n",
       "\n",
       "        [[ 1.2675922 , -1.0329618 ],\n",
       "         [-0.2745693 ,  0.92793256],\n",
       "         [-0.02892177,  0.44218448],\n",
       "         ...,\n",
       "         [-0.57574046, -0.6328034 ],\n",
       "         [-0.2937074 , -0.26513577],\n",
       "         [-0.61858463, -0.50445104]],\n",
       "\n",
       "        [[ 0.7197056 ,  0.3398604 ],\n",
       "         [-0.09661885,  0.46410155],\n",
       "         [ 1.57974   , -1.0063481 ],\n",
       "         ...,\n",
       "         [-1.5087924 ,  1.2883189 ],\n",
       "         [ 0.33159482, -0.2844033 ],\n",
       "         [-1.0467966 , -0.32312772]],\n",
       "\n",
       "        [[-0.350354  , -0.04758335],\n",
       "         [-1.2442244 ,  1.2135384 ],\n",
       "         [-0.08673938,  0.10175746],\n",
       "         ...,\n",
       "         [ 0.24782813,  0.26875576],\n",
       "         [-0.811963  , -1.2847109 ],\n",
       "         [-2.1343265 ,  0.8404333 ]]]], dtype=float32)>"
      ]
     },
     "execution_count": 68,
     "metadata": {},
     "output_type": "execute_result"
    }
   ],
   "source": [
    "# 读取第 1~2 张图片的 G/B 通道数据\n",
    "# 高宽维度全部采集\n",
    "x[0:2,...,1:] "
   ]
  },
  {
   "cell_type": "code",
   "execution_count": 69,
   "metadata": {
    "scrolled": true
   },
   "outputs": [
    {
     "data": {
      "text/plain": [
       "<tf.Tensor: id=357, shape=(2, 32, 32, 3), dtype=float32, numpy=\n",
       "array([[[[ 0.10016768,  0.02867392,  0.02509212],\n",
       "         [-1.37642   ,  0.2764482 ,  1.4171727 ],\n",
       "         [-0.24855998,  0.28951004, -0.7084009 ],\n",
       "         ...,\n",
       "         [-0.80414665, -2.2164378 ,  0.57747734],\n",
       "         [ 0.94737893, -0.37068766,  0.34749508],\n",
       "         [ 2.0098033 ,  0.5199307 ,  0.39188537]],\n",
       "\n",
       "        [[-0.813648  , -0.48181632, -0.0441347 ],\n",
       "         [-1.4751934 ,  0.32555372, -0.07609986],\n",
       "         [ 1.2997733 ,  1.7738433 ,  0.39246076],\n",
       "         ...,\n",
       "         [-1.2471989 ,  1.8274868 ,  0.26184738],\n",
       "         [ 1.8727727 ,  1.9262378 ,  0.2938723 ],\n",
       "         [ 1.2489593 ,  1.4781617 ,  1.1826677 ]],\n",
       "\n",
       "        [[ 0.5581632 , -0.61703444,  0.85014933],\n",
       "         [ 0.8112494 , -0.9920038 , -0.18897657],\n",
       "         [ 2.3027737 ,  0.16347714, -2.1211443 ],\n",
       "         ...,\n",
       "         [ 0.05707187, -1.5277367 , -0.6178113 ],\n",
       "         [ 0.17470706, -0.26580867, -1.0753275 ],\n",
       "         [-0.70576775, -0.93169016,  1.2624627 ]],\n",
       "\n",
       "        ...,\n",
       "\n",
       "        [[ 1.3756223 ,  1.4125067 , -2.046911  ],\n",
       "         [-0.3519482 , -0.64576894,  1.0077294 ],\n",
       "         [ 0.56539166,  1.6190858 ,  0.03811284],\n",
       "         ...,\n",
       "         [-0.25903618,  1.12469   , -0.13568652],\n",
       "         [-0.70874095,  0.50192773,  1.537018  ],\n",
       "         [ 0.25949088,  0.63845533,  0.2287958 ]],\n",
       "\n",
       "        [[-0.12785028,  0.691138  , -1.109921  ],\n",
       "         [ 0.36743864,  0.12318911,  1.009752  ],\n",
       "         [ 0.9059904 , -0.22001705,  1.839287  ],\n",
       "         ...,\n",
       "         [-1.6193678 , -0.4024496 , -0.20079044],\n",
       "         [-0.19156297,  0.22826505, -0.24995944],\n",
       "         [-1.1847833 ,  0.65774703, -1.0172408 ]],\n",
       "\n",
       "        [[ 0.43462294,  0.77819216, -1.2573636 ],\n",
       "         [-1.1711454 , -1.4757123 , -0.14878285],\n",
       "         [ 2.0739927 , -0.67379785, -0.04890786],\n",
       "         ...,\n",
       "         [ 0.7508663 ,  0.24467486,  0.6466692 ],\n",
       "         [ 0.376744  ,  0.92913467,  1.3028069 ],\n",
       "         [-0.49140453,  0.9631916 , -0.740195  ]]],\n",
       "\n",
       "\n",
       "       [[[ 0.12999968,  0.7077201 ,  0.26432383],\n",
       "         [-0.16608186,  0.5323147 ,  0.8020498 ],\n",
       "         [-1.2807297 , -1.0398798 ,  1.0783079 ],\n",
       "         ...,\n",
       "         [ 0.42747092,  0.24293837, -0.39992023],\n",
       "         [-0.7493534 ,  1.1682541 ,  1.4321721 ],\n",
       "         [ 0.03577511, -0.86423796,  1.6875656 ]],\n",
       "\n",
       "        [[ 0.45188302,  2.0821848 ,  0.07178673],\n",
       "         [-2.3582206 ,  1.6705498 ,  0.56696004],\n",
       "         [ 0.18771541,  0.8603331 ,  0.1360941 ],\n",
       "         ...,\n",
       "         [-1.549992  , -0.00379611, -0.6508446 ],\n",
       "         [ 0.08295927,  0.38956848,  0.5191929 ],\n",
       "         [ 0.6640537 ,  0.46457008, -0.21760848]],\n",
       "\n",
       "        [[-0.37865883,  1.9155502 ,  0.92478716],\n",
       "         [-1.09609   , -0.5832435 , -0.2271053 ],\n",
       "         [ 0.8803308 ,  0.7783419 , -0.30425534],\n",
       "         ...,\n",
       "         [ 0.22968389,  1.8953909 ,  0.492373  ],\n",
       "         [ 1.2239668 ,  1.4621454 , -1.4945077 ],\n",
       "         [ 1.1911174 ,  0.17147888,  0.34991258]],\n",
       "\n",
       "        ...,\n",
       "\n",
       "        [[ 2.0022044 , -0.42842555, -0.97061986],\n",
       "         [-0.36389342, -0.94538003,  0.7716064 ],\n",
       "         [ 1.4214737 , -0.28229833,  0.3723584 ],\n",
       "         ...,\n",
       "         [ 0.82079196, -1.9318515 ,  0.8423173 ],\n",
       "         [-0.08169366, -0.01057505, -0.41362706],\n",
       "         [ 0.61771387, -1.0039985 ,  0.70148283]],\n",
       "\n",
       "        [[ 0.24193908, -0.80825275, -1.1766526 ],\n",
       "         [ 1.174736  ,  0.4771214 , -0.17479946],\n",
       "         [ 1.6207311 ,  1.0895633 , -0.02655095],\n",
       "         ...,\n",
       "         [-0.7746005 , -0.4262108 ,  0.8806682 ],\n",
       "         [ 0.02463623, -0.7066786 , -1.883852  ],\n",
       "         [ 1.165399  , -0.35098422,  0.3291868 ]],\n",
       "\n",
       "        [[ 0.57706445, -0.42301536, -0.5979423 ],\n",
       "         [ 2.3600054 , -0.613507  ,  0.9181779 ],\n",
       "         [-1.2030727 ,  0.608786  , -1.2329402 ],\n",
       "         ...,\n",
       "         [-0.6709004 , -1.652022  ,  0.60809714],\n",
       "         [ 1.0240784 ,  0.05982488,  0.8524946 ],\n",
       "         [-0.6979662 ,  0.07077256, -0.20640437]]]], dtype=float32)>"
      ]
     },
     "execution_count": 69,
     "metadata": {},
     "output_type": "execute_result"
    }
   ],
   "source": [
    "# 读取最后 2 张图片\n",
    "# 高、宽、通道维度全部采集，等价于 x[2:]\n",
    "x[2:,...] "
   ]
  },
  {
   "cell_type": "code",
   "execution_count": 70,
   "metadata": {},
   "outputs": [
    {
     "data": {
      "text/plain": [
       "<tf.Tensor: id=361, shape=(4, 32, 32, 2), dtype=float32, numpy=\n",
       "array([[[[-0.15501821,  1.4163171 ],\n",
       "         [ 0.13188218, -0.99100363],\n",
       "         [ 0.13047694,  0.9727313 ],\n",
       "         ...,\n",
       "         [ 0.33833382, -0.14283776],\n",
       "         [ 1.0042797 ,  0.7318449 ],\n",
       "         [ 0.20474268, -0.05178464]],\n",
       "\n",
       "        [[-0.15079647,  0.06339532],\n",
       "         [ 1.0642016 , -0.45184296],\n",
       "         [-1.8020998 ,  0.25942248],\n",
       "         ...,\n",
       "         [ 0.7711484 , -0.06245631],\n",
       "         [-1.3013368 ,  0.93556476],\n",
       "         [-2.0110266 , -0.03587704]],\n",
       "\n",
       "        [[ 1.5875183 ,  0.50663936],\n",
       "         [ 1.2086841 ,  0.54724914],\n",
       "         [-0.11268201,  1.3512745 ],\n",
       "         ...,\n",
       "         [ 0.5017021 , -0.44103754],\n",
       "         [-0.68322235, -0.51950544],\n",
       "         [ 0.31125382,  0.17756358]],\n",
       "\n",
       "        ...,\n",
       "\n",
       "        [[-1.7715315 ,  0.8763012 ],\n",
       "         [ 0.8799027 ,  0.34712338],\n",
       "         [ 0.57395184,  0.08650679],\n",
       "         ...,\n",
       "         [-0.07819584,  0.29039204],\n",
       "         [ 0.6956597 ,  1.0828719 ],\n",
       "         [-0.77999073,  0.21577203]],\n",
       "\n",
       "        [[ 1.0609733 ,  0.01343326],\n",
       "         [ 0.08697012,  0.9105041 ],\n",
       "         [-0.26272076,  0.0269085 ],\n",
       "         ...,\n",
       "         [-1.4642456 ,  0.39361376],\n",
       "         [ 0.26474503,  1.3617097 ],\n",
       "         [-0.77640253,  0.9417917 ]],\n",
       "\n",
       "        [[-0.87440276,  1.600958  ],\n",
       "         [-1.9758791 , -2.006091  ],\n",
       "         [-1.5236299 ,  0.61326146],\n",
       "         ...,\n",
       "         [-1.638595  , -1.8238584 ],\n",
       "         [ 0.26066974,  2.117606  ],\n",
       "         [-1.3023144 , -0.2756775 ]]],\n",
       "\n",
       "\n",
       "       [[[-1.0296854 ,  1.0703735 ],\n",
       "         [-1.270988  ,  1.4782596 ],\n",
       "         [-1.0966079 ,  0.12009769],\n",
       "         ...,\n",
       "         [ 1.1720417 ,  0.38401797],\n",
       "         [-0.07033119,  0.04191272],\n",
       "         [ 0.444938  ,  0.52485675]],\n",
       "\n",
       "        [[ 0.7440675 , -0.41840804],\n",
       "         [-1.2538531 ,  1.4454169 ],\n",
       "         [ 0.58274835, -0.10964448],\n",
       "         ...,\n",
       "         [-0.18729693,  1.0799342 ],\n",
       "         [-1.026585  ,  0.5817725 ],\n",
       "         [-0.10492834,  0.07210258]],\n",
       "\n",
       "        [[-1.1476188 ,  0.74234515],\n",
       "         [ 0.5603768 , -0.24507006],\n",
       "         [-0.47863176, -1.4578117 ],\n",
       "         ...,\n",
       "         [ 0.6119037 ,  0.78528863],\n",
       "         [ 0.7095858 ,  0.38497218],\n",
       "         [ 0.35550764, -0.26053986]],\n",
       "\n",
       "        ...,\n",
       "\n",
       "        [[ 0.8186065 ,  1.2675922 ],\n",
       "         [ 0.47063237, -0.2745693 ],\n",
       "         [ 0.06565768, -0.02892177],\n",
       "         ...,\n",
       "         [ 0.240654  , -0.57574046],\n",
       "         [ 0.00814327, -0.2937074 ],\n",
       "         [ 0.437441  , -0.61858463]],\n",
       "\n",
       "        [[-0.6652687 ,  0.7197056 ],\n",
       "         [ 0.56115127, -0.09661885],\n",
       "         [ 0.2233412 ,  1.57974   ],\n",
       "         ...,\n",
       "         [ 0.4835052 , -1.5087924 ],\n",
       "         [-0.15991892,  0.33159482],\n",
       "         [ 0.7125716 , -1.0467966 ]],\n",
       "\n",
       "        [[-0.6836143 , -0.350354  ],\n",
       "         [-0.896929  , -1.2442244 ],\n",
       "         [ 0.9189154 , -0.08673938],\n",
       "         ...,\n",
       "         [-1.563041  ,  0.24782813],\n",
       "         [-0.78628385, -0.811963  ],\n",
       "         [ 3.4328446 , -2.1343265 ]]],\n",
       "\n",
       "\n",
       "       [[[ 0.10016768,  0.02867392],\n",
       "         [-1.37642   ,  0.2764482 ],\n",
       "         [-0.24855998,  0.28951004],\n",
       "         ...,\n",
       "         [-0.80414665, -2.2164378 ],\n",
       "         [ 0.94737893, -0.37068766],\n",
       "         [ 2.0098033 ,  0.5199307 ]],\n",
       "\n",
       "        [[-0.813648  , -0.48181632],\n",
       "         [-1.4751934 ,  0.32555372],\n",
       "         [ 1.2997733 ,  1.7738433 ],\n",
       "         ...,\n",
       "         [-1.2471989 ,  1.8274868 ],\n",
       "         [ 1.8727727 ,  1.9262378 ],\n",
       "         [ 1.2489593 ,  1.4781617 ]],\n",
       "\n",
       "        [[ 0.5581632 , -0.61703444],\n",
       "         [ 0.8112494 , -0.9920038 ],\n",
       "         [ 2.3027737 ,  0.16347714],\n",
       "         ...,\n",
       "         [ 0.05707187, -1.5277367 ],\n",
       "         [ 0.17470706, -0.26580867],\n",
       "         [-0.70576775, -0.93169016]],\n",
       "\n",
       "        ...,\n",
       "\n",
       "        [[ 1.3756223 ,  1.4125067 ],\n",
       "         [-0.3519482 , -0.64576894],\n",
       "         [ 0.56539166,  1.6190858 ],\n",
       "         ...,\n",
       "         [-0.25903618,  1.12469   ],\n",
       "         [-0.70874095,  0.50192773],\n",
       "         [ 0.25949088,  0.63845533]],\n",
       "\n",
       "        [[-0.12785028,  0.691138  ],\n",
       "         [ 0.36743864,  0.12318911],\n",
       "         [ 0.9059904 , -0.22001705],\n",
       "         ...,\n",
       "         [-1.6193678 , -0.4024496 ],\n",
       "         [-0.19156297,  0.22826505],\n",
       "         [-1.1847833 ,  0.65774703]],\n",
       "\n",
       "        [[ 0.43462294,  0.77819216],\n",
       "         [-1.1711454 , -1.4757123 ],\n",
       "         [ 2.0739927 , -0.67379785],\n",
       "         ...,\n",
       "         [ 0.7508663 ,  0.24467486],\n",
       "         [ 0.376744  ,  0.92913467],\n",
       "         [-0.49140453,  0.9631916 ]]],\n",
       "\n",
       "\n",
       "       [[[ 0.12999968,  0.7077201 ],\n",
       "         [-0.16608186,  0.5323147 ],\n",
       "         [-1.2807297 , -1.0398798 ],\n",
       "         ...,\n",
       "         [ 0.42747092,  0.24293837],\n",
       "         [-0.7493534 ,  1.1682541 ],\n",
       "         [ 0.03577511, -0.86423796]],\n",
       "\n",
       "        [[ 0.45188302,  2.0821848 ],\n",
       "         [-2.3582206 ,  1.6705498 ],\n",
       "         [ 0.18771541,  0.8603331 ],\n",
       "         ...,\n",
       "         [-1.549992  , -0.00379611],\n",
       "         [ 0.08295927,  0.38956848],\n",
       "         [ 0.6640537 ,  0.46457008]],\n",
       "\n",
       "        [[-0.37865883,  1.9155502 ],\n",
       "         [-1.09609   , -0.5832435 ],\n",
       "         [ 0.8803308 ,  0.7783419 ],\n",
       "         ...,\n",
       "         [ 0.22968389,  1.8953909 ],\n",
       "         [ 1.2239668 ,  1.4621454 ],\n",
       "         [ 1.1911174 ,  0.17147888]],\n",
       "\n",
       "        ...,\n",
       "\n",
       "        [[ 2.0022044 , -0.42842555],\n",
       "         [-0.36389342, -0.94538003],\n",
       "         [ 1.4214737 , -0.28229833],\n",
       "         ...,\n",
       "         [ 0.82079196, -1.9318515 ],\n",
       "         [-0.08169366, -0.01057505],\n",
       "         [ 0.61771387, -1.0039985 ]],\n",
       "\n",
       "        [[ 0.24193908, -0.80825275],\n",
       "         [ 1.174736  ,  0.4771214 ],\n",
       "         [ 1.6207311 ,  1.0895633 ],\n",
       "         ...,\n",
       "         [-0.7746005 , -0.4262108 ],\n",
       "         [ 0.02463623, -0.7066786 ],\n",
       "         [ 1.165399  , -0.35098422]],\n",
       "\n",
       "        [[ 0.57706445, -0.42301536],\n",
       "         [ 2.3600054 , -0.613507  ],\n",
       "         [-1.2030727 ,  0.608786  ],\n",
       "         ...,\n",
       "         [-0.6709004 , -1.652022  ],\n",
       "         [ 1.0240784 ,  0.05982488],\n",
       "         [-0.6979662 ,  0.07077256]]]], dtype=float32)>"
      ]
     },
     "execution_count": 70,
     "metadata": {},
     "output_type": "execute_result"
    }
   ],
   "source": [
    "# 读取 R/G 通道数据\n",
    "# 所有样本，所有高、宽的前 2 个通道\n",
    "x[...,:2] "
   ]
  },
  {
   "cell_type": "markdown",
   "metadata": {},
   "source": [
    "## 维度变换\n",
    "\n",
    "### 改变视图"
   ]
  },
  {
   "cell_type": "code",
   "execution_count": 71,
   "metadata": {
    "scrolled": true
   },
   "outputs": [
    {
     "data": {
      "text/plain": [
       "<tf.Tensor: id=367, shape=(2, 4, 4, 3), dtype=int32, numpy=\n",
       "array([[[[ 0,  1,  2],\n",
       "         [ 3,  4,  5],\n",
       "         [ 6,  7,  8],\n",
       "         [ 9, 10, 11]],\n",
       "\n",
       "        [[12, 13, 14],\n",
       "         [15, 16, 17],\n",
       "         [18, 19, 20],\n",
       "         [21, 22, 23]],\n",
       "\n",
       "        [[24, 25, 26],\n",
       "         [27, 28, 29],\n",
       "         [30, 31, 32],\n",
       "         [33, 34, 35]],\n",
       "\n",
       "        [[36, 37, 38],\n",
       "         [39, 40, 41],\n",
       "         [42, 43, 44],\n",
       "         [45, 46, 47]]],\n",
       "\n",
       "\n",
       "       [[[48, 49, 50],\n",
       "         [51, 52, 53],\n",
       "         [54, 55, 56],\n",
       "         [57, 58, 59]],\n",
       "\n",
       "        [[60, 61, 62],\n",
       "         [63, 64, 65],\n",
       "         [66, 67, 68],\n",
       "         [69, 70, 71]],\n",
       "\n",
       "        [[72, 73, 74],\n",
       "         [75, 76, 77],\n",
       "         [78, 79, 80],\n",
       "         [81, 82, 83]],\n",
       "\n",
       "        [[84, 85, 86],\n",
       "         [87, 88, 89],\n",
       "         [90, 91, 92],\n",
       "         [93, 94, 95]]]])>"
      ]
     },
     "execution_count": 71,
     "metadata": {},
     "output_type": "execute_result"
    }
   ],
   "source": [
    "# 生成向量\n",
    "x=tf.range(96)\n",
    "# 改变 x 的视图，获得 4D 张量，存储并未改变\n",
    "x=tf.reshape(x,[2,4,4,3]) \n",
    "x"
   ]
  },
  {
   "cell_type": "markdown",
   "metadata": {},
   "source": [
    "### 改变视图"
   ]
  },
  {
   "cell_type": "markdown",
   "metadata": {},
   "source": [
    "我们通过 tf.range()模拟生成一个向量数据，并通过 tf.reshape 视图改变函数产生不同的视图"
   ]
  },
  {
   "cell_type": "code",
   "execution_count": 72,
   "metadata": {
    "scrolled": true
   },
   "outputs": [
    {
     "data": {
      "text/plain": [
       "<tf.Tensor: id=373, shape=(2, 4, 4, 3), dtype=int32, numpy=\n",
       "array([[[[ 0,  1,  2],\n",
       "         [ 3,  4,  5],\n",
       "         [ 6,  7,  8],\n",
       "         [ 9, 10, 11]],\n",
       "\n",
       "        [[12, 13, 14],\n",
       "         [15, 16, 17],\n",
       "         [18, 19, 20],\n",
       "         [21, 22, 23]],\n",
       "\n",
       "        [[24, 25, 26],\n",
       "         [27, 28, 29],\n",
       "         [30, 31, 32],\n",
       "         [33, 34, 35]],\n",
       "\n",
       "        [[36, 37, 38],\n",
       "         [39, 40, 41],\n",
       "         [42, 43, 44],\n",
       "         [45, 46, 47]]],\n",
       "\n",
       "\n",
       "       [[[48, 49, 50],\n",
       "         [51, 52, 53],\n",
       "         [54, 55, 56],\n",
       "         [57, 58, 59]],\n",
       "\n",
       "        [[60, 61, 62],\n",
       "         [63, 64, 65],\n",
       "         [66, 67, 68],\n",
       "         [69, 70, 71]],\n",
       "\n",
       "        [[72, 73, 74],\n",
       "         [75, 76, 77],\n",
       "         [78, 79, 80],\n",
       "         [81, 82, 83]],\n",
       "\n",
       "        [[84, 85, 86],\n",
       "         [87, 88, 89],\n",
       "         [90, 91, 92],\n",
       "         [93, 94, 95]]]])>"
      ]
     },
     "execution_count": 72,
     "metadata": {},
     "output_type": "execute_result"
    }
   ],
   "source": [
    "# 生成向量\n",
    "x = tf.range(96) \n",
    "# 改变 x 的视图，获得 4D 张量，存储并未改变\n",
    "x = tf.reshape(x,[2,4,4,3]) \n",
    "x"
   ]
  },
  {
   "cell_type": "code",
   "execution_count": 73,
   "metadata": {},
   "outputs": [
    {
     "data": {
      "text/plain": [
       "(4, TensorShape([2, 4, 4, 3]))"
      ]
     },
     "execution_count": 73,
     "metadata": {},
     "output_type": "execute_result"
    }
   ],
   "source": [
    "# 获取张量的维度数和形状列表\n",
    "x.ndim,x.shape "
   ]
  },
  {
   "cell_type": "markdown",
   "metadata": {},
   "source": [
    "通过 tf.reshape(x, new_shape)，可以将张量的视图任意地合法改变"
   ]
  },
  {
   "cell_type": "code",
   "execution_count": 74,
   "metadata": {},
   "outputs": [
    {
     "data": {
      "text/plain": [
       "<tf.Tensor: id=375, shape=(2, 48), dtype=int32, numpy=\n",
       "array([[ 0,  1,  2,  3,  4,  5,  6,  7,  8,  9, 10, 11, 12, 13, 14, 15,\n",
       "        16, 17, 18, 19, 20, 21, 22, 23, 24, 25, 26, 27, 28, 29, 30, 31,\n",
       "        32, 33, 34, 35, 36, 37, 38, 39, 40, 41, 42, 43, 44, 45, 46, 47],\n",
       "       [48, 49, 50, 51, 52, 53, 54, 55, 56, 57, 58, 59, 60, 61, 62, 63,\n",
       "        64, 65, 66, 67, 68, 69, 70, 71, 72, 73, 74, 75, 76, 77, 78, 79,\n",
       "        80, 81, 82, 83, 84, 85, 86, 87, 88, 89, 90, 91, 92, 93, 94, 95]])>"
      ]
     },
     "execution_count": 74,
     "metadata": {},
     "output_type": "execute_result"
    }
   ],
   "source": [
    "tf.reshape(x,[2,-1])"
   ]
  },
  {
   "cell_type": "code",
   "execution_count": 75,
   "metadata": {},
   "outputs": [
    {
     "data": {
      "text/plain": [
       "<tf.Tensor: id=377, shape=(2, 4, 12), dtype=int32, numpy=\n",
       "array([[[ 0,  1,  2,  3,  4,  5,  6,  7,  8,  9, 10, 11],\n",
       "        [12, 13, 14, 15, 16, 17, 18, 19, 20, 21, 22, 23],\n",
       "        [24, 25, 26, 27, 28, 29, 30, 31, 32, 33, 34, 35],\n",
       "        [36, 37, 38, 39, 40, 41, 42, 43, 44, 45, 46, 47]],\n",
       "\n",
       "       [[48, 49, 50, 51, 52, 53, 54, 55, 56, 57, 58, 59],\n",
       "        [60, 61, 62, 63, 64, 65, 66, 67, 68, 69, 70, 71],\n",
       "        [72, 73, 74, 75, 76, 77, 78, 79, 80, 81, 82, 83],\n",
       "        [84, 85, 86, 87, 88, 89, 90, 91, 92, 93, 94, 95]]])>"
      ]
     },
     "execution_count": 75,
     "metadata": {},
     "output_type": "execute_result"
    }
   ],
   "source": [
    " tf.reshape(x,[2,4,12])"
   ]
  },
  {
   "cell_type": "code",
   "execution_count": 76,
   "metadata": {
    "scrolled": true
   },
   "outputs": [
    {
     "data": {
      "text/plain": [
       "<tf.Tensor: id=379, shape=(2, 16, 3), dtype=int32, numpy=\n",
       "array([[[ 0,  1,  2],\n",
       "        [ 3,  4,  5],\n",
       "        [ 6,  7,  8],\n",
       "        [ 9, 10, 11],\n",
       "        [12, 13, 14],\n",
       "        [15, 16, 17],\n",
       "        [18, 19, 20],\n",
       "        [21, 22, 23],\n",
       "        [24, 25, 26],\n",
       "        [27, 28, 29],\n",
       "        [30, 31, 32],\n",
       "        [33, 34, 35],\n",
       "        [36, 37, 38],\n",
       "        [39, 40, 41],\n",
       "        [42, 43, 44],\n",
       "        [45, 46, 47]],\n",
       "\n",
       "       [[48, 49, 50],\n",
       "        [51, 52, 53],\n",
       "        [54, 55, 56],\n",
       "        [57, 58, 59],\n",
       "        [60, 61, 62],\n",
       "        [63, 64, 65],\n",
       "        [66, 67, 68],\n",
       "        [69, 70, 71],\n",
       "        [72, 73, 74],\n",
       "        [75, 76, 77],\n",
       "        [78, 79, 80],\n",
       "        [81, 82, 83],\n",
       "        [84, 85, 86],\n",
       "        [87, 88, 89],\n",
       "        [90, 91, 92],\n",
       "        [93, 94, 95]]])>"
      ]
     },
     "execution_count": 76,
     "metadata": {},
     "output_type": "execute_result"
    }
   ],
   "source": [
    "tf.reshape(x,[2,-1,3])"
   ]
  },
  {
   "cell_type": "markdown",
   "metadata": {},
   "source": [
    "### 增、 删维度"
   ]
  },
  {
   "cell_type": "code",
   "execution_count": 77,
   "metadata": {
    "scrolled": true
   },
   "outputs": [
    {
     "data": {
      "text/plain": [
       "<tf.Tensor: id=383, shape=(28, 28), dtype=int32, numpy=\n",
       "array([[3, 1, 4, 5, 1, 1, 2, 7, 3, 2, 0, 4, 8, 6, 1, 1, 9, 2, 7, 8, 8, 5,\n",
       "        3, 1, 6, 3, 3, 7],\n",
       "       [9, 2, 9, 3, 4, 8, 2, 9, 9, 3, 6, 4, 5, 6, 6, 5, 5, 0, 7, 0, 1, 5,\n",
       "        4, 4, 6, 7, 4, 8],\n",
       "       [1, 7, 1, 1, 8, 4, 1, 7, 1, 2, 1, 5, 9, 7, 3, 1, 5, 4, 7, 6, 0, 1,\n",
       "        6, 6, 7, 4, 1, 2],\n",
       "       [3, 4, 5, 8, 8, 6, 9, 6, 3, 6, 9, 2, 8, 0, 7, 4, 4, 9, 9, 2, 9, 9,\n",
       "        3, 1, 9, 8, 9, 3],\n",
       "       [9, 9, 7, 3, 5, 4, 4, 6, 7, 3, 8, 0, 3, 3, 8, 3, 2, 2, 5, 2, 3, 8,\n",
       "        7, 7, 7, 3, 0, 4],\n",
       "       [8, 5, 5, 2, 4, 4, 3, 6, 3, 1, 0, 7, 4, 9, 2, 8, 6, 3, 2, 6, 4, 5,\n",
       "        3, 9, 6, 8, 0, 7],\n",
       "       [2, 4, 4, 9, 2, 4, 2, 3, 0, 3, 7, 5, 5, 9, 6, 1, 8, 4, 7, 8, 5, 7,\n",
       "        1, 1, 4, 8, 1, 8],\n",
       "       [5, 0, 9, 5, 9, 0, 2, 8, 9, 8, 1, 4, 1, 4, 5, 9, 3, 5, 6, 5, 7, 5,\n",
       "        0, 2, 9, 1, 1, 8],\n",
       "       [3, 0, 2, 7, 8, 5, 3, 1, 9, 1, 5, 1, 7, 8, 6, 6, 1, 9, 2, 6, 7, 1,\n",
       "        7, 6, 2, 6, 0, 9],\n",
       "       [7, 3, 8, 8, 9, 6, 2, 4, 8, 6, 6, 5, 3, 8, 3, 8, 6, 5, 8, 3, 6, 1,\n",
       "        1, 3, 0, 7, 5, 5],\n",
       "       [1, 8, 3, 4, 5, 1, 3, 8, 1, 1, 5, 0, 9, 1, 3, 9, 7, 3, 9, 3, 4, 8,\n",
       "        9, 1, 0, 8, 2, 1],\n",
       "       [0, 4, 8, 5, 3, 0, 7, 1, 5, 8, 2, 4, 0, 4, 3, 3, 8, 4, 3, 1, 7, 0,\n",
       "        3, 1, 0, 3, 5, 8],\n",
       "       [8, 9, 6, 4, 2, 9, 2, 7, 9, 8, 5, 5, 5, 4, 0, 7, 1, 6, 9, 6, 7, 9,\n",
       "        9, 3, 4, 8, 3, 7],\n",
       "       [0, 5, 3, 8, 8, 9, 1, 5, 3, 3, 1, 3, 6, 1, 9, 4, 2, 0, 5, 5, 5, 0,\n",
       "        9, 6, 4, 3, 7, 3],\n",
       "       [9, 8, 7, 1, 6, 6, 7, 7, 9, 6, 9, 8, 3, 8, 1, 3, 4, 4, 3, 2, 8, 7,\n",
       "        5, 0, 2, 7, 0, 6],\n",
       "       [5, 5, 8, 6, 9, 9, 0, 5, 6, 7, 9, 8, 2, 0, 9, 5, 3, 7, 2, 5, 8, 2,\n",
       "        6, 5, 0, 7, 4, 3],\n",
       "       [3, 2, 6, 5, 9, 3, 5, 4, 4, 3, 4, 4, 8, 9, 8, 7, 6, 9, 3, 8, 7, 5,\n",
       "        9, 5, 0, 5, 0, 3],\n",
       "       [1, 9, 0, 1, 3, 1, 1, 6, 9, 1, 1, 8, 8, 5, 1, 4, 6, 5, 3, 0, 9, 6,\n",
       "        3, 2, 4, 9, 6, 1],\n",
       "       [2, 9, 9, 9, 9, 6, 7, 3, 0, 5, 7, 5, 7, 8, 5, 0, 1, 2, 2, 1, 2, 6,\n",
       "        7, 1, 9, 7, 1, 4],\n",
       "       [2, 5, 8, 0, 4, 6, 6, 8, 1, 7, 3, 1, 5, 3, 6, 8, 7, 1, 7, 7, 2, 7,\n",
       "        7, 3, 0, 9, 0, 7],\n",
       "       [4, 8, 0, 7, 3, 6, 5, 6, 1, 5, 0, 1, 3, 1, 5, 6, 4, 7, 9, 0, 7, 7,\n",
       "        4, 6, 1, 1, 2, 3],\n",
       "       [9, 5, 8, 6, 8, 2, 8, 1, 6, 6, 1, 3, 7, 3, 4, 6, 4, 2, 7, 6, 6, 0,\n",
       "        6, 6, 0, 8, 3, 9],\n",
       "       [8, 1, 7, 9, 3, 9, 9, 6, 9, 0, 6, 7, 1, 1, 6, 9, 7, 0, 6, 5, 1, 7,\n",
       "        5, 7, 5, 9, 6, 4],\n",
       "       [3, 8, 5, 5, 6, 6, 1, 3, 2, 9, 3, 9, 7, 3, 3, 6, 7, 7, 2, 8, 6, 8,\n",
       "        7, 6, 1, 9, 3, 6],\n",
       "       [3, 5, 2, 4, 3, 1, 2, 0, 2, 5, 5, 2, 4, 8, 7, 7, 5, 1, 3, 9, 7, 0,\n",
       "        9, 9, 6, 9, 1, 4],\n",
       "       [2, 6, 9, 7, 0, 4, 7, 8, 0, 2, 4, 2, 8, 5, 4, 7, 4, 2, 3, 6, 6, 3,\n",
       "        2, 9, 4, 3, 5, 7],\n",
       "       [7, 9, 2, 7, 4, 1, 6, 2, 7, 3, 0, 8, 5, 1, 2, 5, 7, 4, 9, 5, 3, 5,\n",
       "        2, 9, 2, 3, 3, 8],\n",
       "       [7, 1, 8, 6, 2, 8, 5, 1, 2, 1, 1, 8, 4, 0, 6, 1, 1, 9, 3, 7, 7, 9,\n",
       "        6, 9, 5, 7, 4, 7]])>"
      ]
     },
     "execution_count": 77,
     "metadata": {},
     "output_type": "execute_result"
    }
   ],
   "source": [
    "# 产生矩阵\n",
    "x = tf.random.uniform([28,28],maxval=10,dtype=tf.int32)\n",
    "x"
   ]
  },
  {
   "cell_type": "markdown",
   "metadata": {},
   "source": [
    "通过 tf.expand_dims(x, axis)可在指定的 axis 轴前可以插入一个新的维度"
   ]
  },
  {
   "cell_type": "code",
   "execution_count": 78,
   "metadata": {
    "scrolled": true
   },
   "outputs": [
    {
     "data": {
      "text/plain": [
       "<tf.Tensor: id=385, shape=(28, 28, 1), dtype=int32, numpy=\n",
       "array([[[3],\n",
       "        [1],\n",
       "        [4],\n",
       "        [5],\n",
       "        [1],\n",
       "        [1],\n",
       "        [2],\n",
       "        [7],\n",
       "        [3],\n",
       "        [2],\n",
       "        [0],\n",
       "        [4],\n",
       "        [8],\n",
       "        [6],\n",
       "        [1],\n",
       "        [1],\n",
       "        [9],\n",
       "        [2],\n",
       "        [7],\n",
       "        [8],\n",
       "        [8],\n",
       "        [5],\n",
       "        [3],\n",
       "        [1],\n",
       "        [6],\n",
       "        [3],\n",
       "        [3],\n",
       "        [7]],\n",
       "\n",
       "       [[9],\n",
       "        [2],\n",
       "        [9],\n",
       "        [3],\n",
       "        [4],\n",
       "        [8],\n",
       "        [2],\n",
       "        [9],\n",
       "        [9],\n",
       "        [3],\n",
       "        [6],\n",
       "        [4],\n",
       "        [5],\n",
       "        [6],\n",
       "        [6],\n",
       "        [5],\n",
       "        [5],\n",
       "        [0],\n",
       "        [7],\n",
       "        [0],\n",
       "        [1],\n",
       "        [5],\n",
       "        [4],\n",
       "        [4],\n",
       "        [6],\n",
       "        [7],\n",
       "        [4],\n",
       "        [8]],\n",
       "\n",
       "       [[1],\n",
       "        [7],\n",
       "        [1],\n",
       "        [1],\n",
       "        [8],\n",
       "        [4],\n",
       "        [1],\n",
       "        [7],\n",
       "        [1],\n",
       "        [2],\n",
       "        [1],\n",
       "        [5],\n",
       "        [9],\n",
       "        [7],\n",
       "        [3],\n",
       "        [1],\n",
       "        [5],\n",
       "        [4],\n",
       "        [7],\n",
       "        [6],\n",
       "        [0],\n",
       "        [1],\n",
       "        [6],\n",
       "        [6],\n",
       "        [7],\n",
       "        [4],\n",
       "        [1],\n",
       "        [2]],\n",
       "\n",
       "       [[3],\n",
       "        [4],\n",
       "        [5],\n",
       "        [8],\n",
       "        [8],\n",
       "        [6],\n",
       "        [9],\n",
       "        [6],\n",
       "        [3],\n",
       "        [6],\n",
       "        [9],\n",
       "        [2],\n",
       "        [8],\n",
       "        [0],\n",
       "        [7],\n",
       "        [4],\n",
       "        [4],\n",
       "        [9],\n",
       "        [9],\n",
       "        [2],\n",
       "        [9],\n",
       "        [9],\n",
       "        [3],\n",
       "        [1],\n",
       "        [9],\n",
       "        [8],\n",
       "        [9],\n",
       "        [3]],\n",
       "\n",
       "       [[9],\n",
       "        [9],\n",
       "        [7],\n",
       "        [3],\n",
       "        [5],\n",
       "        [4],\n",
       "        [4],\n",
       "        [6],\n",
       "        [7],\n",
       "        [3],\n",
       "        [8],\n",
       "        [0],\n",
       "        [3],\n",
       "        [3],\n",
       "        [8],\n",
       "        [3],\n",
       "        [2],\n",
       "        [2],\n",
       "        [5],\n",
       "        [2],\n",
       "        [3],\n",
       "        [8],\n",
       "        [7],\n",
       "        [7],\n",
       "        [7],\n",
       "        [3],\n",
       "        [0],\n",
       "        [4]],\n",
       "\n",
       "       [[8],\n",
       "        [5],\n",
       "        [5],\n",
       "        [2],\n",
       "        [4],\n",
       "        [4],\n",
       "        [3],\n",
       "        [6],\n",
       "        [3],\n",
       "        [1],\n",
       "        [0],\n",
       "        [7],\n",
       "        [4],\n",
       "        [9],\n",
       "        [2],\n",
       "        [8],\n",
       "        [6],\n",
       "        [3],\n",
       "        [2],\n",
       "        [6],\n",
       "        [4],\n",
       "        [5],\n",
       "        [3],\n",
       "        [9],\n",
       "        [6],\n",
       "        [8],\n",
       "        [0],\n",
       "        [7]],\n",
       "\n",
       "       [[2],\n",
       "        [4],\n",
       "        [4],\n",
       "        [9],\n",
       "        [2],\n",
       "        [4],\n",
       "        [2],\n",
       "        [3],\n",
       "        [0],\n",
       "        [3],\n",
       "        [7],\n",
       "        [5],\n",
       "        [5],\n",
       "        [9],\n",
       "        [6],\n",
       "        [1],\n",
       "        [8],\n",
       "        [4],\n",
       "        [7],\n",
       "        [8],\n",
       "        [5],\n",
       "        [7],\n",
       "        [1],\n",
       "        [1],\n",
       "        [4],\n",
       "        [8],\n",
       "        [1],\n",
       "        [8]],\n",
       "\n",
       "       [[5],\n",
       "        [0],\n",
       "        [9],\n",
       "        [5],\n",
       "        [9],\n",
       "        [0],\n",
       "        [2],\n",
       "        [8],\n",
       "        [9],\n",
       "        [8],\n",
       "        [1],\n",
       "        [4],\n",
       "        [1],\n",
       "        [4],\n",
       "        [5],\n",
       "        [9],\n",
       "        [3],\n",
       "        [5],\n",
       "        [6],\n",
       "        [5],\n",
       "        [7],\n",
       "        [5],\n",
       "        [0],\n",
       "        [2],\n",
       "        [9],\n",
       "        [1],\n",
       "        [1],\n",
       "        [8]],\n",
       "\n",
       "       [[3],\n",
       "        [0],\n",
       "        [2],\n",
       "        [7],\n",
       "        [8],\n",
       "        [5],\n",
       "        [3],\n",
       "        [1],\n",
       "        [9],\n",
       "        [1],\n",
       "        [5],\n",
       "        [1],\n",
       "        [7],\n",
       "        [8],\n",
       "        [6],\n",
       "        [6],\n",
       "        [1],\n",
       "        [9],\n",
       "        [2],\n",
       "        [6],\n",
       "        [7],\n",
       "        [1],\n",
       "        [7],\n",
       "        [6],\n",
       "        [2],\n",
       "        [6],\n",
       "        [0],\n",
       "        [9]],\n",
       "\n",
       "       [[7],\n",
       "        [3],\n",
       "        [8],\n",
       "        [8],\n",
       "        [9],\n",
       "        [6],\n",
       "        [2],\n",
       "        [4],\n",
       "        [8],\n",
       "        [6],\n",
       "        [6],\n",
       "        [5],\n",
       "        [3],\n",
       "        [8],\n",
       "        [3],\n",
       "        [8],\n",
       "        [6],\n",
       "        [5],\n",
       "        [8],\n",
       "        [3],\n",
       "        [6],\n",
       "        [1],\n",
       "        [1],\n",
       "        [3],\n",
       "        [0],\n",
       "        [7],\n",
       "        [5],\n",
       "        [5]],\n",
       "\n",
       "       [[1],\n",
       "        [8],\n",
       "        [3],\n",
       "        [4],\n",
       "        [5],\n",
       "        [1],\n",
       "        [3],\n",
       "        [8],\n",
       "        [1],\n",
       "        [1],\n",
       "        [5],\n",
       "        [0],\n",
       "        [9],\n",
       "        [1],\n",
       "        [3],\n",
       "        [9],\n",
       "        [7],\n",
       "        [3],\n",
       "        [9],\n",
       "        [3],\n",
       "        [4],\n",
       "        [8],\n",
       "        [9],\n",
       "        [1],\n",
       "        [0],\n",
       "        [8],\n",
       "        [2],\n",
       "        [1]],\n",
       "\n",
       "       [[0],\n",
       "        [4],\n",
       "        [8],\n",
       "        [5],\n",
       "        [3],\n",
       "        [0],\n",
       "        [7],\n",
       "        [1],\n",
       "        [5],\n",
       "        [8],\n",
       "        [2],\n",
       "        [4],\n",
       "        [0],\n",
       "        [4],\n",
       "        [3],\n",
       "        [3],\n",
       "        [8],\n",
       "        [4],\n",
       "        [3],\n",
       "        [1],\n",
       "        [7],\n",
       "        [0],\n",
       "        [3],\n",
       "        [1],\n",
       "        [0],\n",
       "        [3],\n",
       "        [5],\n",
       "        [8]],\n",
       "\n",
       "       [[8],\n",
       "        [9],\n",
       "        [6],\n",
       "        [4],\n",
       "        [2],\n",
       "        [9],\n",
       "        [2],\n",
       "        [7],\n",
       "        [9],\n",
       "        [8],\n",
       "        [5],\n",
       "        [5],\n",
       "        [5],\n",
       "        [4],\n",
       "        [0],\n",
       "        [7],\n",
       "        [1],\n",
       "        [6],\n",
       "        [9],\n",
       "        [6],\n",
       "        [7],\n",
       "        [9],\n",
       "        [9],\n",
       "        [3],\n",
       "        [4],\n",
       "        [8],\n",
       "        [3],\n",
       "        [7]],\n",
       "\n",
       "       [[0],\n",
       "        [5],\n",
       "        [3],\n",
       "        [8],\n",
       "        [8],\n",
       "        [9],\n",
       "        [1],\n",
       "        [5],\n",
       "        [3],\n",
       "        [3],\n",
       "        [1],\n",
       "        [3],\n",
       "        [6],\n",
       "        [1],\n",
       "        [9],\n",
       "        [4],\n",
       "        [2],\n",
       "        [0],\n",
       "        [5],\n",
       "        [5],\n",
       "        [5],\n",
       "        [0],\n",
       "        [9],\n",
       "        [6],\n",
       "        [4],\n",
       "        [3],\n",
       "        [7],\n",
       "        [3]],\n",
       "\n",
       "       [[9],\n",
       "        [8],\n",
       "        [7],\n",
       "        [1],\n",
       "        [6],\n",
       "        [6],\n",
       "        [7],\n",
       "        [7],\n",
       "        [9],\n",
       "        [6],\n",
       "        [9],\n",
       "        [8],\n",
       "        [3],\n",
       "        [8],\n",
       "        [1],\n",
       "        [3],\n",
       "        [4],\n",
       "        [4],\n",
       "        [3],\n",
       "        [2],\n",
       "        [8],\n",
       "        [7],\n",
       "        [5],\n",
       "        [0],\n",
       "        [2],\n",
       "        [7],\n",
       "        [0],\n",
       "        [6]],\n",
       "\n",
       "       [[5],\n",
       "        [5],\n",
       "        [8],\n",
       "        [6],\n",
       "        [9],\n",
       "        [9],\n",
       "        [0],\n",
       "        [5],\n",
       "        [6],\n",
       "        [7],\n",
       "        [9],\n",
       "        [8],\n",
       "        [2],\n",
       "        [0],\n",
       "        [9],\n",
       "        [5],\n",
       "        [3],\n",
       "        [7],\n",
       "        [2],\n",
       "        [5],\n",
       "        [8],\n",
       "        [2],\n",
       "        [6],\n",
       "        [5],\n",
       "        [0],\n",
       "        [7],\n",
       "        [4],\n",
       "        [3]],\n",
       "\n",
       "       [[3],\n",
       "        [2],\n",
       "        [6],\n",
       "        [5],\n",
       "        [9],\n",
       "        [3],\n",
       "        [5],\n",
       "        [4],\n",
       "        [4],\n",
       "        [3],\n",
       "        [4],\n",
       "        [4],\n",
       "        [8],\n",
       "        [9],\n",
       "        [8],\n",
       "        [7],\n",
       "        [6],\n",
       "        [9],\n",
       "        [3],\n",
       "        [8],\n",
       "        [7],\n",
       "        [5],\n",
       "        [9],\n",
       "        [5],\n",
       "        [0],\n",
       "        [5],\n",
       "        [0],\n",
       "        [3]],\n",
       "\n",
       "       [[1],\n",
       "        [9],\n",
       "        [0],\n",
       "        [1],\n",
       "        [3],\n",
       "        [1],\n",
       "        [1],\n",
       "        [6],\n",
       "        [9],\n",
       "        [1],\n",
       "        [1],\n",
       "        [8],\n",
       "        [8],\n",
       "        [5],\n",
       "        [1],\n",
       "        [4],\n",
       "        [6],\n",
       "        [5],\n",
       "        [3],\n",
       "        [0],\n",
       "        [9],\n",
       "        [6],\n",
       "        [3],\n",
       "        [2],\n",
       "        [4],\n",
       "        [9],\n",
       "        [6],\n",
       "        [1]],\n",
       "\n",
       "       [[2],\n",
       "        [9],\n",
       "        [9],\n",
       "        [9],\n",
       "        [9],\n",
       "        [6],\n",
       "        [7],\n",
       "        [3],\n",
       "        [0],\n",
       "        [5],\n",
       "        [7],\n",
       "        [5],\n",
       "        [7],\n",
       "        [8],\n",
       "        [5],\n",
       "        [0],\n",
       "        [1],\n",
       "        [2],\n",
       "        [2],\n",
       "        [1],\n",
       "        [2],\n",
       "        [6],\n",
       "        [7],\n",
       "        [1],\n",
       "        [9],\n",
       "        [7],\n",
       "        [1],\n",
       "        [4]],\n",
       "\n",
       "       [[2],\n",
       "        [5],\n",
       "        [8],\n",
       "        [0],\n",
       "        [4],\n",
       "        [6],\n",
       "        [6],\n",
       "        [8],\n",
       "        [1],\n",
       "        [7],\n",
       "        [3],\n",
       "        [1],\n",
       "        [5],\n",
       "        [3],\n",
       "        [6],\n",
       "        [8],\n",
       "        [7],\n",
       "        [1],\n",
       "        [7],\n",
       "        [7],\n",
       "        [2],\n",
       "        [7],\n",
       "        [7],\n",
       "        [3],\n",
       "        [0],\n",
       "        [9],\n",
       "        [0],\n",
       "        [7]],\n",
       "\n",
       "       [[4],\n",
       "        [8],\n",
       "        [0],\n",
       "        [7],\n",
       "        [3],\n",
       "        [6],\n",
       "        [5],\n",
       "        [6],\n",
       "        [1],\n",
       "        [5],\n",
       "        [0],\n",
       "        [1],\n",
       "        [3],\n",
       "        [1],\n",
       "        [5],\n",
       "        [6],\n",
       "        [4],\n",
       "        [7],\n",
       "        [9],\n",
       "        [0],\n",
       "        [7],\n",
       "        [7],\n",
       "        [4],\n",
       "        [6],\n",
       "        [1],\n",
       "        [1],\n",
       "        [2],\n",
       "        [3]],\n",
       "\n",
       "       [[9],\n",
       "        [5],\n",
       "        [8],\n",
       "        [6],\n",
       "        [8],\n",
       "        [2],\n",
       "        [8],\n",
       "        [1],\n",
       "        [6],\n",
       "        [6],\n",
       "        [1],\n",
       "        [3],\n",
       "        [7],\n",
       "        [3],\n",
       "        [4],\n",
       "        [6],\n",
       "        [4],\n",
       "        [2],\n",
       "        [7],\n",
       "        [6],\n",
       "        [6],\n",
       "        [0],\n",
       "        [6],\n",
       "        [6],\n",
       "        [0],\n",
       "        [8],\n",
       "        [3],\n",
       "        [9]],\n",
       "\n",
       "       [[8],\n",
       "        [1],\n",
       "        [7],\n",
       "        [9],\n",
       "        [3],\n",
       "        [9],\n",
       "        [9],\n",
       "        [6],\n",
       "        [9],\n",
       "        [0],\n",
       "        [6],\n",
       "        [7],\n",
       "        [1],\n",
       "        [1],\n",
       "        [6],\n",
       "        [9],\n",
       "        [7],\n",
       "        [0],\n",
       "        [6],\n",
       "        [5],\n",
       "        [1],\n",
       "        [7],\n",
       "        [5],\n",
       "        [7],\n",
       "        [5],\n",
       "        [9],\n",
       "        [6],\n",
       "        [4]],\n",
       "\n",
       "       [[3],\n",
       "        [8],\n",
       "        [5],\n",
       "        [5],\n",
       "        [6],\n",
       "        [6],\n",
       "        [1],\n",
       "        [3],\n",
       "        [2],\n",
       "        [9],\n",
       "        [3],\n",
       "        [9],\n",
       "        [7],\n",
       "        [3],\n",
       "        [3],\n",
       "        [6],\n",
       "        [7],\n",
       "        [7],\n",
       "        [2],\n",
       "        [8],\n",
       "        [6],\n",
       "        [8],\n",
       "        [7],\n",
       "        [6],\n",
       "        [1],\n",
       "        [9],\n",
       "        [3],\n",
       "        [6]],\n",
       "\n",
       "       [[3],\n",
       "        [5],\n",
       "        [2],\n",
       "        [4],\n",
       "        [3],\n",
       "        [1],\n",
       "        [2],\n",
       "        [0],\n",
       "        [2],\n",
       "        [5],\n",
       "        [5],\n",
       "        [2],\n",
       "        [4],\n",
       "        [8],\n",
       "        [7],\n",
       "        [7],\n",
       "        [5],\n",
       "        [1],\n",
       "        [3],\n",
       "        [9],\n",
       "        [7],\n",
       "        [0],\n",
       "        [9],\n",
       "        [9],\n",
       "        [6],\n",
       "        [9],\n",
       "        [1],\n",
       "        [4]],\n",
       "\n",
       "       [[2],\n",
       "        [6],\n",
       "        [9],\n",
       "        [7],\n",
       "        [0],\n",
       "        [4],\n",
       "        [7],\n",
       "        [8],\n",
       "        [0],\n",
       "        [2],\n",
       "        [4],\n",
       "        [2],\n",
       "        [8],\n",
       "        [5],\n",
       "        [4],\n",
       "        [7],\n",
       "        [4],\n",
       "        [2],\n",
       "        [3],\n",
       "        [6],\n",
       "        [6],\n",
       "        [3],\n",
       "        [2],\n",
       "        [9],\n",
       "        [4],\n",
       "        [3],\n",
       "        [5],\n",
       "        [7]],\n",
       "\n",
       "       [[7],\n",
       "        [9],\n",
       "        [2],\n",
       "        [7],\n",
       "        [4],\n",
       "        [1],\n",
       "        [6],\n",
       "        [2],\n",
       "        [7],\n",
       "        [3],\n",
       "        [0],\n",
       "        [8],\n",
       "        [5],\n",
       "        [1],\n",
       "        [2],\n",
       "        [5],\n",
       "        [7],\n",
       "        [4],\n",
       "        [9],\n",
       "        [5],\n",
       "        [3],\n",
       "        [5],\n",
       "        [2],\n",
       "        [9],\n",
       "        [2],\n",
       "        [3],\n",
       "        [3],\n",
       "        [8]],\n",
       "\n",
       "       [[7],\n",
       "        [1],\n",
       "        [8],\n",
       "        [6],\n",
       "        [2],\n",
       "        [8],\n",
       "        [5],\n",
       "        [1],\n",
       "        [2],\n",
       "        [1],\n",
       "        [1],\n",
       "        [8],\n",
       "        [4],\n",
       "        [0],\n",
       "        [6],\n",
       "        [1],\n",
       "        [1],\n",
       "        [9],\n",
       "        [3],\n",
       "        [7],\n",
       "        [7],\n",
       "        [9],\n",
       "        [6],\n",
       "        [9],\n",
       "        [5],\n",
       "        [7],\n",
       "        [4],\n",
       "        [7]]])>"
      ]
     },
     "execution_count": 78,
     "metadata": {},
     "output_type": "execute_result"
    }
   ],
   "source": [
    "# axis=2 表示宽维度后面的一个维度\n",
    "x = tf.expand_dims(x,axis=2) \n",
    "x"
   ]
  },
  {
   "cell_type": "code",
   "execution_count": 79,
   "metadata": {},
   "outputs": [
    {
     "data": {
      "text/plain": [
       "<tf.Tensor: id=387, shape=(1, 28, 28, 1), dtype=int32, numpy=\n",
       "array([[[[3],\n",
       "         [1],\n",
       "         [4],\n",
       "         [5],\n",
       "         [1],\n",
       "         [1],\n",
       "         [2],\n",
       "         [7],\n",
       "         [3],\n",
       "         [2],\n",
       "         [0],\n",
       "         [4],\n",
       "         [8],\n",
       "         [6],\n",
       "         [1],\n",
       "         [1],\n",
       "         [9],\n",
       "         [2],\n",
       "         [7],\n",
       "         [8],\n",
       "         [8],\n",
       "         [5],\n",
       "         [3],\n",
       "         [1],\n",
       "         [6],\n",
       "         [3],\n",
       "         [3],\n",
       "         [7]],\n",
       "\n",
       "        [[9],\n",
       "         [2],\n",
       "         [9],\n",
       "         [3],\n",
       "         [4],\n",
       "         [8],\n",
       "         [2],\n",
       "         [9],\n",
       "         [9],\n",
       "         [3],\n",
       "         [6],\n",
       "         [4],\n",
       "         [5],\n",
       "         [6],\n",
       "         [6],\n",
       "         [5],\n",
       "         [5],\n",
       "         [0],\n",
       "         [7],\n",
       "         [0],\n",
       "         [1],\n",
       "         [5],\n",
       "         [4],\n",
       "         [4],\n",
       "         [6],\n",
       "         [7],\n",
       "         [4],\n",
       "         [8]],\n",
       "\n",
       "        [[1],\n",
       "         [7],\n",
       "         [1],\n",
       "         [1],\n",
       "         [8],\n",
       "         [4],\n",
       "         [1],\n",
       "         [7],\n",
       "         [1],\n",
       "         [2],\n",
       "         [1],\n",
       "         [5],\n",
       "         [9],\n",
       "         [7],\n",
       "         [3],\n",
       "         [1],\n",
       "         [5],\n",
       "         [4],\n",
       "         [7],\n",
       "         [6],\n",
       "         [0],\n",
       "         [1],\n",
       "         [6],\n",
       "         [6],\n",
       "         [7],\n",
       "         [4],\n",
       "         [1],\n",
       "         [2]],\n",
       "\n",
       "        [[3],\n",
       "         [4],\n",
       "         [5],\n",
       "         [8],\n",
       "         [8],\n",
       "         [6],\n",
       "         [9],\n",
       "         [6],\n",
       "         [3],\n",
       "         [6],\n",
       "         [9],\n",
       "         [2],\n",
       "         [8],\n",
       "         [0],\n",
       "         [7],\n",
       "         [4],\n",
       "         [4],\n",
       "         [9],\n",
       "         [9],\n",
       "         [2],\n",
       "         [9],\n",
       "         [9],\n",
       "         [3],\n",
       "         [1],\n",
       "         [9],\n",
       "         [8],\n",
       "         [9],\n",
       "         [3]],\n",
       "\n",
       "        [[9],\n",
       "         [9],\n",
       "         [7],\n",
       "         [3],\n",
       "         [5],\n",
       "         [4],\n",
       "         [4],\n",
       "         [6],\n",
       "         [7],\n",
       "         [3],\n",
       "         [8],\n",
       "         [0],\n",
       "         [3],\n",
       "         [3],\n",
       "         [8],\n",
       "         [3],\n",
       "         [2],\n",
       "         [2],\n",
       "         [5],\n",
       "         [2],\n",
       "         [3],\n",
       "         [8],\n",
       "         [7],\n",
       "         [7],\n",
       "         [7],\n",
       "         [3],\n",
       "         [0],\n",
       "         [4]],\n",
       "\n",
       "        [[8],\n",
       "         [5],\n",
       "         [5],\n",
       "         [2],\n",
       "         [4],\n",
       "         [4],\n",
       "         [3],\n",
       "         [6],\n",
       "         [3],\n",
       "         [1],\n",
       "         [0],\n",
       "         [7],\n",
       "         [4],\n",
       "         [9],\n",
       "         [2],\n",
       "         [8],\n",
       "         [6],\n",
       "         [3],\n",
       "         [2],\n",
       "         [6],\n",
       "         [4],\n",
       "         [5],\n",
       "         [3],\n",
       "         [9],\n",
       "         [6],\n",
       "         [8],\n",
       "         [0],\n",
       "         [7]],\n",
       "\n",
       "        [[2],\n",
       "         [4],\n",
       "         [4],\n",
       "         [9],\n",
       "         [2],\n",
       "         [4],\n",
       "         [2],\n",
       "         [3],\n",
       "         [0],\n",
       "         [3],\n",
       "         [7],\n",
       "         [5],\n",
       "         [5],\n",
       "         [9],\n",
       "         [6],\n",
       "         [1],\n",
       "         [8],\n",
       "         [4],\n",
       "         [7],\n",
       "         [8],\n",
       "         [5],\n",
       "         [7],\n",
       "         [1],\n",
       "         [1],\n",
       "         [4],\n",
       "         [8],\n",
       "         [1],\n",
       "         [8]],\n",
       "\n",
       "        [[5],\n",
       "         [0],\n",
       "         [9],\n",
       "         [5],\n",
       "         [9],\n",
       "         [0],\n",
       "         [2],\n",
       "         [8],\n",
       "         [9],\n",
       "         [8],\n",
       "         [1],\n",
       "         [4],\n",
       "         [1],\n",
       "         [4],\n",
       "         [5],\n",
       "         [9],\n",
       "         [3],\n",
       "         [5],\n",
       "         [6],\n",
       "         [5],\n",
       "         [7],\n",
       "         [5],\n",
       "         [0],\n",
       "         [2],\n",
       "         [9],\n",
       "         [1],\n",
       "         [1],\n",
       "         [8]],\n",
       "\n",
       "        [[3],\n",
       "         [0],\n",
       "         [2],\n",
       "         [7],\n",
       "         [8],\n",
       "         [5],\n",
       "         [3],\n",
       "         [1],\n",
       "         [9],\n",
       "         [1],\n",
       "         [5],\n",
       "         [1],\n",
       "         [7],\n",
       "         [8],\n",
       "         [6],\n",
       "         [6],\n",
       "         [1],\n",
       "         [9],\n",
       "         [2],\n",
       "         [6],\n",
       "         [7],\n",
       "         [1],\n",
       "         [7],\n",
       "         [6],\n",
       "         [2],\n",
       "         [6],\n",
       "         [0],\n",
       "         [9]],\n",
       "\n",
       "        [[7],\n",
       "         [3],\n",
       "         [8],\n",
       "         [8],\n",
       "         [9],\n",
       "         [6],\n",
       "         [2],\n",
       "         [4],\n",
       "         [8],\n",
       "         [6],\n",
       "         [6],\n",
       "         [5],\n",
       "         [3],\n",
       "         [8],\n",
       "         [3],\n",
       "         [8],\n",
       "         [6],\n",
       "         [5],\n",
       "         [8],\n",
       "         [3],\n",
       "         [6],\n",
       "         [1],\n",
       "         [1],\n",
       "         [3],\n",
       "         [0],\n",
       "         [7],\n",
       "         [5],\n",
       "         [5]],\n",
       "\n",
       "        [[1],\n",
       "         [8],\n",
       "         [3],\n",
       "         [4],\n",
       "         [5],\n",
       "         [1],\n",
       "         [3],\n",
       "         [8],\n",
       "         [1],\n",
       "         [1],\n",
       "         [5],\n",
       "         [0],\n",
       "         [9],\n",
       "         [1],\n",
       "         [3],\n",
       "         [9],\n",
       "         [7],\n",
       "         [3],\n",
       "         [9],\n",
       "         [3],\n",
       "         [4],\n",
       "         [8],\n",
       "         [9],\n",
       "         [1],\n",
       "         [0],\n",
       "         [8],\n",
       "         [2],\n",
       "         [1]],\n",
       "\n",
       "        [[0],\n",
       "         [4],\n",
       "         [8],\n",
       "         [5],\n",
       "         [3],\n",
       "         [0],\n",
       "         [7],\n",
       "         [1],\n",
       "         [5],\n",
       "         [8],\n",
       "         [2],\n",
       "         [4],\n",
       "         [0],\n",
       "         [4],\n",
       "         [3],\n",
       "         [3],\n",
       "         [8],\n",
       "         [4],\n",
       "         [3],\n",
       "         [1],\n",
       "         [7],\n",
       "         [0],\n",
       "         [3],\n",
       "         [1],\n",
       "         [0],\n",
       "         [3],\n",
       "         [5],\n",
       "         [8]],\n",
       "\n",
       "        [[8],\n",
       "         [9],\n",
       "         [6],\n",
       "         [4],\n",
       "         [2],\n",
       "         [9],\n",
       "         [2],\n",
       "         [7],\n",
       "         [9],\n",
       "         [8],\n",
       "         [5],\n",
       "         [5],\n",
       "         [5],\n",
       "         [4],\n",
       "         [0],\n",
       "         [7],\n",
       "         [1],\n",
       "         [6],\n",
       "         [9],\n",
       "         [6],\n",
       "         [7],\n",
       "         [9],\n",
       "         [9],\n",
       "         [3],\n",
       "         [4],\n",
       "         [8],\n",
       "         [3],\n",
       "         [7]],\n",
       "\n",
       "        [[0],\n",
       "         [5],\n",
       "         [3],\n",
       "         [8],\n",
       "         [8],\n",
       "         [9],\n",
       "         [1],\n",
       "         [5],\n",
       "         [3],\n",
       "         [3],\n",
       "         [1],\n",
       "         [3],\n",
       "         [6],\n",
       "         [1],\n",
       "         [9],\n",
       "         [4],\n",
       "         [2],\n",
       "         [0],\n",
       "         [5],\n",
       "         [5],\n",
       "         [5],\n",
       "         [0],\n",
       "         [9],\n",
       "         [6],\n",
       "         [4],\n",
       "         [3],\n",
       "         [7],\n",
       "         [3]],\n",
       "\n",
       "        [[9],\n",
       "         [8],\n",
       "         [7],\n",
       "         [1],\n",
       "         [6],\n",
       "         [6],\n",
       "         [7],\n",
       "         [7],\n",
       "         [9],\n",
       "         [6],\n",
       "         [9],\n",
       "         [8],\n",
       "         [3],\n",
       "         [8],\n",
       "         [1],\n",
       "         [3],\n",
       "         [4],\n",
       "         [4],\n",
       "         [3],\n",
       "         [2],\n",
       "         [8],\n",
       "         [7],\n",
       "         [5],\n",
       "         [0],\n",
       "         [2],\n",
       "         [7],\n",
       "         [0],\n",
       "         [6]],\n",
       "\n",
       "        [[5],\n",
       "         [5],\n",
       "         [8],\n",
       "         [6],\n",
       "         [9],\n",
       "         [9],\n",
       "         [0],\n",
       "         [5],\n",
       "         [6],\n",
       "         [7],\n",
       "         [9],\n",
       "         [8],\n",
       "         [2],\n",
       "         [0],\n",
       "         [9],\n",
       "         [5],\n",
       "         [3],\n",
       "         [7],\n",
       "         [2],\n",
       "         [5],\n",
       "         [8],\n",
       "         [2],\n",
       "         [6],\n",
       "         [5],\n",
       "         [0],\n",
       "         [7],\n",
       "         [4],\n",
       "         [3]],\n",
       "\n",
       "        [[3],\n",
       "         [2],\n",
       "         [6],\n",
       "         [5],\n",
       "         [9],\n",
       "         [3],\n",
       "         [5],\n",
       "         [4],\n",
       "         [4],\n",
       "         [3],\n",
       "         [4],\n",
       "         [4],\n",
       "         [8],\n",
       "         [9],\n",
       "         [8],\n",
       "         [7],\n",
       "         [6],\n",
       "         [9],\n",
       "         [3],\n",
       "         [8],\n",
       "         [7],\n",
       "         [5],\n",
       "         [9],\n",
       "         [5],\n",
       "         [0],\n",
       "         [5],\n",
       "         [0],\n",
       "         [3]],\n",
       "\n",
       "        [[1],\n",
       "         [9],\n",
       "         [0],\n",
       "         [1],\n",
       "         [3],\n",
       "         [1],\n",
       "         [1],\n",
       "         [6],\n",
       "         [9],\n",
       "         [1],\n",
       "         [1],\n",
       "         [8],\n",
       "         [8],\n",
       "         [5],\n",
       "         [1],\n",
       "         [4],\n",
       "         [6],\n",
       "         [5],\n",
       "         [3],\n",
       "         [0],\n",
       "         [9],\n",
       "         [6],\n",
       "         [3],\n",
       "         [2],\n",
       "         [4],\n",
       "         [9],\n",
       "         [6],\n",
       "         [1]],\n",
       "\n",
       "        [[2],\n",
       "         [9],\n",
       "         [9],\n",
       "         [9],\n",
       "         [9],\n",
       "         [6],\n",
       "         [7],\n",
       "         [3],\n",
       "         [0],\n",
       "         [5],\n",
       "         [7],\n",
       "         [5],\n",
       "         [7],\n",
       "         [8],\n",
       "         [5],\n",
       "         [0],\n",
       "         [1],\n",
       "         [2],\n",
       "         [2],\n",
       "         [1],\n",
       "         [2],\n",
       "         [6],\n",
       "         [7],\n",
       "         [1],\n",
       "         [9],\n",
       "         [7],\n",
       "         [1],\n",
       "         [4]],\n",
       "\n",
       "        [[2],\n",
       "         [5],\n",
       "         [8],\n",
       "         [0],\n",
       "         [4],\n",
       "         [6],\n",
       "         [6],\n",
       "         [8],\n",
       "         [1],\n",
       "         [7],\n",
       "         [3],\n",
       "         [1],\n",
       "         [5],\n",
       "         [3],\n",
       "         [6],\n",
       "         [8],\n",
       "         [7],\n",
       "         [1],\n",
       "         [7],\n",
       "         [7],\n",
       "         [2],\n",
       "         [7],\n",
       "         [7],\n",
       "         [3],\n",
       "         [0],\n",
       "         [9],\n",
       "         [0],\n",
       "         [7]],\n",
       "\n",
       "        [[4],\n",
       "         [8],\n",
       "         [0],\n",
       "         [7],\n",
       "         [3],\n",
       "         [6],\n",
       "         [5],\n",
       "         [6],\n",
       "         [1],\n",
       "         [5],\n",
       "         [0],\n",
       "         [1],\n",
       "         [3],\n",
       "         [1],\n",
       "         [5],\n",
       "         [6],\n",
       "         [4],\n",
       "         [7],\n",
       "         [9],\n",
       "         [0],\n",
       "         [7],\n",
       "         [7],\n",
       "         [4],\n",
       "         [6],\n",
       "         [1],\n",
       "         [1],\n",
       "         [2],\n",
       "         [3]],\n",
       "\n",
       "        [[9],\n",
       "         [5],\n",
       "         [8],\n",
       "         [6],\n",
       "         [8],\n",
       "         [2],\n",
       "         [8],\n",
       "         [1],\n",
       "         [6],\n",
       "         [6],\n",
       "         [1],\n",
       "         [3],\n",
       "         [7],\n",
       "         [3],\n",
       "         [4],\n",
       "         [6],\n",
       "         [4],\n",
       "         [2],\n",
       "         [7],\n",
       "         [6],\n",
       "         [6],\n",
       "         [0],\n",
       "         [6],\n",
       "         [6],\n",
       "         [0],\n",
       "         [8],\n",
       "         [3],\n",
       "         [9]],\n",
       "\n",
       "        [[8],\n",
       "         [1],\n",
       "         [7],\n",
       "         [9],\n",
       "         [3],\n",
       "         [9],\n",
       "         [9],\n",
       "         [6],\n",
       "         [9],\n",
       "         [0],\n",
       "         [6],\n",
       "         [7],\n",
       "         [1],\n",
       "         [1],\n",
       "         [6],\n",
       "         [9],\n",
       "         [7],\n",
       "         [0],\n",
       "         [6],\n",
       "         [5],\n",
       "         [1],\n",
       "         [7],\n",
       "         [5],\n",
       "         [7],\n",
       "         [5],\n",
       "         [9],\n",
       "         [6],\n",
       "         [4]],\n",
       "\n",
       "        [[3],\n",
       "         [8],\n",
       "         [5],\n",
       "         [5],\n",
       "         [6],\n",
       "         [6],\n",
       "         [1],\n",
       "         [3],\n",
       "         [2],\n",
       "         [9],\n",
       "         [3],\n",
       "         [9],\n",
       "         [7],\n",
       "         [3],\n",
       "         [3],\n",
       "         [6],\n",
       "         [7],\n",
       "         [7],\n",
       "         [2],\n",
       "         [8],\n",
       "         [6],\n",
       "         [8],\n",
       "         [7],\n",
       "         [6],\n",
       "         [1],\n",
       "         [9],\n",
       "         [3],\n",
       "         [6]],\n",
       "\n",
       "        [[3],\n",
       "         [5],\n",
       "         [2],\n",
       "         [4],\n",
       "         [3],\n",
       "         [1],\n",
       "         [2],\n",
       "         [0],\n",
       "         [2],\n",
       "         [5],\n",
       "         [5],\n",
       "         [2],\n",
       "         [4],\n",
       "         [8],\n",
       "         [7],\n",
       "         [7],\n",
       "         [5],\n",
       "         [1],\n",
       "         [3],\n",
       "         [9],\n",
       "         [7],\n",
       "         [0],\n",
       "         [9],\n",
       "         [9],\n",
       "         [6],\n",
       "         [9],\n",
       "         [1],\n",
       "         [4]],\n",
       "\n",
       "        [[2],\n",
       "         [6],\n",
       "         [9],\n",
       "         [7],\n",
       "         [0],\n",
       "         [4],\n",
       "         [7],\n",
       "         [8],\n",
       "         [0],\n",
       "         [2],\n",
       "         [4],\n",
       "         [2],\n",
       "         [8],\n",
       "         [5],\n",
       "         [4],\n",
       "         [7],\n",
       "         [4],\n",
       "         [2],\n",
       "         [3],\n",
       "         [6],\n",
       "         [6],\n",
       "         [3],\n",
       "         [2],\n",
       "         [9],\n",
       "         [4],\n",
       "         [3],\n",
       "         [5],\n",
       "         [7]],\n",
       "\n",
       "        [[7],\n",
       "         [9],\n",
       "         [2],\n",
       "         [7],\n",
       "         [4],\n",
       "         [1],\n",
       "         [6],\n",
       "         [2],\n",
       "         [7],\n",
       "         [3],\n",
       "         [0],\n",
       "         [8],\n",
       "         [5],\n",
       "         [1],\n",
       "         [2],\n",
       "         [5],\n",
       "         [7],\n",
       "         [4],\n",
       "         [9],\n",
       "         [5],\n",
       "         [3],\n",
       "         [5],\n",
       "         [2],\n",
       "         [9],\n",
       "         [2],\n",
       "         [3],\n",
       "         [3],\n",
       "         [8]],\n",
       "\n",
       "        [[7],\n",
       "         [1],\n",
       "         [8],\n",
       "         [6],\n",
       "         [2],\n",
       "         [8],\n",
       "         [5],\n",
       "         [1],\n",
       "         [2],\n",
       "         [1],\n",
       "         [1],\n",
       "         [8],\n",
       "         [4],\n",
       "         [0],\n",
       "         [6],\n",
       "         [1],\n",
       "         [1],\n",
       "         [9],\n",
       "         [3],\n",
       "         [7],\n",
       "         [7],\n",
       "         [9],\n",
       "         [6],\n",
       "         [9],\n",
       "         [5],\n",
       "         [7],\n",
       "         [4],\n",
       "         [7]]]])>"
      ]
     },
     "execution_count": 79,
     "metadata": {},
     "output_type": "execute_result"
    }
   ],
   "source": [
    "x = tf.expand_dims(x,axis=0) # 高维度之前插入新维度\n",
    "x"
   ]
  },
  {
   "cell_type": "code",
   "execution_count": 80,
   "metadata": {},
   "outputs": [
    {
     "data": {
      "text/plain": [
       "<tf.Tensor: id=388, shape=(28, 28, 1), dtype=int32, numpy=\n",
       "array([[[3],\n",
       "        [1],\n",
       "        [4],\n",
       "        [5],\n",
       "        [1],\n",
       "        [1],\n",
       "        [2],\n",
       "        [7],\n",
       "        [3],\n",
       "        [2],\n",
       "        [0],\n",
       "        [4],\n",
       "        [8],\n",
       "        [6],\n",
       "        [1],\n",
       "        [1],\n",
       "        [9],\n",
       "        [2],\n",
       "        [7],\n",
       "        [8],\n",
       "        [8],\n",
       "        [5],\n",
       "        [3],\n",
       "        [1],\n",
       "        [6],\n",
       "        [3],\n",
       "        [3],\n",
       "        [7]],\n",
       "\n",
       "       [[9],\n",
       "        [2],\n",
       "        [9],\n",
       "        [3],\n",
       "        [4],\n",
       "        [8],\n",
       "        [2],\n",
       "        [9],\n",
       "        [9],\n",
       "        [3],\n",
       "        [6],\n",
       "        [4],\n",
       "        [5],\n",
       "        [6],\n",
       "        [6],\n",
       "        [5],\n",
       "        [5],\n",
       "        [0],\n",
       "        [7],\n",
       "        [0],\n",
       "        [1],\n",
       "        [5],\n",
       "        [4],\n",
       "        [4],\n",
       "        [6],\n",
       "        [7],\n",
       "        [4],\n",
       "        [8]],\n",
       "\n",
       "       [[1],\n",
       "        [7],\n",
       "        [1],\n",
       "        [1],\n",
       "        [8],\n",
       "        [4],\n",
       "        [1],\n",
       "        [7],\n",
       "        [1],\n",
       "        [2],\n",
       "        [1],\n",
       "        [5],\n",
       "        [9],\n",
       "        [7],\n",
       "        [3],\n",
       "        [1],\n",
       "        [5],\n",
       "        [4],\n",
       "        [7],\n",
       "        [6],\n",
       "        [0],\n",
       "        [1],\n",
       "        [6],\n",
       "        [6],\n",
       "        [7],\n",
       "        [4],\n",
       "        [1],\n",
       "        [2]],\n",
       "\n",
       "       [[3],\n",
       "        [4],\n",
       "        [5],\n",
       "        [8],\n",
       "        [8],\n",
       "        [6],\n",
       "        [9],\n",
       "        [6],\n",
       "        [3],\n",
       "        [6],\n",
       "        [9],\n",
       "        [2],\n",
       "        [8],\n",
       "        [0],\n",
       "        [7],\n",
       "        [4],\n",
       "        [4],\n",
       "        [9],\n",
       "        [9],\n",
       "        [2],\n",
       "        [9],\n",
       "        [9],\n",
       "        [3],\n",
       "        [1],\n",
       "        [9],\n",
       "        [8],\n",
       "        [9],\n",
       "        [3]],\n",
       "\n",
       "       [[9],\n",
       "        [9],\n",
       "        [7],\n",
       "        [3],\n",
       "        [5],\n",
       "        [4],\n",
       "        [4],\n",
       "        [6],\n",
       "        [7],\n",
       "        [3],\n",
       "        [8],\n",
       "        [0],\n",
       "        [3],\n",
       "        [3],\n",
       "        [8],\n",
       "        [3],\n",
       "        [2],\n",
       "        [2],\n",
       "        [5],\n",
       "        [2],\n",
       "        [3],\n",
       "        [8],\n",
       "        [7],\n",
       "        [7],\n",
       "        [7],\n",
       "        [3],\n",
       "        [0],\n",
       "        [4]],\n",
       "\n",
       "       [[8],\n",
       "        [5],\n",
       "        [5],\n",
       "        [2],\n",
       "        [4],\n",
       "        [4],\n",
       "        [3],\n",
       "        [6],\n",
       "        [3],\n",
       "        [1],\n",
       "        [0],\n",
       "        [7],\n",
       "        [4],\n",
       "        [9],\n",
       "        [2],\n",
       "        [8],\n",
       "        [6],\n",
       "        [3],\n",
       "        [2],\n",
       "        [6],\n",
       "        [4],\n",
       "        [5],\n",
       "        [3],\n",
       "        [9],\n",
       "        [6],\n",
       "        [8],\n",
       "        [0],\n",
       "        [7]],\n",
       "\n",
       "       [[2],\n",
       "        [4],\n",
       "        [4],\n",
       "        [9],\n",
       "        [2],\n",
       "        [4],\n",
       "        [2],\n",
       "        [3],\n",
       "        [0],\n",
       "        [3],\n",
       "        [7],\n",
       "        [5],\n",
       "        [5],\n",
       "        [9],\n",
       "        [6],\n",
       "        [1],\n",
       "        [8],\n",
       "        [4],\n",
       "        [7],\n",
       "        [8],\n",
       "        [5],\n",
       "        [7],\n",
       "        [1],\n",
       "        [1],\n",
       "        [4],\n",
       "        [8],\n",
       "        [1],\n",
       "        [8]],\n",
       "\n",
       "       [[5],\n",
       "        [0],\n",
       "        [9],\n",
       "        [5],\n",
       "        [9],\n",
       "        [0],\n",
       "        [2],\n",
       "        [8],\n",
       "        [9],\n",
       "        [8],\n",
       "        [1],\n",
       "        [4],\n",
       "        [1],\n",
       "        [4],\n",
       "        [5],\n",
       "        [9],\n",
       "        [3],\n",
       "        [5],\n",
       "        [6],\n",
       "        [5],\n",
       "        [7],\n",
       "        [5],\n",
       "        [0],\n",
       "        [2],\n",
       "        [9],\n",
       "        [1],\n",
       "        [1],\n",
       "        [8]],\n",
       "\n",
       "       [[3],\n",
       "        [0],\n",
       "        [2],\n",
       "        [7],\n",
       "        [8],\n",
       "        [5],\n",
       "        [3],\n",
       "        [1],\n",
       "        [9],\n",
       "        [1],\n",
       "        [5],\n",
       "        [1],\n",
       "        [7],\n",
       "        [8],\n",
       "        [6],\n",
       "        [6],\n",
       "        [1],\n",
       "        [9],\n",
       "        [2],\n",
       "        [6],\n",
       "        [7],\n",
       "        [1],\n",
       "        [7],\n",
       "        [6],\n",
       "        [2],\n",
       "        [6],\n",
       "        [0],\n",
       "        [9]],\n",
       "\n",
       "       [[7],\n",
       "        [3],\n",
       "        [8],\n",
       "        [8],\n",
       "        [9],\n",
       "        [6],\n",
       "        [2],\n",
       "        [4],\n",
       "        [8],\n",
       "        [6],\n",
       "        [6],\n",
       "        [5],\n",
       "        [3],\n",
       "        [8],\n",
       "        [3],\n",
       "        [8],\n",
       "        [6],\n",
       "        [5],\n",
       "        [8],\n",
       "        [3],\n",
       "        [6],\n",
       "        [1],\n",
       "        [1],\n",
       "        [3],\n",
       "        [0],\n",
       "        [7],\n",
       "        [5],\n",
       "        [5]],\n",
       "\n",
       "       [[1],\n",
       "        [8],\n",
       "        [3],\n",
       "        [4],\n",
       "        [5],\n",
       "        [1],\n",
       "        [3],\n",
       "        [8],\n",
       "        [1],\n",
       "        [1],\n",
       "        [5],\n",
       "        [0],\n",
       "        [9],\n",
       "        [1],\n",
       "        [3],\n",
       "        [9],\n",
       "        [7],\n",
       "        [3],\n",
       "        [9],\n",
       "        [3],\n",
       "        [4],\n",
       "        [8],\n",
       "        [9],\n",
       "        [1],\n",
       "        [0],\n",
       "        [8],\n",
       "        [2],\n",
       "        [1]],\n",
       "\n",
       "       [[0],\n",
       "        [4],\n",
       "        [8],\n",
       "        [5],\n",
       "        [3],\n",
       "        [0],\n",
       "        [7],\n",
       "        [1],\n",
       "        [5],\n",
       "        [8],\n",
       "        [2],\n",
       "        [4],\n",
       "        [0],\n",
       "        [4],\n",
       "        [3],\n",
       "        [3],\n",
       "        [8],\n",
       "        [4],\n",
       "        [3],\n",
       "        [1],\n",
       "        [7],\n",
       "        [0],\n",
       "        [3],\n",
       "        [1],\n",
       "        [0],\n",
       "        [3],\n",
       "        [5],\n",
       "        [8]],\n",
       "\n",
       "       [[8],\n",
       "        [9],\n",
       "        [6],\n",
       "        [4],\n",
       "        [2],\n",
       "        [9],\n",
       "        [2],\n",
       "        [7],\n",
       "        [9],\n",
       "        [8],\n",
       "        [5],\n",
       "        [5],\n",
       "        [5],\n",
       "        [4],\n",
       "        [0],\n",
       "        [7],\n",
       "        [1],\n",
       "        [6],\n",
       "        [9],\n",
       "        [6],\n",
       "        [7],\n",
       "        [9],\n",
       "        [9],\n",
       "        [3],\n",
       "        [4],\n",
       "        [8],\n",
       "        [3],\n",
       "        [7]],\n",
       "\n",
       "       [[0],\n",
       "        [5],\n",
       "        [3],\n",
       "        [8],\n",
       "        [8],\n",
       "        [9],\n",
       "        [1],\n",
       "        [5],\n",
       "        [3],\n",
       "        [3],\n",
       "        [1],\n",
       "        [3],\n",
       "        [6],\n",
       "        [1],\n",
       "        [9],\n",
       "        [4],\n",
       "        [2],\n",
       "        [0],\n",
       "        [5],\n",
       "        [5],\n",
       "        [5],\n",
       "        [0],\n",
       "        [9],\n",
       "        [6],\n",
       "        [4],\n",
       "        [3],\n",
       "        [7],\n",
       "        [3]],\n",
       "\n",
       "       [[9],\n",
       "        [8],\n",
       "        [7],\n",
       "        [1],\n",
       "        [6],\n",
       "        [6],\n",
       "        [7],\n",
       "        [7],\n",
       "        [9],\n",
       "        [6],\n",
       "        [9],\n",
       "        [8],\n",
       "        [3],\n",
       "        [8],\n",
       "        [1],\n",
       "        [3],\n",
       "        [4],\n",
       "        [4],\n",
       "        [3],\n",
       "        [2],\n",
       "        [8],\n",
       "        [7],\n",
       "        [5],\n",
       "        [0],\n",
       "        [2],\n",
       "        [7],\n",
       "        [0],\n",
       "        [6]],\n",
       "\n",
       "       [[5],\n",
       "        [5],\n",
       "        [8],\n",
       "        [6],\n",
       "        [9],\n",
       "        [9],\n",
       "        [0],\n",
       "        [5],\n",
       "        [6],\n",
       "        [7],\n",
       "        [9],\n",
       "        [8],\n",
       "        [2],\n",
       "        [0],\n",
       "        [9],\n",
       "        [5],\n",
       "        [3],\n",
       "        [7],\n",
       "        [2],\n",
       "        [5],\n",
       "        [8],\n",
       "        [2],\n",
       "        [6],\n",
       "        [5],\n",
       "        [0],\n",
       "        [7],\n",
       "        [4],\n",
       "        [3]],\n",
       "\n",
       "       [[3],\n",
       "        [2],\n",
       "        [6],\n",
       "        [5],\n",
       "        [9],\n",
       "        [3],\n",
       "        [5],\n",
       "        [4],\n",
       "        [4],\n",
       "        [3],\n",
       "        [4],\n",
       "        [4],\n",
       "        [8],\n",
       "        [9],\n",
       "        [8],\n",
       "        [7],\n",
       "        [6],\n",
       "        [9],\n",
       "        [3],\n",
       "        [8],\n",
       "        [7],\n",
       "        [5],\n",
       "        [9],\n",
       "        [5],\n",
       "        [0],\n",
       "        [5],\n",
       "        [0],\n",
       "        [3]],\n",
       "\n",
       "       [[1],\n",
       "        [9],\n",
       "        [0],\n",
       "        [1],\n",
       "        [3],\n",
       "        [1],\n",
       "        [1],\n",
       "        [6],\n",
       "        [9],\n",
       "        [1],\n",
       "        [1],\n",
       "        [8],\n",
       "        [8],\n",
       "        [5],\n",
       "        [1],\n",
       "        [4],\n",
       "        [6],\n",
       "        [5],\n",
       "        [3],\n",
       "        [0],\n",
       "        [9],\n",
       "        [6],\n",
       "        [3],\n",
       "        [2],\n",
       "        [4],\n",
       "        [9],\n",
       "        [6],\n",
       "        [1]],\n",
       "\n",
       "       [[2],\n",
       "        [9],\n",
       "        [9],\n",
       "        [9],\n",
       "        [9],\n",
       "        [6],\n",
       "        [7],\n",
       "        [3],\n",
       "        [0],\n",
       "        [5],\n",
       "        [7],\n",
       "        [5],\n",
       "        [7],\n",
       "        [8],\n",
       "        [5],\n",
       "        [0],\n",
       "        [1],\n",
       "        [2],\n",
       "        [2],\n",
       "        [1],\n",
       "        [2],\n",
       "        [6],\n",
       "        [7],\n",
       "        [1],\n",
       "        [9],\n",
       "        [7],\n",
       "        [1],\n",
       "        [4]],\n",
       "\n",
       "       [[2],\n",
       "        [5],\n",
       "        [8],\n",
       "        [0],\n",
       "        [4],\n",
       "        [6],\n",
       "        [6],\n",
       "        [8],\n",
       "        [1],\n",
       "        [7],\n",
       "        [3],\n",
       "        [1],\n",
       "        [5],\n",
       "        [3],\n",
       "        [6],\n",
       "        [8],\n",
       "        [7],\n",
       "        [1],\n",
       "        [7],\n",
       "        [7],\n",
       "        [2],\n",
       "        [7],\n",
       "        [7],\n",
       "        [3],\n",
       "        [0],\n",
       "        [9],\n",
       "        [0],\n",
       "        [7]],\n",
       "\n",
       "       [[4],\n",
       "        [8],\n",
       "        [0],\n",
       "        [7],\n",
       "        [3],\n",
       "        [6],\n",
       "        [5],\n",
       "        [6],\n",
       "        [1],\n",
       "        [5],\n",
       "        [0],\n",
       "        [1],\n",
       "        [3],\n",
       "        [1],\n",
       "        [5],\n",
       "        [6],\n",
       "        [4],\n",
       "        [7],\n",
       "        [9],\n",
       "        [0],\n",
       "        [7],\n",
       "        [7],\n",
       "        [4],\n",
       "        [6],\n",
       "        [1],\n",
       "        [1],\n",
       "        [2],\n",
       "        [3]],\n",
       "\n",
       "       [[9],\n",
       "        [5],\n",
       "        [8],\n",
       "        [6],\n",
       "        [8],\n",
       "        [2],\n",
       "        [8],\n",
       "        [1],\n",
       "        [6],\n",
       "        [6],\n",
       "        [1],\n",
       "        [3],\n",
       "        [7],\n",
       "        [3],\n",
       "        [4],\n",
       "        [6],\n",
       "        [4],\n",
       "        [2],\n",
       "        [7],\n",
       "        [6],\n",
       "        [6],\n",
       "        [0],\n",
       "        [6],\n",
       "        [6],\n",
       "        [0],\n",
       "        [8],\n",
       "        [3],\n",
       "        [9]],\n",
       "\n",
       "       [[8],\n",
       "        [1],\n",
       "        [7],\n",
       "        [9],\n",
       "        [3],\n",
       "        [9],\n",
       "        [9],\n",
       "        [6],\n",
       "        [9],\n",
       "        [0],\n",
       "        [6],\n",
       "        [7],\n",
       "        [1],\n",
       "        [1],\n",
       "        [6],\n",
       "        [9],\n",
       "        [7],\n",
       "        [0],\n",
       "        [6],\n",
       "        [5],\n",
       "        [1],\n",
       "        [7],\n",
       "        [5],\n",
       "        [7],\n",
       "        [5],\n",
       "        [9],\n",
       "        [6],\n",
       "        [4]],\n",
       "\n",
       "       [[3],\n",
       "        [8],\n",
       "        [5],\n",
       "        [5],\n",
       "        [6],\n",
       "        [6],\n",
       "        [1],\n",
       "        [3],\n",
       "        [2],\n",
       "        [9],\n",
       "        [3],\n",
       "        [9],\n",
       "        [7],\n",
       "        [3],\n",
       "        [3],\n",
       "        [6],\n",
       "        [7],\n",
       "        [7],\n",
       "        [2],\n",
       "        [8],\n",
       "        [6],\n",
       "        [8],\n",
       "        [7],\n",
       "        [6],\n",
       "        [1],\n",
       "        [9],\n",
       "        [3],\n",
       "        [6]],\n",
       "\n",
       "       [[3],\n",
       "        [5],\n",
       "        [2],\n",
       "        [4],\n",
       "        [3],\n",
       "        [1],\n",
       "        [2],\n",
       "        [0],\n",
       "        [2],\n",
       "        [5],\n",
       "        [5],\n",
       "        [2],\n",
       "        [4],\n",
       "        [8],\n",
       "        [7],\n",
       "        [7],\n",
       "        [5],\n",
       "        [1],\n",
       "        [3],\n",
       "        [9],\n",
       "        [7],\n",
       "        [0],\n",
       "        [9],\n",
       "        [9],\n",
       "        [6],\n",
       "        [9],\n",
       "        [1],\n",
       "        [4]],\n",
       "\n",
       "       [[2],\n",
       "        [6],\n",
       "        [9],\n",
       "        [7],\n",
       "        [0],\n",
       "        [4],\n",
       "        [7],\n",
       "        [8],\n",
       "        [0],\n",
       "        [2],\n",
       "        [4],\n",
       "        [2],\n",
       "        [8],\n",
       "        [5],\n",
       "        [4],\n",
       "        [7],\n",
       "        [4],\n",
       "        [2],\n",
       "        [3],\n",
       "        [6],\n",
       "        [6],\n",
       "        [3],\n",
       "        [2],\n",
       "        [9],\n",
       "        [4],\n",
       "        [3],\n",
       "        [5],\n",
       "        [7]],\n",
       "\n",
       "       [[7],\n",
       "        [9],\n",
       "        [2],\n",
       "        [7],\n",
       "        [4],\n",
       "        [1],\n",
       "        [6],\n",
       "        [2],\n",
       "        [7],\n",
       "        [3],\n",
       "        [0],\n",
       "        [8],\n",
       "        [5],\n",
       "        [1],\n",
       "        [2],\n",
       "        [5],\n",
       "        [7],\n",
       "        [4],\n",
       "        [9],\n",
       "        [5],\n",
       "        [3],\n",
       "        [5],\n",
       "        [2],\n",
       "        [9],\n",
       "        [2],\n",
       "        [3],\n",
       "        [3],\n",
       "        [8]],\n",
       "\n",
       "       [[7],\n",
       "        [1],\n",
       "        [8],\n",
       "        [6],\n",
       "        [2],\n",
       "        [8],\n",
       "        [5],\n",
       "        [1],\n",
       "        [2],\n",
       "        [1],\n",
       "        [1],\n",
       "        [8],\n",
       "        [4],\n",
       "        [0],\n",
       "        [6],\n",
       "        [1],\n",
       "        [1],\n",
       "        [9],\n",
       "        [3],\n",
       "        [7],\n",
       "        [7],\n",
       "        [9],\n",
       "        [6],\n",
       "        [9],\n",
       "        [5],\n",
       "        [7],\n",
       "        [4],\n",
       "        [7]]])>"
      ]
     },
     "execution_count": 80,
     "metadata": {},
     "output_type": "execute_result"
    }
   ],
   "source": [
    "x = tf.squeeze(x, axis=0) # 删除图片数量维度\n",
    "x"
   ]
  },
  {
   "cell_type": "code",
   "execution_count": 81,
   "metadata": {
    "scrolled": true
   },
   "outputs": [
    {
     "data": {
      "text/plain": [
       "<tf.Tensor: id=393, shape=(28, 28), dtype=int32, numpy=\n",
       "array([[1, 2, 2, 6, 9, 9, 5, 4, 6, 6, 3, 2, 3, 8, 8, 0, 3, 2, 2, 1, 7, 4,\n",
       "        1, 0, 1, 7, 0, 9],\n",
       "       [1, 3, 5, 3, 5, 8, 1, 5, 7, 7, 2, 8, 4, 8, 3, 4, 4, 5, 6, 5, 9, 9,\n",
       "        6, 0, 1, 1, 0, 6],\n",
       "       [9, 0, 9, 0, 3, 6, 1, 3, 3, 8, 2, 9, 5, 9, 2, 7, 8, 6, 3, 6, 8, 6,\n",
       "        0, 7, 7, 2, 0, 8],\n",
       "       [4, 1, 7, 5, 9, 7, 4, 4, 2, 9, 2, 1, 8, 8, 0, 6, 5, 1, 5, 8, 0, 1,\n",
       "        4, 1, 4, 0, 3, 9],\n",
       "       [1, 6, 9, 3, 8, 3, 5, 2, 6, 8, 3, 3, 6, 0, 4, 4, 8, 8, 8, 7, 0, 5,\n",
       "        0, 7, 9, 4, 9, 3],\n",
       "       [1, 8, 2, 3, 6, 6, 8, 3, 1, 5, 9, 2, 6, 6, 8, 8, 6, 3, 0, 4, 8, 5,\n",
       "        4, 6, 7, 0, 6, 3],\n",
       "       [1, 0, 1, 2, 6, 4, 7, 3, 9, 3, 7, 4, 8, 8, 0, 6, 5, 2, 8, 3, 9, 8,\n",
       "        3, 9, 4, 9, 1, 1],\n",
       "       [0, 7, 0, 7, 4, 1, 3, 3, 5, 6, 9, 3, 8, 9, 2, 1, 4, 1, 1, 6, 6, 1,\n",
       "        8, 8, 1, 6, 1, 9],\n",
       "       [6, 8, 4, 4, 4, 5, 7, 7, 9, 7, 1, 5, 1, 6, 3, 2, 2, 3, 2, 0, 5, 6,\n",
       "        1, 1, 0, 4, 5, 8],\n",
       "       [3, 8, 4, 4, 7, 0, 1, 1, 0, 8, 0, 0, 7, 4, 5, 1, 6, 1, 8, 8, 8, 5,\n",
       "        5, 2, 7, 9, 3, 9],\n",
       "       [3, 6, 6, 0, 4, 1, 3, 0, 2, 3, 4, 0, 8, 9, 6, 4, 9, 3, 6, 1, 9, 0,\n",
       "        6, 4, 9, 9, 9, 4],\n",
       "       [8, 1, 8, 1, 8, 1, 8, 2, 8, 9, 0, 2, 1, 8, 8, 2, 2, 8, 9, 6, 6, 5,\n",
       "        6, 3, 1, 6, 3, 8],\n",
       "       [0, 6, 4, 3, 5, 7, 9, 7, 0, 9, 8, 7, 3, 5, 8, 2, 7, 4, 7, 8, 6, 0,\n",
       "        5, 4, 4, 2, 5, 9],\n",
       "       [0, 3, 7, 5, 6, 4, 8, 5, 4, 1, 1, 2, 6, 0, 0, 9, 3, 4, 2, 8, 0, 6,\n",
       "        3, 2, 0, 0, 9, 0],\n",
       "       [7, 8, 1, 2, 5, 0, 4, 0, 0, 5, 6, 3, 8, 2, 4, 2, 2, 3, 9, 6, 5, 5,\n",
       "        6, 1, 8, 9, 9, 0],\n",
       "       [9, 8, 7, 3, 6, 8, 7, 5, 1, 9, 5, 7, 5, 7, 3, 5, 3, 2, 1, 6, 0, 2,\n",
       "        2, 6, 4, 7, 6, 4],\n",
       "       [8, 1, 5, 2, 8, 1, 6, 0, 6, 7, 4, 6, 3, 9, 5, 3, 8, 5, 3, 5, 9, 9,\n",
       "        1, 5, 1, 4, 0, 6],\n",
       "       [2, 2, 7, 4, 5, 0, 6, 7, 6, 5, 4, 2, 2, 3, 6, 0, 2, 8, 4, 6, 9, 4,\n",
       "        8, 2, 1, 9, 4, 1],\n",
       "       [8, 9, 6, 5, 8, 1, 3, 1, 5, 0, 4, 6, 2, 5, 9, 3, 6, 4, 6, 2, 9, 0,\n",
       "        6, 8, 9, 1, 1, 9],\n",
       "       [1, 8, 1, 3, 1, 3, 2, 1, 1, 4, 5, 3, 1, 7, 0, 8, 3, 0, 8, 6, 3, 9,\n",
       "        8, 8, 8, 5, 8, 6],\n",
       "       [0, 9, 3, 0, 8, 3, 5, 7, 5, 6, 9, 0, 6, 9, 2, 9, 9, 0, 3, 9, 1, 6,\n",
       "        5, 9, 0, 1, 7, 8],\n",
       "       [2, 8, 1, 4, 9, 3, 5, 8, 2, 7, 4, 1, 8, 7, 3, 8, 9, 3, 5, 1, 0, 0,\n",
       "        5, 8, 6, 9, 8, 3],\n",
       "       [9, 9, 1, 5, 5, 2, 2, 3, 2, 7, 2, 3, 8, 8, 7, 6, 9, 4, 9, 9, 7, 4,\n",
       "        0, 2, 9, 8, 1, 4],\n",
       "       [9, 0, 3, 9, 1, 7, 2, 0, 0, 4, 5, 0, 3, 0, 1, 0, 7, 6, 5, 4, 1, 5,\n",
       "        0, 5, 0, 9, 9, 2],\n",
       "       [3, 8, 2, 1, 6, 8, 3, 1, 1, 5, 3, 5, 4, 4, 5, 4, 0, 4, 9, 9, 4, 5,\n",
       "        7, 1, 4, 6, 1, 0],\n",
       "       [2, 6, 7, 2, 9, 4, 0, 0, 4, 6, 2, 8, 2, 3, 1, 1, 4, 1, 4, 3, 1, 1,\n",
       "        2, 6, 0, 6, 3, 5],\n",
       "       [0, 7, 5, 3, 4, 9, 1, 7, 7, 6, 9, 1, 4, 1, 1, 0, 3, 7, 0, 7, 4, 2,\n",
       "        7, 9, 4, 0, 2, 9],\n",
       "       [2, 9, 5, 3, 1, 8, 6, 9, 6, 3, 2, 9, 3, 6, 7, 6, 0, 6, 3, 1, 3, 6,\n",
       "        8, 4, 5, 8, 6, 1]])>"
      ]
     },
     "execution_count": 81,
     "metadata": {},
     "output_type": "execute_result"
    }
   ],
   "source": [
    "x = tf.random.uniform([1,28,28,1],maxval=10,dtype=tf.int32)\n",
    "tf.squeeze(x) # 删除所有长度为 1 的维度"
   ]
  },
  {
   "cell_type": "markdown",
   "metadata": {},
   "source": [
    "### 交换维度"
   ]
  },
  {
   "cell_type": "code",
   "execution_count": 82,
   "metadata": {
    "scrolled": true
   },
   "outputs": [
    {
     "data": {
      "text/plain": [
       "<tf.Tensor: id=401, shape=(2, 3, 32, 32), dtype=float32, numpy=\n",
       "array([[[[-0.39043707, -0.30230662, -1.9867934 , ..., -0.29216716,\n",
       "          -0.64319944,  1.5930222 ],\n",
       "         [-0.6313358 ,  1.6687986 ,  0.7610653 , ...,  0.5870873 ,\n",
       "           0.73140526,  1.2941878 ],\n",
       "         [ 1.0156972 , -0.29763278, -1.0652418 , ..., -0.48389727,\n",
       "          -1.4059663 ,  0.41628385],\n",
       "         ...,\n",
       "         [-1.7150276 ,  0.19418778, -0.66255295, ..., -0.62195665,\n",
       "          -0.73488826, -0.4232543 ],\n",
       "         [-0.73697793,  1.012251  ,  0.15486401, ...,  0.860078  ,\n",
       "           0.8544123 ,  0.5678252 ],\n",
       "         [-1.8589381 , -1.3342535 ,  0.9935424 , ...,  0.25716868,\n",
       "          -2.015309  , -0.85078555]],\n",
       "\n",
       "        [[-0.17664903,  0.8847422 , -0.46457696, ...,  0.92455554,\n",
       "          -0.60910517, -0.18064296],\n",
       "         [ 0.75812924,  0.0237945 , -1.9612142 , ..., -0.45630676,\n",
       "          -0.28309876, -1.2331525 ],\n",
       "         [-0.01368176, -0.5026539 ,  1.2290294 , ..., -1.1423604 ,\n",
       "          -0.3260375 ,  1.3010129 ],\n",
       "         ...,\n",
       "         [ 0.04602477,  1.0685744 ,  0.7449198 , ..., -0.284185  ,\n",
       "          -1.6231251 ,  0.11840296],\n",
       "         [-0.24132231,  0.86227375,  0.9797782 , ...,  0.7813567 ,\n",
       "          -0.6405665 , -0.24062534],\n",
       "         [-0.9926044 , -0.54006237,  1.2923253 , ..., -0.07407676,\n",
       "           0.2235925 , -1.5672517 ]],\n",
       "\n",
       "        [[-0.7737407 ,  2.7736185 , -0.69532025, ..., -1.5000411 ,\n",
       "           1.6365229 ,  0.3068839 ],\n",
       "         [ 0.14002329, -0.4495159 ,  0.04082033, ...,  0.89599276,\n",
       "           1.7508743 , -0.7800571 ],\n",
       "         [ 0.61726505,  0.4047211 ,  0.10464165, ...,  1.1892295 ,\n",
       "           0.5352478 , -1.0491343 ],\n",
       "         ...,\n",
       "         [ 0.1691964 ,  0.15880907,  1.408     , ...,  1.0396607 ,\n",
       "           0.5927323 ,  1.6498816 ],\n",
       "         [ 0.17292628, -2.112722  ,  0.579741  , ...,  0.18388233,\n",
       "           0.47605005, -0.93195665],\n",
       "         [ 0.93403685, -0.6954427 , -0.88132477, ..., -0.11219302,\n",
       "           1.1970189 ,  1.2409225 ]]],\n",
       "\n",
       "\n",
       "       [[[ 0.01643941, -1.1598592 , -1.0207833 , ...,  0.25122932,\n",
       "           0.7007378 ,  1.4628242 ],\n",
       "         [ 1.2242998 , -0.36271903, -0.97904193, ...,  0.31082746,\n",
       "          -0.9410551 , -0.1534882 ],\n",
       "         [-0.7829981 , -0.5768953 , -0.6713412 , ..., -0.1941005 ,\n",
       "          -0.48625425, -2.2722075 ],\n",
       "         ...,\n",
       "         [ 0.92998815, -1.383025  , -0.40547508, ...,  0.73836386,\n",
       "           1.5749865 ,  1.2995435 ],\n",
       "         [ 0.07226056, -0.00512594,  0.03022828, ...,  0.42318118,\n",
       "          -0.01606119, -1.4766897 ],\n",
       "         [-0.4520469 ,  1.8689631 ,  2.1103153 , ..., -1.3973889 ,\n",
       "           0.23059545, -2.69004   ]],\n",
       "\n",
       "        [[ 0.594341  , -0.16644341,  0.5908645 , ..., -3.2125852 ,\n",
       "           1.1595526 , -0.6374575 ],\n",
       "         [ 0.4781915 , -0.23007476, -0.0721154 , ..., -1.8583816 ,\n",
       "          -1.2985965 ,  0.6094604 ],\n",
       "         [ 0.07343922, -1.3218074 , -1.3325305 , ..., -0.46416056,\n",
       "          -0.38548768, -0.03153753],\n",
       "         ...,\n",
       "         [ 0.81570625,  0.38057128,  0.6989479 , ...,  2.4380841 ,\n",
       "           0.76042736,  0.19255632],\n",
       "         [ 1.2489218 , -0.565094  ,  0.2776971 , ..., -0.27986288,\n",
       "           0.2818269 , -0.4912106 ],\n",
       "         [-0.9430276 ,  0.6818679 ,  0.01677892, ..., -0.12788735,\n",
       "          -0.56080353, -0.669917  ]],\n",
       "\n",
       "        [[-2.3733382 ,  1.3602958 , -1.9671274 , ..., -2.2408662 ,\n",
       "          -0.52211815, -0.5648298 ],\n",
       "         [-0.19559927,  1.3523355 ,  0.80738115, ...,  0.18168956,\n",
       "           0.01513629, -0.59161603],\n",
       "         [-2.631266  , -0.32504168,  0.17713146, ..., -0.6644864 ,\n",
       "          -1.0925809 ,  0.53023005],\n",
       "         ...,\n",
       "         [-0.877763  ,  0.43378112,  0.03304618, ...,  0.00441388,\n",
       "          -1.2911509 ,  0.9744796 ],\n",
       "         [ 0.40840334,  0.20074609,  1.1472893 , ...,  0.91983247,\n",
       "           0.02549722, -2.5761085 ],\n",
       "         [-0.83625156,  2.619675  ,  0.50220364, ...,  0.1497319 ,\n",
       "          -1.3394116 ,  0.02970514]]]], dtype=float32)>"
      ]
     },
     "execution_count": 82,
     "metadata": {},
     "output_type": "execute_result"
    }
   ],
   "source": [
    "x = tf.random.normal([2,32,32,3])\n",
    "# 交换维度\n",
    "tf.transpose(x,perm=[0,3,1,2]) "
   ]
  },
  {
   "cell_type": "code",
   "execution_count": 83,
   "metadata": {
    "scrolled": true
   },
   "outputs": [
    {
     "data": {
      "text/plain": [
       "<tf.Tensor: id=409, shape=(2, 32, 32, 3), dtype=float32, numpy=\n",
       "array([[[[-7.05858529e-01,  5.79857349e-01,  5.17978489e-01],\n",
       "         [ 1.97535038e-01,  2.41262150e+00, -8.08618605e-01],\n",
       "         [-1.33387029e+00,  8.35422397e-01,  4.68417741e-02],\n",
       "         ...,\n",
       "         [-1.85486555e+00, -1.79760963e-01, -1.30834386e-01],\n",
       "         [ 1.74203920e+00,  8.04924190e-01,  5.22668839e-01],\n",
       "         [ 1.16469514e+00, -9.97500345e-02, -3.65659148e-01]],\n",
       "\n",
       "        [[-4.97209340e-01,  3.06787133e-01, -3.69988382e-01],\n",
       "         [-2.90299535e-01, -5.25915980e-01,  1.27274334e+00],\n",
       "         [ 1.84384391e-01, -3.07884425e-01, -1.85154855e+00],\n",
       "         ...,\n",
       "         [-3.15949917e-01,  3.61859918e-01,  1.17602742e+00],\n",
       "         [ 6.25441253e-01, -5.67000389e-01,  8.02632213e-01],\n",
       "         [ 6.11567736e-01,  1.57166350e+00,  4.98567879e-01]],\n",
       "\n",
       "        [[-9.19834495e-01, -4.40173537e-01, -2.29611695e-01],\n",
       "         [ 9.47837830e-01, -5.55911660e-01,  4.74197090e-01],\n",
       "         [-1.72871817e-02,  2.21145898e-01,  1.74335802e+00],\n",
       "         ...,\n",
       "         [ 7.97912180e-01, -1.26328349e+00, -1.33799338e+00],\n",
       "         [ 9.40267444e-02, -1.24984697e-01,  1.01561546e+00],\n",
       "         [ 2.79698372e-01, -6.39633238e-01,  5.27768612e-01]],\n",
       "\n",
       "        ...,\n",
       "\n",
       "        [[-9.10119534e-01,  1.37663233e+00,  1.01714134e+00],\n",
       "         [ 1.50060797e+00,  1.02960527e+00,  5.97680509e-01],\n",
       "         [-5.90912819e-01,  9.22205448e-02, -7.76335418e-01],\n",
       "         ...,\n",
       "         [ 5.81846118e-01,  5.27108669e-01,  1.50366783e+00],\n",
       "         [ 8.51492047e-01,  1.44346550e-01, -4.86051530e-01],\n",
       "         [-1.08740294e+00, -7.55970716e-01,  8.78089845e-01]],\n",
       "\n",
       "        [[-2.82366252e+00, -6.64622366e-01,  5.30399270e-02],\n",
       "         [-1.57654643e-01,  8.66592169e-01, -1.17405820e+00],\n",
       "         [-5.54749906e-01,  1.68423462e+00,  1.29883558e-01],\n",
       "         ...,\n",
       "         [-4.10454839e-01, -1.83613002e+00,  1.04477417e+00],\n",
       "         [ 1.48340487e+00, -4.63488281e-01,  1.19590655e-01],\n",
       "         [-1.04547167e+00, -1.79902041e+00, -3.04952741e+00]],\n",
       "\n",
       "        [[-1.98855197e+00, -8.45096648e-01,  1.85619044e+00],\n",
       "         [-2.93955624e-01,  9.40653235e-02, -1.15122402e+00],\n",
       "         [-7.22599208e-01,  3.91166836e-01,  8.67270291e-01],\n",
       "         ...,\n",
       "         [-6.45500660e-01,  2.06319332e+00, -5.02369285e-01],\n",
       "         [-1.16479790e+00,  1.65349364e+00,  6.71608567e-01],\n",
       "         [ 6.70123339e-01,  5.61373830e-01, -3.82326841e-01]]],\n",
       "\n",
       "\n",
       "       [[[ 3.25118244e-01,  9.37203467e-01, -1.34241849e-01],\n",
       "         [-2.57909983e-01,  1.49299097e+00, -4.02240694e-01],\n",
       "         [ 1.64396191e+00,  2.30579749e-01, -1.54376164e-01],\n",
       "         ...,\n",
       "         [-9.54913199e-01, -4.58034903e-01, -6.68867305e-02],\n",
       "         [-8.10109854e-01,  4.81526047e-01,  1.10433710e+00],\n",
       "         [-1.56372404e+00, -2.47965074e+00,  6.32473350e-01]],\n",
       "\n",
       "        [[-3.52074236e-01, -2.04459214e+00, -1.14290476e+00],\n",
       "         [ 6.79809988e-01, -2.40749145e+00,  3.03861827e-01],\n",
       "         [-1.66290462e+00, -1.12270117e+00,  1.82043469e+00],\n",
       "         ...,\n",
       "         [-1.14092791e+00,  1.04499364e+00, -1.28761327e+00],\n",
       "         [-3.11615497e-01,  4.14526373e-01, -5.37633657e-01],\n",
       "         [ 7.09312320e-01,  3.92696381e-01, -4.82933462e-01]],\n",
       "\n",
       "        [[-3.58212888e-01,  5.49445033e-01,  2.92869115e+00],\n",
       "         [-2.48138592e-01,  4.07056214e-05, -5.85199535e-01],\n",
       "         [-1.00406981e+00,  1.70110762e-01, -4.12934631e-01],\n",
       "         ...,\n",
       "         [ 3.34229255e+00,  6.72522187e-01,  2.26479435e+00],\n",
       "         [ 1.05336523e+00,  1.29844129e+00, -2.40226299e-01],\n",
       "         [ 8.48758638e-01, -7.46373057e-01, -1.09162045e+00]],\n",
       "\n",
       "        ...,\n",
       "\n",
       "        [[-1.68445304e-01, -1.34374905e+00,  5.87424278e-01],\n",
       "         [ 6.91337168e-01, -1.99382961e+00, -3.80379915e-01],\n",
       "         [ 1.36809838e+00, -1.27971306e-01,  4.91064042e-02],\n",
       "         ...,\n",
       "         [-6.58295095e-01, -3.05052012e-01, -1.80468798e+00],\n",
       "         [-1.10036170e+00,  2.11388692e-01,  8.87929380e-01],\n",
       "         [ 6.94871128e-01,  1.00243735e+00, -1.04317412e-01]],\n",
       "\n",
       "        [[ 4.10346180e-01, -4.00156379e-01, -8.42014670e-01],\n",
       "         [ 9.98965919e-01, -1.79181442e-01,  9.30544913e-01],\n",
       "         [-9.56005812e-01, -9.61652100e-01,  2.28317404e+00],\n",
       "         ...,\n",
       "         [-2.17074466e+00,  7.63075650e-01, -4.36138004e-01],\n",
       "         [ 1.11843443e+00,  1.21072531e-02, -6.69705272e-02],\n",
       "         [ 8.82618222e-03, -3.29161644e+00,  4.23060060e-01]],\n",
       "\n",
       "        [[ 1.45402908e+00, -7.29345858e-01,  1.07058644e+00],\n",
       "         [ 1.52432084e+00,  9.63727310e-02, -8.04100454e-01],\n",
       "         [ 3.86447668e-01, -5.79877436e-01,  9.82791185e-02],\n",
       "         ...,\n",
       "         [-1.32813483e-01, -5.95878303e-01, -1.10482502e+00],\n",
       "         [ 7.56478608e-01, -4.10921514e-01,  2.65102839e+00],\n",
       "         [-9.41658258e-01,  3.38511974e-01,  2.71768600e-01]]]],\n",
       "      dtype=float32)>"
      ]
     },
     "execution_count": 83,
     "metadata": {},
     "output_type": "execute_result"
    }
   ],
   "source": [
    "x = tf.random.normal([2,32,32,3])\n",
    "# 交换维度\n",
    "tf.transpose(x,perm=[0,2,1,3]) "
   ]
  },
  {
   "cell_type": "markdown",
   "metadata": {},
   "source": [
    "### 复制数据"
   ]
  },
  {
   "cell_type": "code",
   "execution_count": 84,
   "metadata": {},
   "outputs": [
    {
     "data": {
      "text/plain": [
       "<tf.Tensor: id=412, shape=(1, 2), dtype=int32, numpy=array([[1, 2]])>"
      ]
     },
     "execution_count": 84,
     "metadata": {},
     "output_type": "execute_result"
    }
   ],
   "source": [
    "# 创建向量 b\n",
    "b = tf.constant([1,2]) \n",
    "# 插入新维度，变成矩阵\n",
    "b = tf.expand_dims(b, axis=0) \n",
    "b"
   ]
  },
  {
   "cell_type": "code",
   "execution_count": 85,
   "metadata": {},
   "outputs": [
    {
     "data": {
      "text/plain": [
       "<tf.Tensor: id=414, shape=(2, 2), dtype=int32, numpy=\n",
       "array([[1, 2],\n",
       "       [1, 2]])>"
      ]
     },
     "execution_count": 85,
     "metadata": {},
     "output_type": "execute_result"
    }
   ],
   "source": [
    "# 样本维度上复制一份\n",
    "b = tf.tile(b, multiples=[2,1]) \n",
    "b"
   ]
  },
  {
   "cell_type": "code",
   "execution_count": 86,
   "metadata": {},
   "outputs": [
    {
     "data": {
      "text/plain": [
       "<tf.Tensor: id=420, shape=(2, 2), dtype=int32, numpy=\n",
       "array([[0, 1],\n",
       "       [2, 3]])>"
      ]
     },
     "execution_count": 86,
     "metadata": {},
     "output_type": "execute_result"
    }
   ],
   "source": [
    "x = tf.range(4)\n",
    "# 创建 2 行 2 列矩阵\n",
    "x=tf.reshape(x,[2,2]) \n",
    "x"
   ]
  },
  {
   "cell_type": "code",
   "execution_count": 87,
   "metadata": {},
   "outputs": [
    {
     "data": {
      "text/plain": [
       "<tf.Tensor: id=422, shape=(2, 4), dtype=int32, numpy=\n",
       "array([[0, 1, 0, 1],\n",
       "       [2, 3, 2, 3]])>"
      ]
     },
     "execution_count": 87,
     "metadata": {},
     "output_type": "execute_result"
    }
   ],
   "source": [
    "# 列维度复制一份\n",
    "x = tf.tile(x,multiples=[1,2]) \n",
    "x"
   ]
  },
  {
   "cell_type": "code",
   "execution_count": 88,
   "metadata": {
    "scrolled": true
   },
   "outputs": [
    {
     "data": {
      "text/plain": [
       "<tf.Tensor: id=424, shape=(4, 4), dtype=int32, numpy=\n",
       "array([[0, 1, 0, 1],\n",
       "       [2, 3, 2, 3],\n",
       "       [0, 1, 0, 1],\n",
       "       [2, 3, 2, 3]])>"
      ]
     },
     "execution_count": 88,
     "metadata": {},
     "output_type": "execute_result"
    }
   ],
   "source": [
    "# 行维度复制一份\n",
    "x = tf.tile(x,multiples=[2,1]) \n",
    "x"
   ]
  },
  {
   "cell_type": "markdown",
   "metadata": {},
   "source": [
    "## Broadcasting"
   ]
  },
  {
   "cell_type": "code",
   "execution_count": 89,
   "metadata": {
    "scrolled": true
   },
   "outputs": [
    {
     "data": {
      "text/plain": [
       "<tf.Tensor: id=432, shape=(2, 32, 32, 3), dtype=float32, numpy=\n",
       "array([[[[-0.17697057, -0.17697057, -0.17697057],\n",
       "         [-1.3640729 , -1.3640729 , -1.3640729 ],\n",
       "         [ 0.49448076,  0.49448076,  0.49448076],\n",
       "         ...,\n",
       "         [ 0.42191896,  0.42191896,  0.42191896],\n",
       "         [-0.95125973, -0.95125973, -0.95125973],\n",
       "         [-1.2678576 , -1.2678576 , -1.2678576 ]],\n",
       "\n",
       "        [[-0.17697057, -0.17697057, -0.17697057],\n",
       "         [-1.3640729 , -1.3640729 , -1.3640729 ],\n",
       "         [ 0.49448076,  0.49448076,  0.49448076],\n",
       "         ...,\n",
       "         [ 0.42191896,  0.42191896,  0.42191896],\n",
       "         [-0.95125973, -0.95125973, -0.95125973],\n",
       "         [-1.2678576 , -1.2678576 , -1.2678576 ]],\n",
       "\n",
       "        [[-0.17697057, -0.17697057, -0.17697057],\n",
       "         [-1.3640729 , -1.3640729 , -1.3640729 ],\n",
       "         [ 0.49448076,  0.49448076,  0.49448076],\n",
       "         ...,\n",
       "         [ 0.42191896,  0.42191896,  0.42191896],\n",
       "         [-0.95125973, -0.95125973, -0.95125973],\n",
       "         [-1.2678576 , -1.2678576 , -1.2678576 ]],\n",
       "\n",
       "        ...,\n",
       "\n",
       "        [[-0.17697057, -0.17697057, -0.17697057],\n",
       "         [-1.3640729 , -1.3640729 , -1.3640729 ],\n",
       "         [ 0.49448076,  0.49448076,  0.49448076],\n",
       "         ...,\n",
       "         [ 0.42191896,  0.42191896,  0.42191896],\n",
       "         [-0.95125973, -0.95125973, -0.95125973],\n",
       "         [-1.2678576 , -1.2678576 , -1.2678576 ]],\n",
       "\n",
       "        [[-0.17697057, -0.17697057, -0.17697057],\n",
       "         [-1.3640729 , -1.3640729 , -1.3640729 ],\n",
       "         [ 0.49448076,  0.49448076,  0.49448076],\n",
       "         ...,\n",
       "         [ 0.42191896,  0.42191896,  0.42191896],\n",
       "         [-0.95125973, -0.95125973, -0.95125973],\n",
       "         [-1.2678576 , -1.2678576 , -1.2678576 ]],\n",
       "\n",
       "        [[-0.17697057, -0.17697057, -0.17697057],\n",
       "         [-1.3640729 , -1.3640729 , -1.3640729 ],\n",
       "         [ 0.49448076,  0.49448076,  0.49448076],\n",
       "         ...,\n",
       "         [ 0.42191896,  0.42191896,  0.42191896],\n",
       "         [-0.95125973, -0.95125973, -0.95125973],\n",
       "         [-1.2678576 , -1.2678576 , -1.2678576 ]]],\n",
       "\n",
       "\n",
       "       [[[-0.17697057, -0.17697057, -0.17697057],\n",
       "         [-1.3640729 , -1.3640729 , -1.3640729 ],\n",
       "         [ 0.49448076,  0.49448076,  0.49448076],\n",
       "         ...,\n",
       "         [ 0.42191896,  0.42191896,  0.42191896],\n",
       "         [-0.95125973, -0.95125973, -0.95125973],\n",
       "         [-1.2678576 , -1.2678576 , -1.2678576 ]],\n",
       "\n",
       "        [[-0.17697057, -0.17697057, -0.17697057],\n",
       "         [-1.3640729 , -1.3640729 , -1.3640729 ],\n",
       "         [ 0.49448076,  0.49448076,  0.49448076],\n",
       "         ...,\n",
       "         [ 0.42191896,  0.42191896,  0.42191896],\n",
       "         [-0.95125973, -0.95125973, -0.95125973],\n",
       "         [-1.2678576 , -1.2678576 , -1.2678576 ]],\n",
       "\n",
       "        [[-0.17697057, -0.17697057, -0.17697057],\n",
       "         [-1.3640729 , -1.3640729 , -1.3640729 ],\n",
       "         [ 0.49448076,  0.49448076,  0.49448076],\n",
       "         ...,\n",
       "         [ 0.42191896,  0.42191896,  0.42191896],\n",
       "         [-0.95125973, -0.95125973, -0.95125973],\n",
       "         [-1.2678576 , -1.2678576 , -1.2678576 ]],\n",
       "\n",
       "        ...,\n",
       "\n",
       "        [[-0.17697057, -0.17697057, -0.17697057],\n",
       "         [-1.3640729 , -1.3640729 , -1.3640729 ],\n",
       "         [ 0.49448076,  0.49448076,  0.49448076],\n",
       "         ...,\n",
       "         [ 0.42191896,  0.42191896,  0.42191896],\n",
       "         [-0.95125973, -0.95125973, -0.95125973],\n",
       "         [-1.2678576 , -1.2678576 , -1.2678576 ]],\n",
       "\n",
       "        [[-0.17697057, -0.17697057, -0.17697057],\n",
       "         [-1.3640729 , -1.3640729 , -1.3640729 ],\n",
       "         [ 0.49448076,  0.49448076,  0.49448076],\n",
       "         ...,\n",
       "         [ 0.42191896,  0.42191896,  0.42191896],\n",
       "         [-0.95125973, -0.95125973, -0.95125973],\n",
       "         [-1.2678576 , -1.2678576 , -1.2678576 ]],\n",
       "\n",
       "        [[-0.17697057, -0.17697057, -0.17697057],\n",
       "         [-1.3640729 , -1.3640729 , -1.3640729 ],\n",
       "         [ 0.49448076,  0.49448076,  0.49448076],\n",
       "         ...,\n",
       "         [ 0.42191896,  0.42191896,  0.42191896],\n",
       "         [-0.95125973, -0.95125973, -0.95125973],\n",
       "         [-1.2678576 , -1.2678576 , -1.2678576 ]]]], dtype=float32)>"
      ]
     },
     "execution_count": 89,
     "metadata": {},
     "output_type": "execute_result"
    }
   ],
   "source": [
    "# 创建矩阵\n",
    "A = tf.random.normal([32,1]) \n",
    "# 扩展为 4D 张量\n",
    "tf.broadcast_to(A, [2,32,32,3]) "
   ]
  },
  {
   "cell_type": "code",
   "execution_count": 90,
   "metadata": {},
   "outputs": [
    {
     "name": "stdout",
     "output_type": "stream",
     "text": [
      "Incompatible shapes: [32,2] vs. [2,32,32,4] [Op:BroadcastTo]\n"
     ]
    }
   ],
   "source": [
    "A = tf.random.normal([32,2])\n",
    "# 不符合 Broadcasting 条件\n",
    "try: \n",
    "    tf.broadcast_to(A, [2,32,32,4])\n",
    "except Exception as e:\n",
    "    print(e)"
   ]
  },
  {
   "cell_type": "markdown",
   "metadata": {},
   "source": [
    "## 数学运算\n",
    "\n",
    "### 加、 减、 乘、 除运算"
   ]
  },
  {
   "cell_type": "code",
   "execution_count": 91,
   "metadata": {},
   "outputs": [
    {
     "data": {
      "text/plain": [
       "<tf.Tensor: id=445, shape=(5,), dtype=int32, numpy=array([0, 0, 1, 1, 2])>"
      ]
     },
     "execution_count": 91,
     "metadata": {},
     "output_type": "execute_result"
    }
   ],
   "source": [
    "a = tf.range(5)\n",
    "b = tf.constant(2)\n",
    "# 整除运算\n",
    "a//b "
   ]
  },
  {
   "cell_type": "code",
   "execution_count": 92,
   "metadata": {},
   "outputs": [
    {
     "data": {
      "text/plain": [
       "<tf.Tensor: id=446, shape=(5,), dtype=int32, numpy=array([0, 1, 0, 1, 0])>"
      ]
     },
     "execution_count": 92,
     "metadata": {},
     "output_type": "execute_result"
    }
   ],
   "source": [
    "# 余除运算\n",
    "a%b "
   ]
  },
  {
   "cell_type": "markdown",
   "metadata": {},
   "source": [
    "### 乘方运算"
   ]
  },
  {
   "cell_type": "code",
   "execution_count": 93,
   "metadata": {},
   "outputs": [
    {
     "data": {
      "text/plain": [
       "<tf.Tensor: id=452, shape=(4,), dtype=int32, numpy=array([ 0,  1,  8, 27])>"
      ]
     },
     "execution_count": 93,
     "metadata": {},
     "output_type": "execute_result"
    }
   ],
   "source": [
    "x = tf.range(4)\n",
    "# 乘方运算\n",
    "tf.pow(x,3) "
   ]
  },
  {
   "cell_type": "code",
   "execution_count": 94,
   "metadata": {},
   "outputs": [
    {
     "data": {
      "text/plain": [
       "<tf.Tensor: id=454, shape=(4,), dtype=int32, numpy=array([0, 1, 4, 9])>"
      ]
     },
     "execution_count": 94,
     "metadata": {},
     "output_type": "execute_result"
    }
   ],
   "source": [
    "# 乘方运算符\n",
    "x**2 "
   ]
  },
  {
   "cell_type": "code",
   "execution_count": 95,
   "metadata": {},
   "outputs": [
    {
     "data": {
      "text/plain": [
       "<tf.Tensor: id=457, shape=(3,), dtype=float32, numpy=array([1., 2., 3.], dtype=float32)>"
      ]
     },
     "execution_count": 95,
     "metadata": {},
     "output_type": "execute_result"
    }
   ],
   "source": [
    "x=tf.constant([1.,4.,9.])\n",
    "# 平方根\n",
    "x**(0.5) "
   ]
  },
  {
   "cell_type": "code",
   "execution_count": 96,
   "metadata": {},
   "outputs": [],
   "source": [
    "x = tf.range(5)\n",
    "# 转换为浮点数\n",
    "x = tf.cast(x, dtype=tf.float32) \n",
    "# 平方\n",
    "x = tf.square(x) "
   ]
  },
  {
   "cell_type": "code",
   "execution_count": 97,
   "metadata": {},
   "outputs": [
    {
     "data": {
      "text/plain": [
       "<tf.Tensor: id=464, shape=(5,), dtype=float32, numpy=array([0., 1., 2., 3., 4.], dtype=float32)>"
      ]
     },
     "execution_count": 97,
     "metadata": {},
     "output_type": "execute_result"
    }
   ],
   "source": [
    "# 平方根\n",
    "tf.sqrt(x) "
   ]
  },
  {
   "cell_type": "markdown",
   "metadata": {},
   "source": [
    "### 指数和对数运算"
   ]
  },
  {
   "cell_type": "code",
   "execution_count": 98,
   "metadata": {},
   "outputs": [
    {
     "data": {
      "text/plain": [
       "<tf.Tensor: id=467, shape=(3,), dtype=float32, numpy=array([2., 4., 8.], dtype=float32)>"
      ]
     },
     "execution_count": 98,
     "metadata": {},
     "output_type": "execute_result"
    }
   ],
   "source": [
    "x = tf.constant([1.,2.,3.])\n",
    "# 指数运算\n",
    "2**x "
   ]
  },
  {
   "cell_type": "code",
   "execution_count": 99,
   "metadata": {},
   "outputs": [
    {
     "data": {
      "text/plain": [
       "<tf.Tensor: id=469, shape=(), dtype=float32, numpy=2.7182817>"
      ]
     },
     "execution_count": 99,
     "metadata": {},
     "output_type": "execute_result"
    }
   ],
   "source": [
    "# 自然指数运算\n",
    "tf.exp(1.)"
   ]
  },
  {
   "cell_type": "code",
   "execution_count": 100,
   "metadata": {},
   "outputs": [
    {
     "data": {
      "text/plain": [
       "<tf.Tensor: id=472, shape=(), dtype=float32, numpy=3.0>"
      ]
     },
     "execution_count": 100,
     "metadata": {},
     "output_type": "execute_result"
    }
   ],
   "source": [
    "x = tf.exp(3.)\n",
    "# 对数运算\n",
    "tf.math.log(x) "
   ]
  },
  {
   "cell_type": "code",
   "execution_count": 101,
   "metadata": {},
   "outputs": [
    {
     "data": {
      "text/plain": [
       "<tf.Tensor: id=479, shape=(2,), dtype=float32, numpy=array([1., 2.], dtype=float32)>"
      ]
     },
     "execution_count": 101,
     "metadata": {},
     "output_type": "execute_result"
    }
   ],
   "source": [
    "x = tf.constant([1.,2.])\n",
    "x = 10**x\n",
    "# 换底公式\n",
    "tf.math.log(x)/tf.math.log(10.) "
   ]
  },
  {
   "cell_type": "markdown",
   "metadata": {},
   "source": [
    "### 矩阵相乘运算"
   ]
  },
  {
   "cell_type": "code",
   "execution_count": 102,
   "metadata": {},
   "outputs": [
    {
     "data": {
      "text/plain": [
       "<tf.Tensor: id=492, shape=(4, 3, 28, 2), dtype=float32, numpy=\n",
       "array([[[[ 5.94066811e+00,  3.84594083e+00],\n",
       "         [ 3.57476473e+00,  7.56964827e+00],\n",
       "         [ 2.49250174e+00,  1.75833244e+01],\n",
       "         [-7.17508793e+00,  1.18989730e+00],\n",
       "         [-4.78235865e+00, -5.54538298e+00],\n",
       "         [ 6.75838518e+00, -5.58561420e+00],\n",
       "         [-6.56471252e+00, -3.39151645e+00],\n",
       "         [-9.42782402e+00, -1.00086164e+00],\n",
       "         [ 2.36318350e+00,  2.80893636e+00],\n",
       "         [-2.47026467e+00, -4.17602777e+00],\n",
       "         [-1.23877680e+00, -4.58212948e+00],\n",
       "         [-1.00558939e+01, -8.20680714e+00],\n",
       "         [ 6.02279329e+00,  1.01278186e-01],\n",
       "         [-7.33531809e+00, -2.63454843e+00],\n",
       "         [ 2.67623734e+00, -1.01776285e+01],\n",
       "         [ 3.92479748e-01, -1.58483016e+00],\n",
       "         [ 2.57540178e+00, -3.39094019e+00],\n",
       "         [ 5.56058550e+00, -9.60079575e+00],\n",
       "         [-4.30204344e+00, -2.94906044e+00],\n",
       "         [ 9.48721790e+00,  7.12444448e+00],\n",
       "         [ 2.47954512e+00,  1.05537872e+01],\n",
       "         [-7.91947699e+00,  1.99118865e+00],\n",
       "         [ 3.01759601e-01,  1.23558922e+01],\n",
       "         [-5.08238268e+00, -2.21716595e+00],\n",
       "         [ 6.47937679e+00,  7.41194582e+00],\n",
       "         [-3.97838831e+00,  2.76203322e+00],\n",
       "         [ 1.18856877e-01,  3.20480514e+00],\n",
       "         [ 8.81935883e+00,  1.60826836e+01]],\n",
       "\n",
       "        [[-2.33970737e+00,  2.57661748e+00],\n",
       "         [-1.00121441e+01,  1.69747519e+00],\n",
       "         [ 2.89416718e+00, -7.86071014e+00],\n",
       "         [ 4.26986980e+00, -5.91995668e+00],\n",
       "         [-1.36624205e+00, -2.21798992e+00],\n",
       "         [-1.01525078e+01, -3.63638949e+00],\n",
       "         [ 1.74271965e+00, -1.89029658e+00],\n",
       "         [ 9.65089989e+00,  8.23531747e-01],\n",
       "         [-1.65585613e+01,  4.96549177e+00],\n",
       "         [-3.88802862e+00, -1.52845850e+01],\n",
       "         [ 1.29455948e+00,  5.90724802e+00],\n",
       "         [ 3.49512100e+00,  1.07609510e+01],\n",
       "         [ 5.67000818e+00,  8.70019734e-01],\n",
       "         [-3.52532029e+00, -4.76188278e+00],\n",
       "         [-9.68293762e+00,  5.69275761e+00],\n",
       "         [-6.48408365e+00,  8.23022652e+00],\n",
       "         [ 8.71245575e+00, -3.03658891e+00],\n",
       "         [-4.02679777e+00,  2.17344213e+00],\n",
       "         [-3.77650738e+00, -7.13703156e+00],\n",
       "         [ 8.15926456e+00,  6.96905184e+00],\n",
       "         [ 7.61416483e+00,  1.83783948e+00],\n",
       "         [ 1.81492958e+01,  1.22490478e+00],\n",
       "         [ 4.34814596e+00, -5.80420160e+00],\n",
       "         [ 6.48589993e+00,  1.70369549e+01],\n",
       "         [ 8.75505352e+00, -8.22386360e+00],\n",
       "         [ 3.34382915e+00,  1.31908536e+00],\n",
       "         [-9.29640651e-01,  1.34467518e+00],\n",
       "         [ 7.69318819e+00,  7.96496725e+00]],\n",
       "\n",
       "        [[-2.80345869e+00, -2.65045142e+00],\n",
       "         [ 3.52131534e+00, -2.11940169e+00],\n",
       "         [-5.96947491e-01, -4.03717136e+00],\n",
       "         [-6.82457495e+00, -5.46168518e+00],\n",
       "         [ 3.02162099e+00,  7.92106688e-02],\n",
       "         [-4.19621801e+00,  5.06956577e+00],\n",
       "         [ 4.89445591e+00, -2.70491242e+00],\n",
       "         [-1.75414491e+00, -8.47132802e-01],\n",
       "         [-1.00244827e+01,  2.02534986e+00],\n",
       "         [ 1.47262406e+00,  4.45918036e+00],\n",
       "         [ 1.38707006e+00,  7.63038397e+00],\n",
       "         [ 4.30383348e+00, -6.19572997e-01],\n",
       "         [ 2.04069853e+00,  8.30622959e+00],\n",
       "         [-6.17434406e+00,  5.29481792e+00],\n",
       "         [ 2.50975156e+00, -1.96661979e-01],\n",
       "         [-1.44701219e+00, -4.15619469e+00],\n",
       "         [-1.71173489e+00, -7.15177417e-01],\n",
       "         [ 7.30849266e+00, -2.37382722e+00],\n",
       "         [ 3.07846165e+00, -4.55785185e-01],\n",
       "         [-3.34182477e+00,  3.67276716e+00],\n",
       "         [ 3.75567937e+00, -9.65675950e-01],\n",
       "         [-2.24021506e+00, -3.93995568e-02],\n",
       "         [-4.39891577e+00,  2.15843606e+00],\n",
       "         [ 1.70282209e+00,  3.48805356e+00],\n",
       "         [ 6.39230633e+00, -7.85699069e-01],\n",
       "         [ 2.54652286e+00,  3.25668859e+00],\n",
       "         [ 3.87924266e+00, -4.66601038e+00],\n",
       "         [-4.95684910e+00, -5.69727898e+00]]],\n",
       "\n",
       "\n",
       "       [[[ 1.33258688e+00, -8.75974178e+00],\n",
       "         [-6.10091782e+00, -9.85734761e-02],\n",
       "         [ 7.03230262e-01,  2.49453545e+00],\n",
       "         [-8.40584469e+00, -2.42339873e+00],\n",
       "         [-6.21034288e+00, -1.84699011e+00],\n",
       "         [-5.26276302e+00, -3.86577249e+00],\n",
       "         [-3.81926942e+00, -2.16603780e+00],\n",
       "         [-4.08509523e-01,  3.90459847e+00],\n",
       "         [-5.58912706e+00,  3.65411544e+00],\n",
       "         [ 1.11004753e+01,  4.24367815e-01],\n",
       "         [ 3.55143571e+00, -7.28910255e+00],\n",
       "         [ 6.59817839e+00, -9.10199523e-01],\n",
       "         [ 7.19613409e+00, -3.07115960e+00],\n",
       "         [-3.58556747e+00,  2.39137650e+00],\n",
       "         [ 3.32797241e+00, -2.33987856e+00],\n",
       "         [-7.34485149e+00,  3.05246091e+00],\n",
       "         [ 4.71286106e+00,  1.02734292e+00],\n",
       "         [-1.47264528e+00, -5.96945763e+00],\n",
       "         [-5.56574821e+00, -6.88306999e+00],\n",
       "         [ 1.16265285e+00,  5.74974120e-01],\n",
       "         [ 1.12053156e+00,  2.59836626e+00],\n",
       "         [-9.63845539e+00,  6.69299507e+00],\n",
       "         [-2.65090036e+00,  7.67843008e+00],\n",
       "         [ 8.35859680e+00, -5.65486372e-01],\n",
       "         [ 6.87532234e+00, -7.71102142e+00],\n",
       "         [-3.29501510e+00, -8.61103535e+00],\n",
       "         [-2.70915174e+00,  8.35153675e+00],\n",
       "         [-1.96204588e-01, -4.90003347e+00]],\n",
       "\n",
       "        [[ 3.99107742e+00,  3.01900935e+00],\n",
       "         [ 6.19572496e+00,  2.56305027e+00],\n",
       "         [ 2.19103026e+00, -4.92702150e+00],\n",
       "         [ 2.44851217e-01,  2.39065599e+00],\n",
       "         [-5.57552195e+00,  1.10447025e+01],\n",
       "         [ 2.43480468e+00, -2.35767722e+00],\n",
       "         [ 7.94000673e+00, -4.20432627e-01],\n",
       "         [-8.94154072e+00, -2.39220238e+00],\n",
       "         [-4.20671892e+00, -6.38980627e-01],\n",
       "         [ 9.41175938e+00,  8.13086033e+00],\n",
       "         [ 2.34411931e+00,  4.47608995e+00],\n",
       "         [ 1.99581254e+00,  6.82517862e+00],\n",
       "         [ 4.27039146e+00,  1.16151762e+01],\n",
       "         [-2.52590775e-01, -1.74986029e+00],\n",
       "         [ 5.45246553e+00,  1.22457457e+00],\n",
       "         [-7.17345905e+00, -2.81148672e-01],\n",
       "         [ 2.48358989e+00, -2.59709209e-01],\n",
       "         [-2.59892893e+00, -6.26117754e+00],\n",
       "         [ 7.53374258e-03,  2.66689444e+00],\n",
       "         [ 2.86393857e+00, -5.02969217e+00],\n",
       "         [ 7.88403630e-01, -1.25900450e+01],\n",
       "         [-6.16103077e+00,  5.55195153e-01],\n",
       "         [-8.40712738e+00,  3.74163151e+00],\n",
       "         [-3.84605122e+00, -4.54311562e+00],\n",
       "         [-4.78401005e-01,  5.89147151e-01],\n",
       "         [ 4.44826508e+00,  4.29246998e+00],\n",
       "         [ 4.22314644e+00,  8.30781555e+00],\n",
       "         [ 1.21826448e+01,  5.14583874e+00]],\n",
       "\n",
       "        [[ 6.48532057e+00, -6.35982633e-01],\n",
       "         [ 1.83182824e+00,  4.42646646e+00],\n",
       "         [-5.43195534e+00,  2.13548040e+00],\n",
       "         [-1.45308173e+00,  4.46344042e+00],\n",
       "         [ 1.16677845e+00, -1.23903065e+01],\n",
       "         [ 6.80977726e+00, -2.47515893e+00],\n",
       "         [-5.23991680e+00,  4.64291143e+00],\n",
       "         [-1.37983780e+01,  1.38113916e+00],\n",
       "         [-5.43012953e+00, -4.98898220e+00],\n",
       "         [ 1.57108479e+01,  3.32885087e-01],\n",
       "         [-2.70425367e+00, -1.18117285e+00],\n",
       "         [ 4.00708199e+00, -1.52018766e+01],\n",
       "         [-2.40076375e+00,  3.84067035e+00],\n",
       "         [ 1.26680546e+01,  9.17221832e+00],\n",
       "         [ 2.09152055e+00, -1.59176660e+00],\n",
       "         [ 2.15051913e+00, -5.68636084e+00],\n",
       "         [-2.88741660e+00, -7.93393135e+00],\n",
       "         [-3.90594316e+00,  5.44125986e+00],\n",
       "         [ 5.15532255e+00,  1.16381655e+01],\n",
       "         [ 6.47509193e+00,  2.53157187e+00],\n",
       "         [ 9.14002609e+00,  2.59512925e+00],\n",
       "         [ 6.49558640e+00, -9.53008175e+00],\n",
       "         [ 9.97794437e+00, -9.76705790e-01],\n",
       "         [ 1.84964907e+00,  4.64113331e+00],\n",
       "         [ 3.09359741e+00, -5.26638842e+00],\n",
       "         [ 5.68564081e+00,  1.39419460e+00],\n",
       "         [-1.60172405e+01,  3.53654075e+00],\n",
       "         [ 6.93902731e+00, -1.49315193e-01]]],\n",
       "\n",
       "\n",
       "       [[[-7.18929100e+00,  3.30105424e+00],\n",
       "         [-1.17059636e+00,  5.50173616e+00],\n",
       "         [-5.95954478e-01,  9.10323906e+00],\n",
       "         [-6.86624193e+00,  9.35238361e+00],\n",
       "         [-7.88141847e-01, -7.18538857e+00],\n",
       "         [ 6.73504925e+00, -8.48199749e+00],\n",
       "         [ 6.74206376e-01, -5.23819780e+00],\n",
       "         [ 5.24504137e+00,  1.47815638e+01],\n",
       "         [ 5.97668409e+00,  7.65466118e+00],\n",
       "         [-3.47366047e+00,  6.18247414e+00],\n",
       "         [-4.18600941e+00,  6.16968536e+00],\n",
       "         [ 1.04684448e+00,  2.72967124e+00],\n",
       "         [ 8.98423386e+00,  7.51307249e-01],\n",
       "         [-4.86989546e+00, -8.99261534e-01],\n",
       "         [ 6.39783764e+00,  1.75583136e+00],\n",
       "         [ 5.97589445e+00,  7.13570714e-01],\n",
       "         [-2.63231134e+00, -2.58274436e+00],\n",
       "         [ 1.72470617e+00, -3.78663206e+00],\n",
       "         [-6.55441806e-02,  7.27815390e+00],\n",
       "         [-2.61882758e+00,  1.56462085e+00],\n",
       "         [-1.35015526e+01, -8.23465061e+00],\n",
       "         [ 2.21001601e+00,  2.00214696e+00],\n",
       "         [ 2.71330452e+00,  3.43675232e+00],\n",
       "         [-4.21250439e+00, -4.10717916e+00],\n",
       "         [ 8.72293532e-01,  1.24959707e+00],\n",
       "         [-6.52026832e-01,  1.07373209e+01],\n",
       "         [ 4.45703506e+00,  1.87164223e+00],\n",
       "         [-1.00818472e+01,  3.58339548e+00]],\n",
       "\n",
       "        [[-1.10851650e+01,  8.47899151e+00],\n",
       "         [-1.31492287e-01, -1.85261679e+00],\n",
       "         [ 9.92464638e+00, -9.82717800e+00],\n",
       "         [ 2.73668218e+00, -2.71039939e+00],\n",
       "         [ 3.74864936e+00,  8.29800606e+00],\n",
       "         [-8.29015732e+00,  9.90422249e+00],\n",
       "         [-3.68424296e+00,  2.88094258e+00],\n",
       "         [-7.70705175e+00,  4.85656738e+00],\n",
       "         [-9.17906880e-01,  1.91373491e+00],\n",
       "         [ 5.47559404e+00,  1.95975399e+00],\n",
       "         [ 8.91886139e+00, -6.65261686e-01],\n",
       "         [ 3.29026604e+00,  2.09263468e+00],\n",
       "         [-7.33302069e+00,  2.63003635e+00],\n",
       "         [ 4.22297859e+00, -7.45474637e-01],\n",
       "         [-1.04360497e+00,  3.34730434e+00],\n",
       "         [ 1.75239038e+00, -5.08136654e+00],\n",
       "         [-3.07661676e+00, -2.73438978e+00],\n",
       "         [ 2.01510787e+00, -3.52903223e+00],\n",
       "         [-2.27747488e+00,  1.21521006e+01],\n",
       "         [ 7.30433798e+00, -4.76327991e+00],\n",
       "         [-1.02836781e+01,  5.96425724e+00],\n",
       "         [ 3.30051541e+00, -2.49315381e+00],\n",
       "         [ 7.56244326e+00,  2.18225613e-01],\n",
       "         [ 5.94613791e+00, -9.54822540e+00],\n",
       "         [-1.30944955e+00, -7.14244664e-01],\n",
       "         [ 2.68279028e+00, -2.23740745e+00],\n",
       "         [ 7.14238214e+00, -1.09955873e+01],\n",
       "         [ 5.88385761e-01,  1.03679526e+00]],\n",
       "\n",
       "        [[-3.32024384e+00, -5.11808109e+00],\n",
       "         [-1.49302387e+00,  1.00572166e+01],\n",
       "         [ 6.02704382e+00,  7.20865107e+00],\n",
       "         [ 5.97094476e-01, -3.07471871e+00],\n",
       "         [ 1.34278259e+01, -9.10323143e-01],\n",
       "         [-1.62327785e+01, -7.93335962e+00],\n",
       "         [-9.28026295e+00,  3.48349071e+00],\n",
       "         [-7.44598150e+00, -9.86304998e-01],\n",
       "         [-7.34766150e+00,  3.51259089e+00],\n",
       "         [-6.23702478e+00, -8.55857086e+00],\n",
       "         [ 5.65649128e+00,  4.24782038e+00],\n",
       "         [-1.84426522e+00, -3.43526030e+00],\n",
       "         [-1.84775102e+00,  3.63200474e+00],\n",
       "         [-6.83936071e+00, -1.27902975e+01],\n",
       "         [ 5.73480988e+00,  1.13094673e+01],\n",
       "         [-4.27740991e-01,  4.90222335e-01],\n",
       "         [ 1.04534702e+01, -3.05221605e+00],\n",
       "         [-5.17237329e+00, -1.14704103e+01],\n",
       "         [ 1.79792845e+00,  2.65266627e-01],\n",
       "         [ 1.21372232e+01,  1.06715164e+01],\n",
       "         [ 2.33333588e+00, -6.77297652e-01],\n",
       "         [-1.75457358e-01,  7.56295264e-01],\n",
       "         [-6.54605627e+00,  2.52816486e+00],\n",
       "         [-4.54082996e-01,  1.10079908e+01],\n",
       "         [-3.67263436e+00,  2.89138603e+00],\n",
       "         [ 6.81544065e+00, -5.52938998e-01],\n",
       "         [-2.51358581e+00,  1.08186734e+00],\n",
       "         [ 4.72951412e+00, -2.81993914e+00]]],\n",
       "\n",
       "\n",
       "       [[[ 8.20050526e+00, -5.98280191e+00],\n",
       "         [ 6.06798828e-01, -6.27183867e+00],\n",
       "         [-4.74388218e+00,  5.72936058e+00],\n",
       "         [ 2.02812523e-01, -5.28682756e+00],\n",
       "         [ 1.05170832e+01,  4.30101824e+00],\n",
       "         [ 4.17158270e+00,  5.01930475e+00],\n",
       "         [-5.55380011e+00, -1.78225553e+00],\n",
       "         [ 5.02252460e-01,  4.45906192e-01],\n",
       "         [-1.44753706e+00, -6.01499844e+00],\n",
       "         [ 8.66110420e+00,  3.02415109e+00],\n",
       "         [-6.66111088e+00,  1.57797068e-01],\n",
       "         [ 6.97235155e+00,  5.58357859e+00],\n",
       "         [ 1.54070127e+00, -1.77713609e+00],\n",
       "         [-9.85171700e+00,  1.10963821e+01],\n",
       "         [ 1.20136149e-01,  3.25389123e+00],\n",
       "         [-6.79336786e+00,  2.65310574e+00],\n",
       "         [ 4.80958366e+00,  8.47454834e+00],\n",
       "         [-4.81797552e+00, -5.17413950e+00],\n",
       "         [-1.29876405e-01, -2.66575873e-01],\n",
       "         [-7.65322447e+00,  7.81403899e-01],\n",
       "         [ 4.60446358e-01,  1.30745602e+00],\n",
       "         [ 6.40043783e+00, -6.71082449e+00],\n",
       "         [-4.64343739e+00,  1.78153634e+00],\n",
       "         [-9.59824848e+00,  7.27079248e+00],\n",
       "         [ 5.30858707e+00, -7.11901951e+00],\n",
       "         [ 2.60333276e+00,  7.50404978e+00],\n",
       "         [ 8.46746635e+00, -1.94782388e+00],\n",
       "         [ 7.21169138e+00,  5.71280622e+00]],\n",
       "\n",
       "        [[ 4.90035057e+00,  2.25950956e-01],\n",
       "         [-2.49490094e+00,  1.98009938e-01],\n",
       "         [ 7.67227268e+00, -4.68840659e-01],\n",
       "         [ 1.73631442e+00,  9.97248936e+00],\n",
       "         [ 6.74640477e-01, -2.30717349e+00],\n",
       "         [ 1.71880400e+00, -4.04764986e+00],\n",
       "         [-3.87743592e+00,  7.25753117e+00],\n",
       "         [-1.09051239e+00,  6.36070299e+00],\n",
       "         [ 3.97009516e+00,  5.07461929e+00],\n",
       "         [-2.27105546e+00,  1.19116175e+00],\n",
       "         [-6.61722231e+00,  6.12489510e+00],\n",
       "         [-4.52272797e+00, -8.73097992e+00],\n",
       "         [-5.18817282e+00, -1.13741512e+01],\n",
       "         [-1.63266993e+00,  7.16835451e+00],\n",
       "         [-3.03177547e+00,  1.85412884e+01],\n",
       "         [-1.80887878e+00, -1.10917282e+01],\n",
       "         [-1.27332354e+00, -6.88772321e-01],\n",
       "         [-6.78876257e+00, -6.57564974e+00],\n",
       "         [ 1.65638840e+00,  5.59459209e+00],\n",
       "         [ 2.90860677e+00, -5.46951866e+00],\n",
       "         [-7.63600826e+00, -3.67806530e+00],\n",
       "         [-2.12396073e+00,  2.12925766e-02],\n",
       "         [ 1.18528342e+00, -9.18113327e+00],\n",
       "         [-2.00872993e+00,  8.86118293e-01],\n",
       "         [ 8.25281143e-01,  2.29016666e+01],\n",
       "         [ 7.50159860e-01, -1.68998566e+01],\n",
       "         [ 4.83579874e+00,  3.67197847e+00],\n",
       "         [-5.67809534e+00, -1.09673195e+01]],\n",
       "\n",
       "        [[-8.75671196e+00, -5.08040488e-01],\n",
       "         [ 2.23630333e+00, -6.91557074e+00],\n",
       "         [ 6.03214025e+00,  3.29064846e+00],\n",
       "         [ 1.23174696e+01, -3.28128719e+00],\n",
       "         [-1.25596333e+00,  4.11266851e+00],\n",
       "         [-3.91043496e+00, -1.33198919e+01],\n",
       "         [ 1.96025431e+00, -1.40980792e+00],\n",
       "         [ 9.45727825e+00,  1.61537182e+00],\n",
       "         [ 5.66380882e+00, -5.34462261e+00],\n",
       "         [ 1.03472452e+01,  1.37610435e+00],\n",
       "         [-4.32462454e+00, -6.18729830e+00],\n",
       "         [-2.99593830e+00, -1.25520287e+01],\n",
       "         [-9.65981388e+00,  1.05706000e+00],\n",
       "         [-9.83938885e+00,  3.65101171e+00],\n",
       "         [ 2.71773648e+00,  2.42018604e+00],\n",
       "         [-9.22097111e+00,  1.09422362e+00],\n",
       "         [ 1.71672306e+01,  3.73563933e+00],\n",
       "         [ 5.50912285e+00, -4.23363495e+00],\n",
       "         [ 5.93022823e+00,  1.07515173e+01],\n",
       "         [ 7.75508404e+00,  5.95092297e-01],\n",
       "         [-3.15411830e+00, -3.25642228e+00],\n",
       "         [ 2.05686398e+01,  4.23722315e+00],\n",
       "         [-4.18547010e+00, -8.88885021e+00],\n",
       "         [ 5.58372164e+00, -1.35370409e+00],\n",
       "         [-6.81235838e+00, -5.77718973e+00],\n",
       "         [ 6.28782845e+00, -1.45514917e+01],\n",
       "         [ 6.13825798e+00, -3.82731986e+00],\n",
       "         [ 6.53587914e+00,  1.15988379e+01]]]], dtype=float32)>"
      ]
     },
     "execution_count": 102,
     "metadata": {},
     "output_type": "execute_result"
    }
   ],
   "source": [
    "a = tf.random.normal([4,3,28,32])\n",
    "b = tf.random.normal([4,3,32,2])\n",
    "# 批量形式的矩阵相乘\n",
    "a@b"
   ]
  },
  {
   "cell_type": "code",
   "execution_count": 103,
   "metadata": {
    "scrolled": true
   },
   "outputs": [
    {
     "data": {
      "text/plain": [
       "<tf.Tensor: id=505, shape=(4, 28, 16), dtype=float32, numpy=\n",
       "array([[[-2.84560680e+00,  7.30936241e+00, -1.03762007e+00, ...,\n",
       "          1.82498300e+00, -8.35795021e+00,  1.42563486e+00],\n",
       "        [-7.58373737e+00, -1.02390079e+01, -1.14226131e+01, ...,\n",
       "         -1.22444427e+00,  1.84023166e+00,  1.21027775e+01],\n",
       "        [ 6.34778833e+00,  7.68865585e-01,  6.99941516e-01, ...,\n",
       "         -2.39015055e+00,  1.90107465e+00,  7.44709671e-01],\n",
       "        ...,\n",
       "        [ 5.44278765e+00,  1.07757645e+01, -5.84262323e+00, ...,\n",
       "          3.85940599e+00, -1.17176085e+01, -1.01847738e-01],\n",
       "        [-1.73742599e+01, -1.70520759e+00,  2.86395526e+00, ...,\n",
       "          1.16156511e+01,  8.45351982e+00, -1.32909698e+01],\n",
       "        [ 3.52394772e+00,  5.09220362e-01, -4.44947624e+00, ...,\n",
       "          5.67079830e+00,  1.08710563e+00,  1.13338366e+01]],\n",
       "\n",
       "       [[ 1.06613169e+01, -9.25686836e+00,  4.69081926e+00, ...,\n",
       "          4.33271646e+00,  1.38469667e+01, -7.73081005e-01],\n",
       "        [ 3.11241174e+00,  8.71088505e+00,  4.94013500e+00, ...,\n",
       "          3.71232152e+00, -5.06175280e+00, -9.28459167e+00],\n",
       "        [ 1.10615702e+01, -2.59359074e+00, -8.79925537e+00, ...,\n",
       "          9.24328804e+00,  1.01634922e+01, -1.01602955e+01],\n",
       "        ...,\n",
       "        [ 2.11383939e+00,  1.74995565e+00, -5.87871981e+00, ...,\n",
       "         -4.80365753e+00, -7.57206821e+00,  5.70350699e-02],\n",
       "        [ 1.80058670e+01,  2.30226421e+00, -1.95376797e+01, ...,\n",
       "          5.79343176e+00,  1.01402197e+01, -8.54149628e+00],\n",
       "        [ 1.95818591e+00, -9.80289173e+00,  1.38454256e+01, ...,\n",
       "          7.79847145e+00,  1.83651781e+00,  1.09786615e+01]],\n",
       "\n",
       "       [[ 5.94575834e+00, -1.74468231e+00, -1.68514207e-01, ...,\n",
       "         -2.95697212e+00, -4.11351860e-01,  3.46648169e+00],\n",
       "        [ 1.04100523e+01,  7.92903900e+00, -1.01085768e+01, ...,\n",
       "         -2.99535036e+00, -8.26858521e+00,  3.02721810e+00],\n",
       "        [ 3.07596374e+00,  8.67362440e-01, -3.29853058e-01, ...,\n",
       "          1.67538077e-01, -1.97555962e+01,  1.00935049e+01],\n",
       "        ...,\n",
       "        [-5.16204166e+00,  6.03805828e+00,  2.32529402e+00, ...,\n",
       "          8.71054173e+00,  6.24805546e+00,  7.77875280e+00],\n",
       "        [-2.66515517e+00,  5.07965326e+00,  1.26243517e-01, ...,\n",
       "          1.24152565e+01, -1.06272821e+01,  8.88977718e+00],\n",
       "        [-3.07247639e+00, -9.30325747e-01, -2.83868408e+00, ...,\n",
       "         -1.54441273e+00,  9.44011593e+00,  1.17989457e+00]],\n",
       "\n",
       "       [[ 8.70704460e+00,  1.15100764e-01, -2.23785162e+00, ...,\n",
       "          1.37186325e+00, -1.25449219e+01, -1.46815691e+01],\n",
       "        [ 3.66860676e+00, -8.37224579e+00, -4.02332020e+00, ...,\n",
       "          9.44362068e+00, -7.49879360e-01, -9.19219077e-01],\n",
       "        [-6.82979682e-03,  1.53174973e+01, -3.16408753e+00, ...,\n",
       "         -3.16340685e+00,  7.24362755e+00, -5.56108332e+00],\n",
       "        ...,\n",
       "        [ 4.12077045e+00, -6.00179052e+00,  7.87244940e+00, ...,\n",
       "         -3.15542674e+00, -3.55844021e+00,  7.45821953e-01],\n",
       "        [-2.20572925e+00,  6.71392393e+00, -6.10567391e-01, ...,\n",
       "          1.02193556e+01, -4.17076921e+00, -3.95810175e+00],\n",
       "        [-1.76615930e+00,  2.91476321e+00, -7.00315714e+00, ...,\n",
       "         -6.25477552e+00, -4.72187376e+00, -6.49947166e-01]]],\n",
       "      dtype=float32)>"
      ]
     },
     "execution_count": 103,
     "metadata": {},
     "output_type": "execute_result"
    }
   ],
   "source": [
    "a = tf.random.normal([4,28,32])\n",
    "b = tf.random.normal([32,16])\n",
    "# 先自动扩展，再矩阵相乘\n",
    "tf.matmul(a,b)"
   ]
  },
  {
   "cell_type": "markdown",
   "metadata": {},
   "source": [
    "## 前向传播实战"
   ]
  },
  {
   "cell_type": "code",
   "execution_count": 104,
   "metadata": {},
   "outputs": [],
   "source": [
    "import tensorflow.keras.datasets as datasets\n",
    "# 加载 MNIST 数据集\n",
    "(x, y), (x_val, y_val) = datasets.mnist.load_data()"
   ]
  },
  {
   "cell_type": "code",
   "execution_count": 105,
   "metadata": {},
   "outputs": [],
   "source": [
    "# 每层的张量都需要被优化，故使用 Variable 类型，并使用截断的正太分布初始化权值张量\n",
    "# 偏置向量初始化为 0 即可\n",
    "# 第一层的参数\n",
    "w1 = tf.Variable(tf.random.truncated_normal([784, 256], stddev=0.1))\n",
    "b1 = tf.Variable(tf.zeros([256]))\n",
    "# 第二层的参数\n",
    "w2 = tf.Variable(tf.random.truncated_normal([256, 128], stddev=0.1))\n",
    "b2 = tf.Variable(tf.zeros([128]))\n",
    "# 第三层的参数\n",
    "w3 = tf.Variable(tf.random.truncated_normal([128, 10], stddev=0.1))\n",
    "b3 = tf.Variable(tf.zeros([10]))"
   ]
  },
  {
   "cell_type": "code",
   "execution_count": 106,
   "metadata": {
    "scrolled": true
   },
   "outputs": [
    {
     "ename": "NotFoundError",
     "evalue": "Could not find valid device for node.\nNode:{{node MatMul}}\nAll kernels registered for op MatMul :\n  device='GPU'; T in [DT_FLOAT]\n  device='GPU'; T in [DT_DOUBLE]\n  device='GPU'; T in [DT_COMPLEX64]\n  device='GPU'; T in [DT_COMPLEX128]\n  device='GPU'; T in [DT_HALF]\n  device='CPU'; label='eigen'; T in [DT_FLOAT]\n  device='CPU'; label='eigen'; T in [DT_DOUBLE]\n  device='CPU'; label='eigen'; T in [DT_HALF]\n  device='CPU'; label='eigen'; T in [DT_BFLOAT16]\n  device='CPU'; label='eigen'; T in [DT_INT32]\n  device='CPU'; label='eigen'; T in [DT_INT64]\n  device='CPU'; label='eigen'; T in [DT_COMPLEX64]\n  device='CPU'; label='eigen'; T in [DT_COMPLEX128]\n  device='CPU'; T in [DT_FLOAT]\n  device='CPU'; T in [DT_DOUBLE]\n  device='CPU'; T in [DT_HALF]\n  device='CPU'; T in [DT_BFLOAT16]\n  device='CPU'; T in [DT_INT32]\n  device='CPU'; T in [DT_INT64]\n  device='CPU'; T in [DT_COMPLEX64]\n  device='CPU'; T in [DT_COMPLEX128]\n  device='GPU'; label='cublas'; T in [DT_FLOAT]\n  device='GPU'; label='cublas'; T in [DT_DOUBLE]\n  device='GPU'; label='cublas'; T in [DT_COMPLEX64]\n  device='GPU'; label='cublas'; T in [DT_COMPLEX128]\n  device='GPU'; label='cublas'; T in [DT_HALF]\n [Op:MatMul] name: matmul/",
     "output_type": "error",
     "traceback": [
      "\u001b[0;31m---------------------------------------------------------------------------\u001b[0m",
      "\u001b[0;31mNotFoundError\u001b[0m                             Traceback (most recent call last)",
      "\u001b[0;32m<ipython-input-106-9993bf21dc34>\u001b[0m in \u001b[0;36m<module>\u001b[0;34m()\u001b[0m\n\u001b[1;32m      2\u001b[0m \u001b[0mx\u001b[0m \u001b[0;34m=\u001b[0m \u001b[0mtf\u001b[0m\u001b[0;34m.\u001b[0m\u001b[0mreshape\u001b[0m\u001b[0;34m(\u001b[0m\u001b[0mx\u001b[0m\u001b[0;34m,\u001b[0m \u001b[0;34m(\u001b[0m\u001b[0;34m-\u001b[0m\u001b[0;36m1\u001b[0m\u001b[0;34m,\u001b[0m \u001b[0;36m28\u001b[0m\u001b[0;34m*\u001b[0m\u001b[0;36m28\u001b[0m\u001b[0;34m)\u001b[0m\u001b[0;34m)\u001b[0m\u001b[0;34m\u001b[0m\u001b[0;34m\u001b[0m\u001b[0m\n\u001b[1;32m      3\u001b[0m \u001b[0;31m# 第一层计算， [b, 784]@[784, 256] + [256] => [b, 256] + [256] => [b,256] + [b, 256]\u001b[0m\u001b[0;34m\u001b[0m\u001b[0;34m\u001b[0m\u001b[0;34m\u001b[0m\u001b[0m\n\u001b[0;32m----> 4\u001b[0;31m \u001b[0mh1\u001b[0m \u001b[0;34m=\u001b[0m \u001b[0mx\u001b[0m\u001b[0;34m@\u001b[0m\u001b[0mw1\u001b[0m \u001b[0;34m+\u001b[0m \u001b[0mtf\u001b[0m\u001b[0;34m.\u001b[0m\u001b[0mbroadcast_to\u001b[0m\u001b[0;34m(\u001b[0m\u001b[0mb1\u001b[0m\u001b[0;34m,\u001b[0m \u001b[0;34m(\u001b[0m\u001b[0mx\u001b[0m\u001b[0;34m.\u001b[0m\u001b[0mshape\u001b[0m\u001b[0;34m[\u001b[0m\u001b[0;36m0\u001b[0m\u001b[0;34m]\u001b[0m\u001b[0;34m,\u001b[0m \u001b[0;36m256\u001b[0m\u001b[0;34m)\u001b[0m\u001b[0;34m)\u001b[0m\u001b[0;34m\u001b[0m\u001b[0;34m\u001b[0m\u001b[0m\n\u001b[0m\u001b[1;32m      5\u001b[0m \u001b[0mh1\u001b[0m \u001b[0;34m=\u001b[0m \u001b[0mtf\u001b[0m\u001b[0;34m.\u001b[0m\u001b[0mnn\u001b[0m\u001b[0;34m.\u001b[0m\u001b[0mrelu\u001b[0m\u001b[0;34m(\u001b[0m\u001b[0mh1\u001b[0m\u001b[0;34m)\u001b[0m \u001b[0;31m# 通过激活函数\u001b[0m\u001b[0;34m\u001b[0m\u001b[0;34m\u001b[0m\u001b[0m\n",
      "\u001b[0;32mD:\\MyPythonWork\\deeplearning-with-tensorflow-notes\\venv\\lib\\site-packages\\tensorflow_core\\python\\ops\\math_ops.py\u001b[0m in \u001b[0;36mbinary_op_wrapper\u001b[0;34m(x, y)\u001b[0m\n\u001b[1;32m    910\u001b[0m           \u001b[0;32melse\u001b[0m\u001b[0;34m:\u001b[0m\u001b[0;34m\u001b[0m\u001b[0;34m\u001b[0m\u001b[0m\n\u001b[1;32m    911\u001b[0m             \u001b[0;32mraise\u001b[0m\u001b[0;34m\u001b[0m\u001b[0;34m\u001b[0m\u001b[0m\n\u001b[0;32m--> 912\u001b[0;31m       \u001b[0;32mreturn\u001b[0m \u001b[0mfunc\u001b[0m\u001b[0;34m(\u001b[0m\u001b[0mx\u001b[0m\u001b[0;34m,\u001b[0m \u001b[0my\u001b[0m\u001b[0;34m,\u001b[0m \u001b[0mname\u001b[0m\u001b[0;34m=\u001b[0m\u001b[0mname\u001b[0m\u001b[0;34m)\u001b[0m\u001b[0;34m\u001b[0m\u001b[0;34m\u001b[0m\u001b[0m\n\u001b[0m\u001b[1;32m    913\u001b[0m \u001b[0;34m\u001b[0m\u001b[0m\n\u001b[1;32m    914\u001b[0m   \u001b[0;32mdef\u001b[0m \u001b[0mbinary_op_wrapper_sparse\u001b[0m\u001b[0;34m(\u001b[0m\u001b[0msp_x\u001b[0m\u001b[0;34m,\u001b[0m \u001b[0my\u001b[0m\u001b[0;34m)\u001b[0m\u001b[0;34m:\u001b[0m\u001b[0;34m\u001b[0m\u001b[0;34m\u001b[0m\u001b[0m\n",
      "\u001b[0;32mD:\\MyPythonWork\\deeplearning-with-tensorflow-notes\\venv\\lib\\site-packages\\tensorflow_core\\python\\util\\dispatch.py\u001b[0m in \u001b[0;36mwrapper\u001b[0;34m(*args, **kwargs)\u001b[0m\n\u001b[1;32m    178\u001b[0m     \u001b[0;34m\"\"\"Call target, and fall back on dispatchers if there is a TypeError.\"\"\"\u001b[0m\u001b[0;34m\u001b[0m\u001b[0;34m\u001b[0m\u001b[0m\n\u001b[1;32m    179\u001b[0m     \u001b[0;32mtry\u001b[0m\u001b[0;34m:\u001b[0m\u001b[0;34m\u001b[0m\u001b[0;34m\u001b[0m\u001b[0m\n\u001b[0;32m--> 180\u001b[0;31m       \u001b[0;32mreturn\u001b[0m \u001b[0mtarget\u001b[0m\u001b[0;34m(\u001b[0m\u001b[0;34m*\u001b[0m\u001b[0margs\u001b[0m\u001b[0;34m,\u001b[0m \u001b[0;34m**\u001b[0m\u001b[0mkwargs\u001b[0m\u001b[0;34m)\u001b[0m\u001b[0;34m\u001b[0m\u001b[0;34m\u001b[0m\u001b[0m\n\u001b[0m\u001b[1;32m    181\u001b[0m     \u001b[0;32mexcept\u001b[0m \u001b[0;34m(\u001b[0m\u001b[0mTypeError\u001b[0m\u001b[0;34m,\u001b[0m \u001b[0mValueError\u001b[0m\u001b[0;34m)\u001b[0m\u001b[0;34m:\u001b[0m\u001b[0;34m\u001b[0m\u001b[0;34m\u001b[0m\u001b[0m\n\u001b[1;32m    182\u001b[0m       \u001b[0;31m# Note: convert_to_eager_tensor currently raises a ValueError, not a\u001b[0m\u001b[0;34m\u001b[0m\u001b[0;34m\u001b[0m\u001b[0;34m\u001b[0m\u001b[0m\n",
      "\u001b[0;32mD:\\MyPythonWork\\deeplearning-with-tensorflow-notes\\venv\\lib\\site-packages\\tensorflow_core\\python\\ops\\math_ops.py\u001b[0m in \u001b[0;36mmatmul\u001b[0;34m(a, b, transpose_a, transpose_b, adjoint_a, adjoint_b, a_is_sparse, b_is_sparse, name)\u001b[0m\n\u001b[1;32m   2763\u001b[0m     \u001b[0;32melse\u001b[0m\u001b[0;34m:\u001b[0m\u001b[0;34m\u001b[0m\u001b[0;34m\u001b[0m\u001b[0m\n\u001b[1;32m   2764\u001b[0m       return gen_math_ops.mat_mul(\n\u001b[0;32m-> 2765\u001b[0;31m           a, b, transpose_a=transpose_a, transpose_b=transpose_b, name=name)\n\u001b[0m\u001b[1;32m   2766\u001b[0m \u001b[0;34m\u001b[0m\u001b[0m\n\u001b[1;32m   2767\u001b[0m \u001b[0;34m\u001b[0m\u001b[0m\n",
      "\u001b[0;32mD:\\MyPythonWork\\deeplearning-with-tensorflow-notes\\venv\\lib\\site-packages\\tensorflow_core\\python\\ops\\gen_math_ops.py\u001b[0m in \u001b[0;36mmat_mul\u001b[0;34m(a, b, transpose_a, transpose_b, name)\u001b[0m\n\u001b[1;32m   6124\u001b[0m       \u001b[0;32melse\u001b[0m\u001b[0;34m:\u001b[0m\u001b[0;34m\u001b[0m\u001b[0;34m\u001b[0m\u001b[0m\n\u001b[1;32m   6125\u001b[0m         \u001b[0mmessage\u001b[0m \u001b[0;34m=\u001b[0m \u001b[0me\u001b[0m\u001b[0;34m.\u001b[0m\u001b[0mmessage\u001b[0m\u001b[0;34m\u001b[0m\u001b[0;34m\u001b[0m\u001b[0m\n\u001b[0;32m-> 6126\u001b[0;31m       \u001b[0m_six\u001b[0m\u001b[0;34m.\u001b[0m\u001b[0mraise_from\u001b[0m\u001b[0;34m(\u001b[0m\u001b[0m_core\u001b[0m\u001b[0;34m.\u001b[0m\u001b[0m_status_to_exception\u001b[0m\u001b[0;34m(\u001b[0m\u001b[0me\u001b[0m\u001b[0;34m.\u001b[0m\u001b[0mcode\u001b[0m\u001b[0;34m,\u001b[0m \u001b[0mmessage\u001b[0m\u001b[0;34m)\u001b[0m\u001b[0;34m,\u001b[0m \u001b[0;32mNone\u001b[0m\u001b[0;34m)\u001b[0m\u001b[0;34m\u001b[0m\u001b[0;34m\u001b[0m\u001b[0m\n\u001b[0m\u001b[1;32m   6127\u001b[0m   \u001b[0;31m# Add nodes to the TensorFlow graph.\u001b[0m\u001b[0;34m\u001b[0m\u001b[0;34m\u001b[0m\u001b[0;34m\u001b[0m\u001b[0m\n\u001b[1;32m   6128\u001b[0m   \u001b[0;32mif\u001b[0m \u001b[0mtranspose_a\u001b[0m \u001b[0;32mis\u001b[0m \u001b[0;32mNone\u001b[0m\u001b[0;34m:\u001b[0m\u001b[0;34m\u001b[0m\u001b[0;34m\u001b[0m\u001b[0m\n",
      "\u001b[0;32mD:\\MyPythonWork\\deeplearning-with-tensorflow-notes\\venv\\lib\\site-packages\\six.py\u001b[0m in \u001b[0;36mraise_from\u001b[0;34m(value, from_value)\u001b[0m\n",
      "\u001b[0;31mNotFoundError\u001b[0m: Could not find valid device for node.\nNode:{{node MatMul}}\nAll kernels registered for op MatMul :\n  device='GPU'; T in [DT_FLOAT]\n  device='GPU'; T in [DT_DOUBLE]\n  device='GPU'; T in [DT_COMPLEX64]\n  device='GPU'; T in [DT_COMPLEX128]\n  device='GPU'; T in [DT_HALF]\n  device='CPU'; label='eigen'; T in [DT_FLOAT]\n  device='CPU'; label='eigen'; T in [DT_DOUBLE]\n  device='CPU'; label='eigen'; T in [DT_HALF]\n  device='CPU'; label='eigen'; T in [DT_BFLOAT16]\n  device='CPU'; label='eigen'; T in [DT_INT32]\n  device='CPU'; label='eigen'; T in [DT_INT64]\n  device='CPU'; label='eigen'; T in [DT_COMPLEX64]\n  device='CPU'; label='eigen'; T in [DT_COMPLEX128]\n  device='CPU'; T in [DT_FLOAT]\n  device='CPU'; T in [DT_DOUBLE]\n  device='CPU'; T in [DT_HALF]\n  device='CPU'; T in [DT_BFLOAT16]\n  device='CPU'; T in [DT_INT32]\n  device='CPU'; T in [DT_INT64]\n  device='CPU'; T in [DT_COMPLEX64]\n  device='CPU'; T in [DT_COMPLEX128]\n  device='GPU'; label='cublas'; T in [DT_FLOAT]\n  device='GPU'; label='cublas'; T in [DT_DOUBLE]\n  device='GPU'; label='cublas'; T in [DT_COMPLEX64]\n  device='GPU'; label='cublas'; T in [DT_COMPLEX128]\n  device='GPU'; label='cublas'; T in [DT_HALF]\n [Op:MatMul] name: matmul/"
     ]
    }
   ],
   "source": [
    "# 改变视图， [b, 28, 28] => [b, 28*28]\n",
    "x = tf.reshape(x, (-1, 28*28))\n",
    "# 第一层计算， [b, 784]@[784, 256] + [256] => [b, 256] + [256] => [b,256] + [b, 256]\n",
    "h1 = x@w1 + tf.broadcast_to(b1, (x.shape[0], 256))\n",
    "h1 = tf.nn.relu(h1) # 通过激活函数"
   ]
  },
  {
   "cell_type": "code",
   "execution_count": null,
   "metadata": {},
   "outputs": [],
   "source": [
    "# 第二层计算， [b, 256] => [b, 128]\n",
    "h2 = h1@w2 + b2\n",
    "h2 = tf.nn.relu(h2)\n",
    "# 输出层计算， [b, 128] => [b, 10]\n",
    "out = h2@w3 + b3"
   ]
  },
  {
   "cell_type": "code",
   "execution_count": null,
   "metadata": {},
   "outputs": [],
   "source": [
    "# 计算网络输出与标签之间的均方差， mse = mean(sum(y-out)^2)\n",
    "# [b, 10]\n",
    "loss = tf.square(y_onehot - out)\n",
    "# 误差标量， mean: scalar\n",
    "loss = tf.reduce_mean(loss)"
   ]
  },
  {
   "cell_type": "code",
   "execution_count": null,
   "metadata": {},
   "outputs": [],
   "source": [
    "# 自动梯度，需要求梯度的张量有[w1, b1, w2, b2, w3, b3]\n",
    "grads = tape.gradient(loss, [w1, b1, w2, b2, w3, b3])"
   ]
  },
  {
   "cell_type": "code",
   "execution_count": null,
   "metadata": {},
   "outputs": [],
   "source": [
    "# 梯度更新， assign_sub 将当前值减去参数值，原地更新\n",
    "w1.assign_sub(lr * grads[0])\n",
    "b1.assign_sub(lr * grads[1])\n",
    "w2.assign_sub(lr * grads[2])\n",
    "b2.assign_sub(lr * grads[3])\n",
    "w3.assign_sub(lr * grads[4])\n",
    "b3.assign_sub(lr * grads[5])"
   ]
  }
 ],
 "metadata": {
  "kernelspec": {
   "display_name": "Python 3",
   "language": "python",
   "name": "python3"
  },
  "language_info": {
   "codemirror_mode": {
    "name": "ipython",
    "version": 3
   },
   "file_extension": ".py",
   "mimetype": "text/x-python",
   "name": "python",
   "nbconvert_exporter": "python",
   "pygments_lexer": "ipython3",
   "version": "3.7.2"
  },
  "toc": {
   "base_numbering": 1,
   "nav_menu": {},
   "number_sections": true,
   "sideBar": true,
   "skip_h1_title": false,
   "title_cell": "Table of Contents",
   "title_sidebar": "Contents",
   "toc_cell": false,
   "toc_position": {
    "height": "calc(100% - 180px)",
    "left": "10px",
    "top": "150px",
    "width": "273.188px"
   },
   "toc_section_display": true,
   "toc_window_display": true
  }
 },
 "nbformat": 4,
 "nbformat_minor": 1
}
